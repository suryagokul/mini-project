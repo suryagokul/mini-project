{
 "cells": [
  {
   "cell_type": "code",
   "execution_count": 3,
   "metadata": {},
   "outputs": [],
   "source": [
    "import pandas as pd\n",
    "\n",
    "import seaborn as sns\n",
    "\n",
    "import matplotlib.pyplot as plt\n",
    "\n",
    "%matplotlib inline\n",
    "\n",
    "import numpy as np"
   ]
  },
  {
   "cell_type": "code",
   "execution_count": 13,
   "metadata": {},
   "outputs": [],
   "source": [
    "reader = pd.read_json(\"RC_2015-01\", orient=\"records\", lines=True, chunksize=200000)"
   ]
  },
  {
   "cell_type": "code",
   "execution_count": 14,
   "metadata": {},
   "outputs": [
    {
     "data": {
      "text/plain": [
       "<pandas.io.json._json.JsonReader at 0x9805d20608>"
      ]
     },
     "execution_count": 14,
     "metadata": {},
     "output_type": "execute_result"
    }
   ],
   "source": [
    "reader"
   ]
  },
  {
   "cell_type": "code",
   "execution_count": 15,
   "metadata": {
    "scrolled": true
   },
   "outputs": [],
   "source": [
    "f= []\n",
    "for i in reader:\n",
    "    f.append(i)\n",
    "    break"
   ]
  },
  {
   "cell_type": "code",
   "execution_count": 16,
   "metadata": {},
   "outputs": [],
   "source": [
    "df = f[0]"
   ]
  },
  {
   "cell_type": "code",
   "execution_count": 17,
   "metadata": {
    "scrolled": true
   },
   "outputs": [
    {
     "data": {
      "text/html": [
       "<div>\n",
       "<style scoped>\n",
       "    .dataframe tbody tr th:only-of-type {\n",
       "        vertical-align: middle;\n",
       "    }\n",
       "\n",
       "    .dataframe tbody tr th {\n",
       "        vertical-align: top;\n",
       "    }\n",
       "\n",
       "    .dataframe thead th {\n",
       "        text-align: right;\n",
       "    }\n",
       "</style>\n",
       "<table border=\"1\" class=\"dataframe\">\n",
       "  <thead>\n",
       "    <tr style=\"text-align: right;\">\n",
       "      <th></th>\n",
       "      <th>score_hidden</th>\n",
       "      <th>name</th>\n",
       "      <th>link_id</th>\n",
       "      <th>body</th>\n",
       "      <th>downs</th>\n",
       "      <th>created_utc</th>\n",
       "      <th>score</th>\n",
       "      <th>author</th>\n",
       "      <th>distinguished</th>\n",
       "      <th>id</th>\n",
       "      <th>archived</th>\n",
       "      <th>parent_id</th>\n",
       "      <th>subreddit</th>\n",
       "      <th>author_flair_css_class</th>\n",
       "      <th>author_flair_text</th>\n",
       "      <th>gilded</th>\n",
       "      <th>retrieved_on</th>\n",
       "      <th>ups</th>\n",
       "      <th>controversiality</th>\n",
       "      <th>subreddit_id</th>\n",
       "      <th>edited</th>\n",
       "    </tr>\n",
       "  </thead>\n",
       "  <tbody>\n",
       "    <tr>\n",
       "      <th>0</th>\n",
       "      <td>False</td>\n",
       "      <td>t1_cnas8zv</td>\n",
       "      <td>t3_2qyr1a</td>\n",
       "      <td>Most of us have some family members like this....</td>\n",
       "      <td>0</td>\n",
       "      <td>1420070400</td>\n",
       "      <td>14</td>\n",
       "      <td>YoungModern</td>\n",
       "      <td>None</td>\n",
       "      <td>cnas8zv</td>\n",
       "      <td>False</td>\n",
       "      <td>t3_2qyr1a</td>\n",
       "      <td>exmormon</td>\n",
       "      <td>None</td>\n",
       "      <td>None</td>\n",
       "      <td>0</td>\n",
       "      <td>1425124282</td>\n",
       "      <td>14</td>\n",
       "      <td>0</td>\n",
       "      <td>t5_2r0gj</td>\n",
       "      <td>0</td>\n",
       "    </tr>\n",
       "    <tr>\n",
       "      <th>1</th>\n",
       "      <td>False</td>\n",
       "      <td>t1_cnas8zw</td>\n",
       "      <td>t3_2qv6c6</td>\n",
       "      <td>But Mill's career was way better. Bentham is l...</td>\n",
       "      <td>0</td>\n",
       "      <td>1420070400</td>\n",
       "      <td>3</td>\n",
       "      <td>RedCoatsForever</td>\n",
       "      <td>None</td>\n",
       "      <td>cnas8zw</td>\n",
       "      <td>False</td>\n",
       "      <td>t1_cnas2b6</td>\n",
       "      <td>CanadaPolitics</td>\n",
       "      <td>on</td>\n",
       "      <td>Ontario</td>\n",
       "      <td>0</td>\n",
       "      <td>1425124282</td>\n",
       "      <td>3</td>\n",
       "      <td>0</td>\n",
       "      <td>t5_2s4gt</td>\n",
       "      <td>0</td>\n",
       "    </tr>\n",
       "    <tr>\n",
       "      <th>2</th>\n",
       "      <td>False</td>\n",
       "      <td>t1_cnas8zx</td>\n",
       "      <td>t3_2qxefp</td>\n",
       "      <td>Mine uses a strait razor, and as much as i lov...</td>\n",
       "      <td>0</td>\n",
       "      <td>1420070400</td>\n",
       "      <td>1</td>\n",
       "      <td>vhisic</td>\n",
       "      <td>None</td>\n",
       "      <td>cnas8zx</td>\n",
       "      <td>False</td>\n",
       "      <td>t3_2qxefp</td>\n",
       "      <td>AdviceAnimals</td>\n",
       "      <td>None</td>\n",
       "      <td>None</td>\n",
       "      <td>0</td>\n",
       "      <td>1425124282</td>\n",
       "      <td>1</td>\n",
       "      <td>0</td>\n",
       "      <td>t5_2s7tt</td>\n",
       "      <td>0</td>\n",
       "    </tr>\n",
       "  </tbody>\n",
       "</table>\n",
       "</div>"
      ],
      "text/plain": [
       "   score_hidden        name    link_id  \\\n",
       "0         False  t1_cnas8zv  t3_2qyr1a   \n",
       "1         False  t1_cnas8zw  t3_2qv6c6   \n",
       "2         False  t1_cnas8zx  t3_2qxefp   \n",
       "\n",
       "                                                body  downs  created_utc  \\\n",
       "0  Most of us have some family members like this....      0   1420070400   \n",
       "1  But Mill's career was way better. Bentham is l...      0   1420070400   \n",
       "2  Mine uses a strait razor, and as much as i lov...      0   1420070400   \n",
       "\n",
       "   score           author distinguished       id  archived   parent_id  \\\n",
       "0     14      YoungModern          None  cnas8zv     False   t3_2qyr1a   \n",
       "1      3  RedCoatsForever          None  cnas8zw     False  t1_cnas2b6   \n",
       "2      1           vhisic          None  cnas8zx     False   t3_2qxefp   \n",
       "\n",
       "        subreddit author_flair_css_class author_flair_text  gilded  \\\n",
       "0        exmormon                   None              None       0   \n",
       "1  CanadaPolitics                     on           Ontario       0   \n",
       "2   AdviceAnimals                   None              None       0   \n",
       "\n",
       "   retrieved_on  ups  controversiality subreddit_id  edited  \n",
       "0    1425124282   14                 0     t5_2r0gj       0  \n",
       "1    1425124282    3                 0     t5_2s4gt       0  \n",
       "2    1425124282    1                 0     t5_2s7tt       0  "
      ]
     },
     "execution_count": 17,
     "metadata": {},
     "output_type": "execute_result"
    }
   ],
   "source": [
    "df[:3]\n"
   ]
  },
  {
   "cell_type": "code",
   "execution_count": 18,
   "metadata": {},
   "outputs": [
    {
     "data": {
      "text/plain": [
       "(200000, 21)"
      ]
     },
     "execution_count": 18,
     "metadata": {},
     "output_type": "execute_result"
    }
   ],
   "source": [
    "df.shape"
   ]
  },
  {
   "cell_type": "markdown",
   "metadata": {
    "heading_collapsed": true
   },
   "source": [
    "### **Features Description**\n",
    "\n",
    "1. **score_hidden**\n",
    "\n",
    "> `Some subreddits are using a feature that will hide a comments score for a specific amount of time after being posted. The moderators can choose to hide the score for anywhere from 1 minute to 24 hours. If you hover over [score hidden] the alt text will tell you how long the score will be hidden for in that subreddit.`\n",
    "\n",
    "2. **name**\n",
    "\n",
    "> `Name of the users which is displayed.It is unique for each and every user.`\n",
    "\n",
    "3. **link_id**\n",
    "\n",
    "> `Id for the comments/submission link.It may be repetitive also`\n",
    "\n",
    "4. **body**\n",
    "\n",
    "> `It is the text written in posts....`"
   ]
  },
  {
   "cell_type": "markdown",
   "metadata": {},
   "source": [
    "### Statistical Analysis\n",
    "\n",
    "`It's the science of collecting, exploring and presenting large amounts of data to discover underlying patterns and trends. Statistics are applied every day – in research, industry and government – to become more scientific about decisions that need to be made.Analysing using Statistical techniques.`"
   ]
  },
  {
   "cell_type": "code",
   "execution_count": 19,
   "metadata": {},
   "outputs": [
    {
     "data": {
      "text/plain": [
       "Index(['score_hidden', 'name', 'link_id', 'body', 'downs', 'created_utc',\n",
       "       'score', 'author', 'distinguished', 'id', 'archived', 'parent_id',\n",
       "       'subreddit', 'author_flair_css_class', 'author_flair_text', 'gilded',\n",
       "       'retrieved_on', 'ups', 'controversiality', 'subreddit_id', 'edited'],\n",
       "      dtype='object')"
      ]
     },
     "execution_count": 19,
     "metadata": {},
     "output_type": "execute_result"
    }
   ],
   "source": [
    "df.columns"
   ]
  },
  {
   "cell_type": "code",
   "execution_count": 20,
   "metadata": {
    "scrolled": true
   },
   "outputs": [
    {
     "data": {
      "text/html": [
       "<div>\n",
       "<style scoped>\n",
       "    .dataframe tbody tr th:only-of-type {\n",
       "        vertical-align: middle;\n",
       "    }\n",
       "\n",
       "    .dataframe tbody tr th {\n",
       "        vertical-align: top;\n",
       "    }\n",
       "\n",
       "    .dataframe thead th {\n",
       "        text-align: right;\n",
       "    }\n",
       "</style>\n",
       "<table border=\"1\" class=\"dataframe\">\n",
       "  <thead>\n",
       "    <tr style=\"text-align: right;\">\n",
       "      <th></th>\n",
       "      <th>downs</th>\n",
       "      <th>created_utc</th>\n",
       "      <th>score</th>\n",
       "      <th>gilded</th>\n",
       "      <th>retrieved_on</th>\n",
       "      <th>ups</th>\n",
       "      <th>controversiality</th>\n",
       "      <th>edited</th>\n",
       "    </tr>\n",
       "  </thead>\n",
       "  <tbody>\n",
       "    <tr>\n",
       "      <th>count</th>\n",
       "      <td>200000.0</td>\n",
       "      <td>2.000000e+05</td>\n",
       "      <td>200000.000000</td>\n",
       "      <td>200000.000000</td>\n",
       "      <td>2.000000e+05</td>\n",
       "      <td>200000.000000</td>\n",
       "      <td>200000.0</td>\n",
       "      <td>2.000000e+05</td>\n",
       "    </tr>\n",
       "    <tr>\n",
       "      <th>mean</th>\n",
       "      <td>0.0</td>\n",
       "      <td>1.420076e+09</td>\n",
       "      <td>4.336950</td>\n",
       "      <td>0.000770</td>\n",
       "      <td>1.425123e+09</td>\n",
       "      <td>4.336950</td>\n",
       "      <td>0.0</td>\n",
       "      <td>3.823827e+07</td>\n",
       "    </tr>\n",
       "    <tr>\n",
       "      <th>std</th>\n",
       "      <td>0.0</td>\n",
       "      <td>3.042837e+03</td>\n",
       "      <td>32.059644</td>\n",
       "      <td>0.029145</td>\n",
       "      <td>5.837471e+02</td>\n",
       "      <td>32.059644</td>\n",
       "      <td>0.0</td>\n",
       "      <td>2.298766e+08</td>\n",
       "    </tr>\n",
       "    <tr>\n",
       "      <th>min</th>\n",
       "      <td>0.0</td>\n",
       "      <td>1.420070e+09</td>\n",
       "      <td>-302.000000</td>\n",
       "      <td>0.000000</td>\n",
       "      <td>1.425122e+09</td>\n",
       "      <td>-302.000000</td>\n",
       "      <td>0.0</td>\n",
       "      <td>0.000000e+00</td>\n",
       "    </tr>\n",
       "    <tr>\n",
       "      <th>25%</th>\n",
       "      <td>0.0</td>\n",
       "      <td>1.420073e+09</td>\n",
       "      <td>1.000000</td>\n",
       "      <td>0.000000</td>\n",
       "      <td>1.425123e+09</td>\n",
       "      <td>1.000000</td>\n",
       "      <td>0.0</td>\n",
       "      <td>0.000000e+00</td>\n",
       "    </tr>\n",
       "    <tr>\n",
       "      <th>50%</th>\n",
       "      <td>0.0</td>\n",
       "      <td>1.420075e+09</td>\n",
       "      <td>1.000000</td>\n",
       "      <td>0.000000</td>\n",
       "      <td>1.425123e+09</td>\n",
       "      <td>1.000000</td>\n",
       "      <td>0.0</td>\n",
       "      <td>0.000000e+00</td>\n",
       "    </tr>\n",
       "    <tr>\n",
       "      <th>75%</th>\n",
       "      <td>0.0</td>\n",
       "      <td>1.420078e+09</td>\n",
       "      <td>3.000000</td>\n",
       "      <td>0.000000</td>\n",
       "      <td>1.425124e+09</td>\n",
       "      <td>3.000000</td>\n",
       "      <td>0.0</td>\n",
       "      <td>0.000000e+00</td>\n",
       "    </tr>\n",
       "    <tr>\n",
       "      <th>max</th>\n",
       "      <td>0.0</td>\n",
       "      <td>1.420081e+09</td>\n",
       "      <td>3967.000000</td>\n",
       "      <td>2.000000</td>\n",
       "      <td>1.425124e+09</td>\n",
       "      <td>3967.000000</td>\n",
       "      <td>0.0</td>\n",
       "      <td>1.425032e+09</td>\n",
       "    </tr>\n",
       "  </tbody>\n",
       "</table>\n",
       "</div>"
      ],
      "text/plain": [
       "          downs   created_utc          score         gilded  retrieved_on  \\\n",
       "count  200000.0  2.000000e+05  200000.000000  200000.000000  2.000000e+05   \n",
       "mean        0.0  1.420076e+09       4.336950       0.000770  1.425123e+09   \n",
       "std         0.0  3.042837e+03      32.059644       0.029145  5.837471e+02   \n",
       "min         0.0  1.420070e+09    -302.000000       0.000000  1.425122e+09   \n",
       "25%         0.0  1.420073e+09       1.000000       0.000000  1.425123e+09   \n",
       "50%         0.0  1.420075e+09       1.000000       0.000000  1.425123e+09   \n",
       "75%         0.0  1.420078e+09       3.000000       0.000000  1.425124e+09   \n",
       "max         0.0  1.420081e+09    3967.000000       2.000000  1.425124e+09   \n",
       "\n",
       "                 ups  controversiality        edited  \n",
       "count  200000.000000          200000.0  2.000000e+05  \n",
       "mean        4.336950               0.0  3.823827e+07  \n",
       "std        32.059644               0.0  2.298766e+08  \n",
       "min      -302.000000               0.0  0.000000e+00  \n",
       "25%         1.000000               0.0  0.000000e+00  \n",
       "50%         1.000000               0.0  0.000000e+00  \n",
       "75%         3.000000               0.0  0.000000e+00  \n",
       "max      3967.000000               0.0  1.425032e+09  "
      ]
     },
     "execution_count": 20,
     "metadata": {},
     "output_type": "execute_result"
    }
   ],
   "source": [
    "df.describe()"
   ]
  },
  {
   "cell_type": "markdown",
   "metadata": {},
   "source": [
    "`Here we are describing each and every column.For Example consider feature score,where maximum score is 3967 and minimum score is -302 i.e negative.It only gives description of numerical features..`"
   ]
  },
  {
   "cell_type": "code",
   "execution_count": 21,
   "metadata": {},
   "outputs": [
    {
     "data": {
      "text/html": [
       "<div>\n",
       "<style scoped>\n",
       "    .dataframe tbody tr th:only-of-type {\n",
       "        vertical-align: middle;\n",
       "    }\n",
       "\n",
       "    .dataframe tbody tr th {\n",
       "        vertical-align: top;\n",
       "    }\n",
       "\n",
       "    .dataframe thead th {\n",
       "        text-align: right;\n",
       "    }\n",
       "</style>\n",
       "<table border=\"1\" class=\"dataframe\">\n",
       "  <thead>\n",
       "    <tr style=\"text-align: right;\">\n",
       "      <th></th>\n",
       "      <th>score_hidden</th>\n",
       "      <th>name</th>\n",
       "      <th>link_id</th>\n",
       "      <th>body</th>\n",
       "      <th>downs</th>\n",
       "      <th>created_utc</th>\n",
       "      <th>score</th>\n",
       "      <th>author</th>\n",
       "      <th>distinguished</th>\n",
       "      <th>id</th>\n",
       "      <th>archived</th>\n",
       "      <th>parent_id</th>\n",
       "      <th>subreddit</th>\n",
       "      <th>author_flair_css_class</th>\n",
       "      <th>author_flair_text</th>\n",
       "      <th>gilded</th>\n",
       "      <th>retrieved_on</th>\n",
       "      <th>ups</th>\n",
       "      <th>controversiality</th>\n",
       "      <th>subreddit_id</th>\n",
       "      <th>edited</th>\n",
       "    </tr>\n",
       "  </thead>\n",
       "  <tbody>\n",
       "    <tr>\n",
       "      <th>count</th>\n",
       "      <td>200000</td>\n",
       "      <td>200000</td>\n",
       "      <td>200000</td>\n",
       "      <td>200000</td>\n",
       "      <td>200000.0</td>\n",
       "      <td>2.000000e+05</td>\n",
       "      <td>200000.000000</td>\n",
       "      <td>200000</td>\n",
       "      <td>1409</td>\n",
       "      <td>200000</td>\n",
       "      <td>200000</td>\n",
       "      <td>200000</td>\n",
       "      <td>200000</td>\n",
       "      <td>73807</td>\n",
       "      <td>74295</td>\n",
       "      <td>200000.000000</td>\n",
       "      <td>2.000000e+05</td>\n",
       "      <td>200000.000000</td>\n",
       "      <td>200000.0</td>\n",
       "      <td>200000</td>\n",
       "      <td>2.000000e+05</td>\n",
       "    </tr>\n",
       "    <tr>\n",
       "      <th>unique</th>\n",
       "      <td>2</td>\n",
       "      <td>200000</td>\n",
       "      <td>43706</td>\n",
       "      <td>182558</td>\n",
       "      <td>NaN</td>\n",
       "      <td>NaN</td>\n",
       "      <td>NaN</td>\n",
       "      <td>86062</td>\n",
       "      <td>1</td>\n",
       "      <td>200000</td>\n",
       "      <td>1</td>\n",
       "      <td>131150</td>\n",
       "      <td>6498</td>\n",
       "      <td>9596</td>\n",
       "      <td>17823</td>\n",
       "      <td>NaN</td>\n",
       "      <td>NaN</td>\n",
       "      <td>NaN</td>\n",
       "      <td>NaN</td>\n",
       "      <td>6498</td>\n",
       "      <td>NaN</td>\n",
       "    </tr>\n",
       "    <tr>\n",
       "      <th>top</th>\n",
       "      <td>False</td>\n",
       "      <td>t1_cnaulet</td>\n",
       "      <td>t3_2qys88</td>\n",
       "      <td>[deleted]</td>\n",
       "      <td>NaN</td>\n",
       "      <td>NaN</td>\n",
       "      <td>NaN</td>\n",
       "      <td>[deleted]</td>\n",
       "      <td>moderator</td>\n",
       "      <td>cnauqd4</td>\n",
       "      <td>False</td>\n",
       "      <td>t3_2qys88</td>\n",
       "      <td>AskReddit</td>\n",
       "      <td></td>\n",
       "      <td></td>\n",
       "      <td>NaN</td>\n",
       "      <td>NaN</td>\n",
       "      <td>NaN</td>\n",
       "      <td>NaN</td>\n",
       "      <td>t5_2qh1i</td>\n",
       "      <td>NaN</td>\n",
       "    </tr>\n",
       "    <tr>\n",
       "      <th>freq</th>\n",
       "      <td>199100</td>\n",
       "      <td>1</td>\n",
       "      <td>3281</td>\n",
       "      <td>12771</td>\n",
       "      <td>NaN</td>\n",
       "      <td>NaN</td>\n",
       "      <td>NaN</td>\n",
       "      <td>15786</td>\n",
       "      <td>1409</td>\n",
       "      <td>1</td>\n",
       "      <td>200000</td>\n",
       "      <td>1662</td>\n",
       "      <td>14327</td>\n",
       "      <td>10137</td>\n",
       "      <td>14634</td>\n",
       "      <td>NaN</td>\n",
       "      <td>NaN</td>\n",
       "      <td>NaN</td>\n",
       "      <td>NaN</td>\n",
       "      <td>14327</td>\n",
       "      <td>NaN</td>\n",
       "    </tr>\n",
       "    <tr>\n",
       "      <th>mean</th>\n",
       "      <td>NaN</td>\n",
       "      <td>NaN</td>\n",
       "      <td>NaN</td>\n",
       "      <td>NaN</td>\n",
       "      <td>0.0</td>\n",
       "      <td>1.420076e+09</td>\n",
       "      <td>4.336950</td>\n",
       "      <td>NaN</td>\n",
       "      <td>NaN</td>\n",
       "      <td>NaN</td>\n",
       "      <td>NaN</td>\n",
       "      <td>NaN</td>\n",
       "      <td>NaN</td>\n",
       "      <td>NaN</td>\n",
       "      <td>NaN</td>\n",
       "      <td>0.000770</td>\n",
       "      <td>1.425123e+09</td>\n",
       "      <td>4.336950</td>\n",
       "      <td>0.0</td>\n",
       "      <td>NaN</td>\n",
       "      <td>3.823827e+07</td>\n",
       "    </tr>\n",
       "    <tr>\n",
       "      <th>std</th>\n",
       "      <td>NaN</td>\n",
       "      <td>NaN</td>\n",
       "      <td>NaN</td>\n",
       "      <td>NaN</td>\n",
       "      <td>0.0</td>\n",
       "      <td>3.042837e+03</td>\n",
       "      <td>32.059644</td>\n",
       "      <td>NaN</td>\n",
       "      <td>NaN</td>\n",
       "      <td>NaN</td>\n",
       "      <td>NaN</td>\n",
       "      <td>NaN</td>\n",
       "      <td>NaN</td>\n",
       "      <td>NaN</td>\n",
       "      <td>NaN</td>\n",
       "      <td>0.029145</td>\n",
       "      <td>5.837471e+02</td>\n",
       "      <td>32.059644</td>\n",
       "      <td>0.0</td>\n",
       "      <td>NaN</td>\n",
       "      <td>2.298766e+08</td>\n",
       "    </tr>\n",
       "    <tr>\n",
       "      <th>min</th>\n",
       "      <td>NaN</td>\n",
       "      <td>NaN</td>\n",
       "      <td>NaN</td>\n",
       "      <td>NaN</td>\n",
       "      <td>0.0</td>\n",
       "      <td>1.420070e+09</td>\n",
       "      <td>-302.000000</td>\n",
       "      <td>NaN</td>\n",
       "      <td>NaN</td>\n",
       "      <td>NaN</td>\n",
       "      <td>NaN</td>\n",
       "      <td>NaN</td>\n",
       "      <td>NaN</td>\n",
       "      <td>NaN</td>\n",
       "      <td>NaN</td>\n",
       "      <td>0.000000</td>\n",
       "      <td>1.425122e+09</td>\n",
       "      <td>-302.000000</td>\n",
       "      <td>0.0</td>\n",
       "      <td>NaN</td>\n",
       "      <td>0.000000e+00</td>\n",
       "    </tr>\n",
       "    <tr>\n",
       "      <th>25%</th>\n",
       "      <td>NaN</td>\n",
       "      <td>NaN</td>\n",
       "      <td>NaN</td>\n",
       "      <td>NaN</td>\n",
       "      <td>0.0</td>\n",
       "      <td>1.420073e+09</td>\n",
       "      <td>1.000000</td>\n",
       "      <td>NaN</td>\n",
       "      <td>NaN</td>\n",
       "      <td>NaN</td>\n",
       "      <td>NaN</td>\n",
       "      <td>NaN</td>\n",
       "      <td>NaN</td>\n",
       "      <td>NaN</td>\n",
       "      <td>NaN</td>\n",
       "      <td>0.000000</td>\n",
       "      <td>1.425123e+09</td>\n",
       "      <td>1.000000</td>\n",
       "      <td>0.0</td>\n",
       "      <td>NaN</td>\n",
       "      <td>0.000000e+00</td>\n",
       "    </tr>\n",
       "    <tr>\n",
       "      <th>50%</th>\n",
       "      <td>NaN</td>\n",
       "      <td>NaN</td>\n",
       "      <td>NaN</td>\n",
       "      <td>NaN</td>\n",
       "      <td>0.0</td>\n",
       "      <td>1.420075e+09</td>\n",
       "      <td>1.000000</td>\n",
       "      <td>NaN</td>\n",
       "      <td>NaN</td>\n",
       "      <td>NaN</td>\n",
       "      <td>NaN</td>\n",
       "      <td>NaN</td>\n",
       "      <td>NaN</td>\n",
       "      <td>NaN</td>\n",
       "      <td>NaN</td>\n",
       "      <td>0.000000</td>\n",
       "      <td>1.425123e+09</td>\n",
       "      <td>1.000000</td>\n",
       "      <td>0.0</td>\n",
       "      <td>NaN</td>\n",
       "      <td>0.000000e+00</td>\n",
       "    </tr>\n",
       "    <tr>\n",
       "      <th>75%</th>\n",
       "      <td>NaN</td>\n",
       "      <td>NaN</td>\n",
       "      <td>NaN</td>\n",
       "      <td>NaN</td>\n",
       "      <td>0.0</td>\n",
       "      <td>1.420078e+09</td>\n",
       "      <td>3.000000</td>\n",
       "      <td>NaN</td>\n",
       "      <td>NaN</td>\n",
       "      <td>NaN</td>\n",
       "      <td>NaN</td>\n",
       "      <td>NaN</td>\n",
       "      <td>NaN</td>\n",
       "      <td>NaN</td>\n",
       "      <td>NaN</td>\n",
       "      <td>0.000000</td>\n",
       "      <td>1.425124e+09</td>\n",
       "      <td>3.000000</td>\n",
       "      <td>0.0</td>\n",
       "      <td>NaN</td>\n",
       "      <td>0.000000e+00</td>\n",
       "    </tr>\n",
       "    <tr>\n",
       "      <th>max</th>\n",
       "      <td>NaN</td>\n",
       "      <td>NaN</td>\n",
       "      <td>NaN</td>\n",
       "      <td>NaN</td>\n",
       "      <td>0.0</td>\n",
       "      <td>1.420081e+09</td>\n",
       "      <td>3967.000000</td>\n",
       "      <td>NaN</td>\n",
       "      <td>NaN</td>\n",
       "      <td>NaN</td>\n",
       "      <td>NaN</td>\n",
       "      <td>NaN</td>\n",
       "      <td>NaN</td>\n",
       "      <td>NaN</td>\n",
       "      <td>NaN</td>\n",
       "      <td>2.000000</td>\n",
       "      <td>1.425124e+09</td>\n",
       "      <td>3967.000000</td>\n",
       "      <td>0.0</td>\n",
       "      <td>NaN</td>\n",
       "      <td>1.425032e+09</td>\n",
       "    </tr>\n",
       "  </tbody>\n",
       "</table>\n",
       "</div>"
      ],
      "text/plain": [
       "       score_hidden        name    link_id       body     downs   created_utc  \\\n",
       "count        200000      200000     200000     200000  200000.0  2.000000e+05   \n",
       "unique            2      200000      43706     182558       NaN           NaN   \n",
       "top           False  t1_cnaulet  t3_2qys88  [deleted]       NaN           NaN   \n",
       "freq         199100           1       3281      12771       NaN           NaN   \n",
       "mean            NaN         NaN        NaN        NaN       0.0  1.420076e+09   \n",
       "std             NaN         NaN        NaN        NaN       0.0  3.042837e+03   \n",
       "min             NaN         NaN        NaN        NaN       0.0  1.420070e+09   \n",
       "25%             NaN         NaN        NaN        NaN       0.0  1.420073e+09   \n",
       "50%             NaN         NaN        NaN        NaN       0.0  1.420075e+09   \n",
       "75%             NaN         NaN        NaN        NaN       0.0  1.420078e+09   \n",
       "max             NaN         NaN        NaN        NaN       0.0  1.420081e+09   \n",
       "\n",
       "                score     author distinguished       id archived  parent_id  \\\n",
       "count   200000.000000     200000          1409   200000   200000     200000   \n",
       "unique            NaN      86062             1   200000        1     131150   \n",
       "top               NaN  [deleted]     moderator  cnauqd4    False  t3_2qys88   \n",
       "freq              NaN      15786          1409        1   200000       1662   \n",
       "mean         4.336950        NaN           NaN      NaN      NaN        NaN   \n",
       "std         32.059644        NaN           NaN      NaN      NaN        NaN   \n",
       "min       -302.000000        NaN           NaN      NaN      NaN        NaN   \n",
       "25%          1.000000        NaN           NaN      NaN      NaN        NaN   \n",
       "50%          1.000000        NaN           NaN      NaN      NaN        NaN   \n",
       "75%          3.000000        NaN           NaN      NaN      NaN        NaN   \n",
       "max       3967.000000        NaN           NaN      NaN      NaN        NaN   \n",
       "\n",
       "        subreddit author_flair_css_class author_flair_text         gilded  \\\n",
       "count      200000                  73807             74295  200000.000000   \n",
       "unique       6498                   9596             17823            NaN   \n",
       "top     AskReddit                                                     NaN   \n",
       "freq        14327                  10137             14634            NaN   \n",
       "mean          NaN                    NaN               NaN       0.000770   \n",
       "std           NaN                    NaN               NaN       0.029145   \n",
       "min           NaN                    NaN               NaN       0.000000   \n",
       "25%           NaN                    NaN               NaN       0.000000   \n",
       "50%           NaN                    NaN               NaN       0.000000   \n",
       "75%           NaN                    NaN               NaN       0.000000   \n",
       "max           NaN                    NaN               NaN       2.000000   \n",
       "\n",
       "        retrieved_on            ups  controversiality subreddit_id  \\\n",
       "count   2.000000e+05  200000.000000          200000.0       200000   \n",
       "unique           NaN            NaN               NaN         6498   \n",
       "top              NaN            NaN               NaN     t5_2qh1i   \n",
       "freq             NaN            NaN               NaN        14327   \n",
       "mean    1.425123e+09       4.336950               0.0          NaN   \n",
       "std     5.837471e+02      32.059644               0.0          NaN   \n",
       "min     1.425122e+09    -302.000000               0.0          NaN   \n",
       "25%     1.425123e+09       1.000000               0.0          NaN   \n",
       "50%     1.425123e+09       1.000000               0.0          NaN   \n",
       "75%     1.425124e+09       3.000000               0.0          NaN   \n",
       "max     1.425124e+09    3967.000000               0.0          NaN   \n",
       "\n",
       "              edited  \n",
       "count   2.000000e+05  \n",
       "unique           NaN  \n",
       "top              NaN  \n",
       "freq             NaN  \n",
       "mean    3.823827e+07  \n",
       "std     2.298766e+08  \n",
       "min     0.000000e+00  \n",
       "25%     0.000000e+00  \n",
       "50%     0.000000e+00  \n",
       "75%     0.000000e+00  \n",
       "max     1.425032e+09  "
      ]
     },
     "execution_count": 21,
     "metadata": {},
     "output_type": "execute_result"
    }
   ],
   "source": [
    "df.describe(include='all')"
   ]
  },
  {
   "cell_type": "markdown",
   "metadata": {},
   "source": [
    "**To get description of some categorical columns we have to write `include='all'`as shown above.**"
   ]
  },
  {
   "cell_type": "code",
   "execution_count": 22,
   "metadata": {},
   "outputs": [
    {
     "name": "stdout",
     "output_type": "stream",
     "text": [
      "<class 'pandas.core.frame.DataFrame'>\n",
      "RangeIndex: 200000 entries, 0 to 199999\n",
      "Data columns (total 21 columns):\n",
      " #   Column                  Non-Null Count   Dtype \n",
      "---  ------                  --------------   ----- \n",
      " 0   score_hidden            200000 non-null  bool  \n",
      " 1   name                    200000 non-null  object\n",
      " 2   link_id                 200000 non-null  object\n",
      " 3   body                    200000 non-null  object\n",
      " 4   downs                   200000 non-null  int64 \n",
      " 5   created_utc             200000 non-null  int64 \n",
      " 6   score                   200000 non-null  int64 \n",
      " 7   author                  200000 non-null  object\n",
      " 8   distinguished           1409 non-null    object\n",
      " 9   id                      200000 non-null  object\n",
      " 10  archived                200000 non-null  bool  \n",
      " 11  parent_id               200000 non-null  object\n",
      " 12  subreddit               200000 non-null  object\n",
      " 13  author_flair_css_class  73807 non-null   object\n",
      " 14  author_flair_text       74295 non-null   object\n",
      " 15  gilded                  200000 non-null  int64 \n",
      " 16  retrieved_on            200000 non-null  int64 \n",
      " 17  ups                     200000 non-null  int64 \n",
      " 18  controversiality        200000 non-null  int64 \n",
      " 19  subreddit_id            200000 non-null  object\n",
      " 20  edited                  200000 non-null  int64 \n",
      "dtypes: bool(2), int64(8), object(11)\n",
      "memory usage: 29.4+ MB\n"
     ]
    }
   ],
   "source": [
    "df.info()"
   ]
  },
  {
   "cell_type": "code",
   "execution_count": 23,
   "metadata": {},
   "outputs": [
    {
     "name": "stdout",
     "output_type": "stream",
     "text": [
      "Total number of Categorical columns are : 11\n"
     ]
    }
   ],
   "source": [
    "print(f\"Total number of Categorical columns are : {len(df.select_dtypes(include=['object']).columns)}\")"
   ]
  },
  {
   "cell_type": "code",
   "execution_count": 24,
   "metadata": {},
   "outputs": [
    {
     "data": {
      "text/plain": [
       "<matplotlib.axes._subplots.AxesSubplot at 0x9805d3d508>"
      ]
     },
     "execution_count": 24,
     "metadata": {},
     "output_type": "execute_result"
    },
    {
     "data": {
      "image/png": "[encoded data removed]",
      "text/plain": [
       "<Figure size 864x360 with 2 Axes>"
      ]
     },
     "metadata": {
      "needs_background": "light"
     },
     "output_type": "display_data"
    }
   ],
   "source": [
    "plt.figure(figsize=(12,5))\n",
    "sns.heatmap(df.corr(),annot=True)"
   ]
  },
  {
   "cell_type": "markdown",
   "metadata": {},
   "source": [
    "`From the figure We know that created_utc and retrieved_on are negatively correalted.For upvotes w.k.t it depends on score.so they are correlated positively.Upvotes and glided is also positively correlated that means if there are more gliding occurs then upvotes also increases.`"
   ]
  },
  {
   "cell_type": "markdown",
   "metadata": {},
   "source": [
    "### Handling Null Values\n",
    "\n",
    "`The most time consuming part of a data science project is data cleaning and preparation. However, there are many powerful tools to expedite this process. One of them is Pandas which is a widely used data analysis library for Python.\n",
    "Handling missing values is an essential part of data cleaning and preparation process because almost all data in real life comes with some missing values.`"
   ]
  },
  {
   "cell_type": "code",
   "execution_count": 25,
   "metadata": {
    "scrolled": true
   },
   "outputs": [
    {
     "data": {
      "text/plain": [
       "score_hidden                   0\n",
       "name                           0\n",
       "link_id                        0\n",
       "body                           0\n",
       "downs                          0\n",
       "created_utc                    0\n",
       "score                          0\n",
       "author                         0\n",
       "distinguished             198591\n",
       "id                             0\n",
       "archived                       0\n",
       "parent_id                      0\n",
       "subreddit                      0\n",
       "author_flair_css_class    126193\n",
       "author_flair_text         125705\n",
       "gilded                         0\n",
       "retrieved_on                   0\n",
       "ups                            0\n",
       "controversiality               0\n",
       "subreddit_id                   0\n",
       "edited                         0\n",
       "dtype: int64"
      ]
     },
     "execution_count": 25,
     "metadata": {},
     "output_type": "execute_result"
    }
   ],
   "source": [
    "df.isnull().sum()"
   ]
  },
  {
   "cell_type": "code",
   "execution_count": 26,
   "metadata": {},
   "outputs": [],
   "source": [
    "df.drop(['distinguished','author_flair_css_class','author_flair_text'],axis=1,inplace=True)"
   ]
  },
  {
   "cell_type": "code",
   "execution_count": 27,
   "metadata": {},
   "outputs": [
    {
     "data": {
      "text/plain": [
       "18"
      ]
     },
     "execution_count": 27,
     "metadata": {},
     "output_type": "execute_result"
    }
   ],
   "source": [
    "len(df.columns)"
   ]
  },
  {
   "cell_type": "code",
   "execution_count": 28,
   "metadata": {},
   "outputs": [
    {
     "data": {
      "text/plain": [
       "0"
      ]
     },
     "execution_count": 28,
     "metadata": {},
     "output_type": "execute_result"
    }
   ],
   "source": [
    "df.isnull().any().sum()"
   ]
  },
  {
   "cell_type": "code",
   "execution_count": 29,
   "metadata": {},
   "outputs": [
    {
     "name": "stdout",
     "output_type": "stream",
     "text": [
      "After Handling null values total number of Categorical columns are : 8\n"
     ]
    }
   ],
   "source": [
    "print(f\"After Handling null values total number of Categorical columns are : {len(df.select_dtypes(include=['object']).columns)}\")"
   ]
  },
  {
   "cell_type": "markdown",
   "metadata": {},
   "source": [
    "`Here by seeing this we can say that subreddits like AskReddit,CFB,hockey are creates more controversiality than others.`"
   ]
  },
  {
   "cell_type": "markdown",
   "metadata": {},
   "source": [
    "### Handling created_utc feature"
   ]
  },
  {
   "cell_type": "code",
   "execution_count": 30,
   "metadata": {},
   "outputs": [
    {
     "name": "stdout",
     "output_type": "stream",
     "text": [
      "1420070400\n"
     ]
    },
    {
     "data": {
      "text/plain": [
       "dtype('int64')"
      ]
     },
     "execution_count": 30,
     "metadata": {},
     "output_type": "execute_result"
    }
   ],
   "source": [
    "print(df.created_utc[0])\n",
    "\n",
    "df.created_utc.dtype"
   ]
  },
  {
   "cell_type": "code",
   "execution_count": 31,
   "metadata": {},
   "outputs": [],
   "source": [
    "from datetime import datetime"
   ]
  },
  {
   "cell_type": "code",
   "execution_count": 32,
   "metadata": {},
   "outputs": [
    {
     "data": {
      "text/plain": [
       "datetime.datetime(2015, 1, 1, 5, 30)"
      ]
     },
     "execution_count": 32,
     "metadata": {},
     "output_type": "execute_result"
    }
   ],
   "source": [
    "datetime.fromtimestamp(df.created_utc[0])"
   ]
  },
  {
   "cell_type": "markdown",
   "metadata": {},
   "source": [
    "`Here we are decoding utc format for single value but we have to do it for whole dataset as shown below...`"
   ]
  },
  {
   "cell_type": "code",
   "execution_count": 33,
   "metadata": {},
   "outputs": [],
   "source": [
    "df.created_utc = df.created_utc.apply(lambda x: datetime.fromtimestamp(x))"
   ]
  },
  {
   "cell_type": "code",
   "execution_count": 34,
   "metadata": {},
   "outputs": [
    {
     "data": {
      "text/plain": [
       "0        2015-01-01 05:30:00\n",
       "1        2015-01-01 05:30:00\n",
       "2        2015-01-01 05:30:00\n",
       "3        2015-01-01 05:30:00\n",
       "4        2015-01-01 05:30:00\n",
       "                 ...        \n",
       "199995   2015-01-01 08:26:00\n",
       "199996   2015-01-01 08:26:00\n",
       "199997   2015-01-01 08:26:00\n",
       "199998   2015-01-01 08:26:00\n",
       "199999   2015-01-01 08:26:00\n",
       "Name: created_utc, Length: 200000, dtype: datetime64[ns]"
      ]
     },
     "execution_count": 34,
     "metadata": {},
     "output_type": "execute_result"
    }
   ],
   "source": [
    "df.created_utc"
   ]
  },
  {
   "cell_type": "code",
   "execution_count": 35,
   "metadata": {},
   "outputs": [
    {
     "name": "stdout",
     "output_type": "stream",
     "text": [
      "After decoding DataType of feature created_utc is : datetime64[ns]\n"
     ]
    }
   ],
   "source": [
    "print(f\"After decoding DataType of feature created_utc is : {df.created_utc.dtype}\")"
   ]
  },
  {
   "cell_type": "code",
   "execution_count": 36,
   "metadata": {
    "scrolled": true
   },
   "outputs": [
    {
     "data": {
      "text/plain": [
       "18.93760060600322"
      ]
     },
     "execution_count": 36,
     "metadata": {},
     "output_type": "execute_result"
    }
   ],
   "source": [
    "df.groupby('created_utc')['controversiality'].count().mean()"
   ]
  },
  {
   "cell_type": "code",
   "execution_count": 37,
   "metadata": {},
   "outputs": [],
   "source": [
    "df['created_utc_year'] = df.created_utc.dt.year\n",
    "df['created_utc_month'] = df.created_utc.dt.month\n",
    "df['created_utc_week'] = df.created_utc.dt.week\n",
    "df['created_utc_day'] = df.created_utc.dt.day\n",
    "df['created_utc_hour'] = df.created_utc.dt.hour\n",
    "df['created_utc_minute'] = df.created_utc.dt.minute\n",
    "df['created_utc_dayofweek'] = df.created_utc.dt.dayofweek"
   ]
  },
  {
   "cell_type": "markdown",
   "metadata": {},
   "source": [
    "`Extracting different type of data from timestamp like year,month,week,day,hour...etc.`"
   ]
  },
  {
   "cell_type": "code",
   "execution_count": 38,
   "metadata": {},
   "outputs": [],
   "source": [
    "df.drop('created_utc',axis=1,inplace=True)"
   ]
  },
  {
   "cell_type": "markdown",
   "metadata": {},
   "source": [
    "`After Extracting all useful data from timestamp we are dropping original one i.e created_utc because it becomes redundant.We no need it again.....After that our dataframe looks like below shown.`"
   ]
  },
  {
   "cell_type": "code",
   "execution_count": 39,
   "metadata": {},
   "outputs": [
    {
     "data": {
      "text/html": [
       "<div>\n",
       "<style scoped>\n",
       "    .dataframe tbody tr th:only-of-type {\n",
       "        vertical-align: middle;\n",
       "    }\n",
       "\n",
       "    .dataframe tbody tr th {\n",
       "        vertical-align: top;\n",
       "    }\n",
       "\n",
       "    .dataframe thead th {\n",
       "        text-align: right;\n",
       "    }\n",
       "</style>\n",
       "<table border=\"1\" class=\"dataframe\">\n",
       "  <thead>\n",
       "    <tr style=\"text-align: right;\">\n",
       "      <th></th>\n",
       "      <th>score_hidden</th>\n",
       "      <th>name</th>\n",
       "      <th>link_id</th>\n",
       "      <th>body</th>\n",
       "      <th>downs</th>\n",
       "      <th>score</th>\n",
       "      <th>author</th>\n",
       "      <th>id</th>\n",
       "      <th>archived</th>\n",
       "      <th>parent_id</th>\n",
       "      <th>subreddit</th>\n",
       "      <th>gilded</th>\n",
       "      <th>retrieved_on</th>\n",
       "      <th>ups</th>\n",
       "      <th>controversiality</th>\n",
       "      <th>subreddit_id</th>\n",
       "      <th>edited</th>\n",
       "      <th>created_utc_year</th>\n",
       "      <th>created_utc_month</th>\n",
       "      <th>created_utc_week</th>\n",
       "      <th>created_utc_day</th>\n",
       "      <th>created_utc_hour</th>\n",
       "      <th>created_utc_minute</th>\n",
       "      <th>created_utc_dayofweek</th>\n",
       "    </tr>\n",
       "  </thead>\n",
       "  <tbody>\n",
       "    <tr>\n",
       "      <th>0</th>\n",
       "      <td>False</td>\n",
       "      <td>t1_cnas8zv</td>\n",
       "      <td>t3_2qyr1a</td>\n",
       "      <td>Most of us have some family members like this....</td>\n",
       "      <td>0</td>\n",
       "      <td>14</td>\n",
       "      <td>YoungModern</td>\n",
       "      <td>cnas8zv</td>\n",
       "      <td>False</td>\n",
       "      <td>t3_2qyr1a</td>\n",
       "      <td>exmormon</td>\n",
       "      <td>0</td>\n",
       "      <td>1425124282</td>\n",
       "      <td>14</td>\n",
       "      <td>0</td>\n",
       "      <td>t5_2r0gj</td>\n",
       "      <td>0</td>\n",
       "      <td>2015</td>\n",
       "      <td>1</td>\n",
       "      <td>1</td>\n",
       "      <td>1</td>\n",
       "      <td>5</td>\n",
       "      <td>30</td>\n",
       "      <td>3</td>\n",
       "    </tr>\n",
       "    <tr>\n",
       "      <th>1</th>\n",
       "      <td>False</td>\n",
       "      <td>t1_cnas8zw</td>\n",
       "      <td>t3_2qv6c6</td>\n",
       "      <td>But Mill's career was way better. Bentham is l...</td>\n",
       "      <td>0</td>\n",
       "      <td>3</td>\n",
       "      <td>RedCoatsForever</td>\n",
       "      <td>cnas8zw</td>\n",
       "      <td>False</td>\n",
       "      <td>t1_cnas2b6</td>\n",
       "      <td>CanadaPolitics</td>\n",
       "      <td>0</td>\n",
       "      <td>1425124282</td>\n",
       "      <td>3</td>\n",
       "      <td>0</td>\n",
       "      <td>t5_2s4gt</td>\n",
       "      <td>0</td>\n",
       "      <td>2015</td>\n",
       "      <td>1</td>\n",
       "      <td>1</td>\n",
       "      <td>1</td>\n",
       "      <td>5</td>\n",
       "      <td>30</td>\n",
       "      <td>3</td>\n",
       "    </tr>\n",
       "    <tr>\n",
       "      <th>2</th>\n",
       "      <td>False</td>\n",
       "      <td>t1_cnas8zx</td>\n",
       "      <td>t3_2qxefp</td>\n",
       "      <td>Mine uses a strait razor, and as much as i lov...</td>\n",
       "      <td>0</td>\n",
       "      <td>1</td>\n",
       "      <td>vhisic</td>\n",
       "      <td>cnas8zx</td>\n",
       "      <td>False</td>\n",
       "      <td>t3_2qxefp</td>\n",
       "      <td>AdviceAnimals</td>\n",
       "      <td>0</td>\n",
       "      <td>1425124282</td>\n",
       "      <td>1</td>\n",
       "      <td>0</td>\n",
       "      <td>t5_2s7tt</td>\n",
       "      <td>0</td>\n",
       "      <td>2015</td>\n",
       "      <td>1</td>\n",
       "      <td>1</td>\n",
       "      <td>1</td>\n",
       "      <td>5</td>\n",
       "      <td>30</td>\n",
       "      <td>3</td>\n",
       "    </tr>\n",
       "  </tbody>\n",
       "</table>\n",
       "</div>"
      ],
      "text/plain": [
       "   score_hidden        name    link_id  \\\n",
       "0         False  t1_cnas8zv  t3_2qyr1a   \n",
       "1         False  t1_cnas8zw  t3_2qv6c6   \n",
       "2         False  t1_cnas8zx  t3_2qxefp   \n",
       "\n",
       "                                                body  downs  score  \\\n",
       "0  Most of us have some family members like this....      0     14   \n",
       "1  But Mill's career was way better. Bentham is l...      0      3   \n",
       "2  Mine uses a strait razor, and as much as i lov...      0      1   \n",
       "\n",
       "            author       id  archived   parent_id       subreddit  gilded  \\\n",
       "0      YoungModern  cnas8zv     False   t3_2qyr1a        exmormon       0   \n",
       "1  RedCoatsForever  cnas8zw     False  t1_cnas2b6  CanadaPolitics       0   \n",
       "2           vhisic  cnas8zx     False   t3_2qxefp   AdviceAnimals       0   \n",
       "\n",
       "   retrieved_on  ups  controversiality subreddit_id  edited  created_utc_year  \\\n",
       "0    1425124282   14                 0     t5_2r0gj       0              2015   \n",
       "1    1425124282    3                 0     t5_2s4gt       0              2015   \n",
       "2    1425124282    1                 0     t5_2s7tt       0              2015   \n",
       "\n",
       "   created_utc_month  created_utc_week  created_utc_day  created_utc_hour  \\\n",
       "0                  1                 1                1                 5   \n",
       "1                  1                 1                1                 5   \n",
       "2                  1                 1                1                 5   \n",
       "\n",
       "   created_utc_minute  created_utc_dayofweek  \n",
       "0                  30                      3  \n",
       "1                  30                      3  \n",
       "2                  30                      3  "
      ]
     },
     "execution_count": 39,
     "metadata": {},
     "output_type": "execute_result"
    }
   ],
   "source": [
    "df[:3]"
   ]
  },
  {
   "cell_type": "code",
   "execution_count": 40,
   "metadata": {},
   "outputs": [
    {
     "data": {
      "text/plain": [
       "created_utc_hour\n",
       "5    36570\n",
       "6    70146\n",
       "7    65892\n",
       "8    27392\n",
       "dtype: int64"
      ]
     },
     "execution_count": 40,
     "metadata": {},
     "output_type": "execute_result"
    }
   ],
   "source": [
    "df.groupby('created_utc_hour').size()"
   ]
  },
  {
   "cell_type": "code",
   "execution_count": 41,
   "metadata": {},
   "outputs": [
    {
     "data": {
      "text/plain": [
       "created_utc_month\n",
       "1    200000\n",
       "dtype: int64"
      ]
     },
     "execution_count": 41,
     "metadata": {},
     "output_type": "execute_result"
    }
   ],
   "source": [
    "df.groupby('created_utc_month').size()"
   ]
  },
  {
   "cell_type": "markdown",
   "metadata": {},
   "source": [
    "`Grouping up the data based on hour and month.We know that the data is about only one month.So,it gives only one group..`"
   ]
  },
  {
   "cell_type": "markdown",
   "metadata": {},
   "source": [
    "### Handling retrieved_on feature"
   ]
  },
  {
   "cell_type": "code",
   "execution_count": 42,
   "metadata": {},
   "outputs": [
    {
     "data": {
      "text/plain": [
       "0         1425124282\n",
       "1         1425124282\n",
       "2         1425124282\n",
       "3         1425124282\n",
       "4         1425124282\n",
       "             ...    \n",
       "199995    1425122260\n",
       "199996    1425122260\n",
       "199997    1425122260\n",
       "199998    1425122260\n",
       "199999    1425122260\n",
       "Name: retrieved_on, Length: 200000, dtype: int64"
      ]
     },
     "execution_count": 42,
     "metadata": {},
     "output_type": "execute_result"
    }
   ],
   "source": [
    "df.retrieved_on"
   ]
  },
  {
   "cell_type": "code",
   "execution_count": 43,
   "metadata": {},
   "outputs": [
    {
     "name": "stdout",
     "output_type": "stream",
     "text": [
      "DataType of feature retrieved_on is : int64\n"
     ]
    }
   ],
   "source": [
    "print(f\"DataType of feature retrieved_on is : {df.retrieved_on.dtype}\")"
   ]
  },
  {
   "cell_type": "code",
   "execution_count": 44,
   "metadata": {},
   "outputs": [
    {
     "data": {
      "text/plain": [
       "datetime.datetime(2015, 2, 28, 17, 21, 22)"
      ]
     },
     "execution_count": 44,
     "metadata": {},
     "output_type": "execute_result"
    }
   ],
   "source": [
    "datetime.fromtimestamp(df.retrieved_on[0])"
   ]
  },
  {
   "cell_type": "code",
   "execution_count": 45,
   "metadata": {},
   "outputs": [],
   "source": [
    "df.retrieved_on = df.retrieved_on.apply(lambda x: datetime.fromtimestamp(x))"
   ]
  },
  {
   "cell_type": "code",
   "execution_count": 46,
   "metadata": {},
   "outputs": [
    {
     "data": {
      "text/plain": [
       "0        2015-02-28 17:21:22\n",
       "1        2015-02-28 17:21:22\n",
       "2        2015-02-28 17:21:22\n",
       "3        2015-02-28 17:21:22\n",
       "4        2015-02-28 17:21:22\n",
       "                 ...        \n",
       "199995   2015-02-28 16:47:40\n",
       "199996   2015-02-28 16:47:40\n",
       "199997   2015-02-28 16:47:40\n",
       "199998   2015-02-28 16:47:40\n",
       "199999   2015-02-28 16:47:40\n",
       "Name: retrieved_on, Length: 200000, dtype: datetime64[ns]"
      ]
     },
     "execution_count": 46,
     "metadata": {},
     "output_type": "execute_result"
    }
   ],
   "source": [
    "df.retrieved_on"
   ]
  },
  {
   "cell_type": "code",
   "execution_count": 47,
   "metadata": {},
   "outputs": [
    {
     "name": "stdout",
     "output_type": "stream",
     "text": [
      "After decoding DataType of feature created_utc is : datetime64[ns]\n"
     ]
    }
   ],
   "source": [
    "print(f\"After decoding DataType of feature created_utc is : {df.retrieved_on.dtype}\")"
   ]
  },
  {
   "cell_type": "code",
   "execution_count": 48,
   "metadata": {},
   "outputs": [
    {
     "data": {
      "text/plain": [
       "104.82180293501048"
      ]
     },
     "execution_count": 48,
     "metadata": {},
     "output_type": "execute_result"
    }
   ],
   "source": [
    "df.groupby('retrieved_on')['controversiality'].count().mean()"
   ]
  },
  {
   "cell_type": "code",
   "execution_count": 49,
   "metadata": {},
   "outputs": [],
   "source": [
    "df['retrieved_on_year'] = df.retrieved_on.dt.year\n",
    "df['retrieved_on_month'] = df.retrieved_on.dt.month\n",
    "df['retrieved_on_week'] = df.retrieved_on.dt.week\n",
    "df['retrieved_on_day'] = df.retrieved_on.dt.day\n",
    "df['retrieved_on_hour'] = df.retrieved_on.dt.hour\n",
    "df['retrieved_on_minute'] = df.retrieved_on.dt.minute\n",
    "df['retrieved_on_dayofweek'] = df.retrieved_on.dt.dayofweek"
   ]
  },
  {
   "cell_type": "markdown",
   "metadata": {},
   "source": [
    "`Extracting different type of data from timestamp like year,month,week,day,hour...etc.`"
   ]
  },
  {
   "cell_type": "code",
   "execution_count": 50,
   "metadata": {},
   "outputs": [],
   "source": [
    "df.drop('retrieved_on',axis=1,inplace=True)"
   ]
  },
  {
   "cell_type": "markdown",
   "metadata": {},
   "source": [
    "`After Extracting all useful data from timestamp we are dropping original one i.e retrieved_on because it becomes redundant.We no need it again.....After that our dataframe looks like below shown.`"
   ]
  },
  {
   "cell_type": "code",
   "execution_count": 51,
   "metadata": {},
   "outputs": [
    {
     "data": {
      "text/html": [
       "<div>\n",
       "<style scoped>\n",
       "    .dataframe tbody tr th:only-of-type {\n",
       "        vertical-align: middle;\n",
       "    }\n",
       "\n",
       "    .dataframe tbody tr th {\n",
       "        vertical-align: top;\n",
       "    }\n",
       "\n",
       "    .dataframe thead th {\n",
       "        text-align: right;\n",
       "    }\n",
       "</style>\n",
       "<table border=\"1\" class=\"dataframe\">\n",
       "  <thead>\n",
       "    <tr style=\"text-align: right;\">\n",
       "      <th></th>\n",
       "      <th>score_hidden</th>\n",
       "      <th>name</th>\n",
       "      <th>link_id</th>\n",
       "      <th>body</th>\n",
       "      <th>downs</th>\n",
       "      <th>score</th>\n",
       "      <th>author</th>\n",
       "      <th>id</th>\n",
       "      <th>archived</th>\n",
       "      <th>parent_id</th>\n",
       "      <th>subreddit</th>\n",
       "      <th>gilded</th>\n",
       "      <th>ups</th>\n",
       "      <th>controversiality</th>\n",
       "      <th>subreddit_id</th>\n",
       "      <th>edited</th>\n",
       "      <th>created_utc_year</th>\n",
       "      <th>created_utc_month</th>\n",
       "      <th>created_utc_week</th>\n",
       "      <th>created_utc_day</th>\n",
       "      <th>created_utc_hour</th>\n",
       "      <th>created_utc_minute</th>\n",
       "      <th>created_utc_dayofweek</th>\n",
       "      <th>retrieved_on_year</th>\n",
       "      <th>retrieved_on_month</th>\n",
       "      <th>retrieved_on_week</th>\n",
       "      <th>retrieved_on_day</th>\n",
       "      <th>retrieved_on_hour</th>\n",
       "      <th>retrieved_on_minute</th>\n",
       "      <th>retrieved_on_dayofweek</th>\n",
       "    </tr>\n",
       "  </thead>\n",
       "  <tbody>\n",
       "    <tr>\n",
       "      <th>0</th>\n",
       "      <td>False</td>\n",
       "      <td>t1_cnas8zv</td>\n",
       "      <td>t3_2qyr1a</td>\n",
       "      <td>Most of us have some family members like this....</td>\n",
       "      <td>0</td>\n",
       "      <td>14</td>\n",
       "      <td>YoungModern</td>\n",
       "      <td>cnas8zv</td>\n",
       "      <td>False</td>\n",
       "      <td>t3_2qyr1a</td>\n",
       "      <td>exmormon</td>\n",
       "      <td>0</td>\n",
       "      <td>14</td>\n",
       "      <td>0</td>\n",
       "      <td>t5_2r0gj</td>\n",
       "      <td>0</td>\n",
       "      <td>2015</td>\n",
       "      <td>1</td>\n",
       "      <td>1</td>\n",
       "      <td>1</td>\n",
       "      <td>5</td>\n",
       "      <td>30</td>\n",
       "      <td>3</td>\n",
       "      <td>2015</td>\n",
       "      <td>2</td>\n",
       "      <td>9</td>\n",
       "      <td>28</td>\n",
       "      <td>17</td>\n",
       "      <td>21</td>\n",
       "      <td>5</td>\n",
       "    </tr>\n",
       "    <tr>\n",
       "      <th>1</th>\n",
       "      <td>False</td>\n",
       "      <td>t1_cnas8zw</td>\n",
       "      <td>t3_2qv6c6</td>\n",
       "      <td>But Mill's career was way better. Bentham is l...</td>\n",
       "      <td>0</td>\n",
       "      <td>3</td>\n",
       "      <td>RedCoatsForever</td>\n",
       "      <td>cnas8zw</td>\n",
       "      <td>False</td>\n",
       "      <td>t1_cnas2b6</td>\n",
       "      <td>CanadaPolitics</td>\n",
       "      <td>0</td>\n",
       "      <td>3</td>\n",
       "      <td>0</td>\n",
       "      <td>t5_2s4gt</td>\n",
       "      <td>0</td>\n",
       "      <td>2015</td>\n",
       "      <td>1</td>\n",
       "      <td>1</td>\n",
       "      <td>1</td>\n",
       "      <td>5</td>\n",
       "      <td>30</td>\n",
       "      <td>3</td>\n",
       "      <td>2015</td>\n",
       "      <td>2</td>\n",
       "      <td>9</td>\n",
       "      <td>28</td>\n",
       "      <td>17</td>\n",
       "      <td>21</td>\n",
       "      <td>5</td>\n",
       "    </tr>\n",
       "  </tbody>\n",
       "</table>\n",
       "</div>"
      ],
      "text/plain": [
       "   score_hidden        name    link_id  \\\n",
       "0         False  t1_cnas8zv  t3_2qyr1a   \n",
       "1         False  t1_cnas8zw  t3_2qv6c6   \n",
       "\n",
       "                                                body  downs  score  \\\n",
       "0  Most of us have some family members like this....      0     14   \n",
       "1  But Mill's career was way better. Bentham is l...      0      3   \n",
       "\n",
       "            author       id  archived   parent_id       subreddit  gilded  \\\n",
       "0      YoungModern  cnas8zv     False   t3_2qyr1a        exmormon       0   \n",
       "1  RedCoatsForever  cnas8zw     False  t1_cnas2b6  CanadaPolitics       0   \n",
       "\n",
       "   ups  controversiality subreddit_id  edited  created_utc_year  \\\n",
       "0   14                 0     t5_2r0gj       0              2015   \n",
       "1    3                 0     t5_2s4gt       0              2015   \n",
       "\n",
       "   created_utc_month  created_utc_week  created_utc_day  created_utc_hour  \\\n",
       "0                  1                 1                1                 5   \n",
       "1                  1                 1                1                 5   \n",
       "\n",
       "   created_utc_minute  created_utc_dayofweek  retrieved_on_year  \\\n",
       "0                  30                      3               2015   \n",
       "1                  30                      3               2015   \n",
       "\n",
       "   retrieved_on_month  retrieved_on_week  retrieved_on_day  retrieved_on_hour  \\\n",
       "0                   2                  9                28                 17   \n",
       "1                   2                  9                28                 17   \n",
       "\n",
       "   retrieved_on_minute  retrieved_on_dayofweek  \n",
       "0                   21                       5  \n",
       "1                   21                       5  "
      ]
     },
     "execution_count": 51,
     "metadata": {},
     "output_type": "execute_result"
    }
   ],
   "source": [
    "df[:2]"
   ]
  },
  {
   "cell_type": "code",
   "execution_count": 52,
   "metadata": {},
   "outputs": [
    {
     "data": {
      "text/plain": [
       "retrieved_on_month\n",
       "2    200000\n",
       "dtype: int64"
      ]
     },
     "execution_count": 52,
     "metadata": {},
     "output_type": "execute_result"
    }
   ],
   "source": [
    "df.groupby('retrieved_on_month').size()"
   ]
  },
  {
   "cell_type": "code",
   "execution_count": 53,
   "metadata": {},
   "outputs": [
    {
     "data": {
      "text/plain": [
       "retrieved_on_hour\n",
       "16     73349\n",
       "17    126651\n",
       "dtype: int64"
      ]
     },
     "execution_count": 53,
     "metadata": {},
     "output_type": "execute_result"
    }
   ],
   "source": [
    "df.groupby('retrieved_on_hour').size()"
   ]
  },
  {
   "cell_type": "markdown",
   "metadata": {},
   "source": [
    "`Grouping up the data based on hour and month.We know that the data is about only one month.So,it gives only one group..`"
   ]
  },
  {
   "cell_type": "markdown",
   "metadata": {},
   "source": [
    "### Data Analysis and Data Visualization"
   ]
  },
  {
   "cell_type": "code",
   "execution_count": 57,
   "metadata": {},
   "outputs": [
    {
     "data": {
      "text/plain": [
       "30"
      ]
     },
     "execution_count": 57,
     "metadata": {},
     "output_type": "execute_result"
    }
   ],
   "source": [
    "len(df.columns)"
   ]
  },
  {
   "cell_type": "code",
   "execution_count": 59,
   "metadata": {},
   "outputs": [
    {
     "data": {
      "text/plain": [
       "subreddit\n",
       "AskReddit         14327\n",
       "CFB                6271\n",
       "hockey             4854\n",
       "funny              4338\n",
       "nba                3539\n",
       "                  ...  \n",
       "VeganFoodPorn         1\n",
       "Vampireweekend        1\n",
       "Vainglory             1\n",
       "VacuumCleaners        1\n",
       "100DaysofKeto         1\n",
       "Name: controversiality, Length: 6498, dtype: int64"
      ]
     },
     "execution_count": 59,
     "metadata": {},
     "output_type": "execute_result"
    }
   ],
   "source": [
    "df.groupby('subreddit')['controversiality'].count().sort_values(ascending=False)"
   ]
  },
  {
   "cell_type": "code",
   "execution_count": 56,
   "metadata": {},
   "outputs": [
    {
     "data": {
      "text/plain": [
       "Index(['name', 'link_id', 'body', 'author', 'id', 'parent_id', 'subreddit',\n",
       "       'subreddit_id'],\n",
       "      dtype='object')"
      ]
     },
     "execution_count": 56,
     "metadata": {},
     "output_type": "execute_result"
    }
   ],
   "source": [
    "df.select_dtypes(include=['object']).columns"
   ]
  },
  {
   "cell_type": "code",
   "execution_count": null,
   "metadata": {},
   "outputs": [],
   "source": []
  }
 ],
 "metadata": {
  "kernelspec": {
   "display_name": "Python 3",
   "language": "python",
   "name": "python3"
  },
  "language_info": {
   "codemirror_mode": {
    "name": "ipython",
    "version": 3
   },
   "file_extension": ".py",
   "mimetype": "text/x-python",
   "name": "python",
   "nbconvert_exporter": "python",
   "pygments_lexer": "ipython3",
   "version": "3.7.6"
  }
 },
 "nbformat": 4,
 "nbformat_minor": 4
}
