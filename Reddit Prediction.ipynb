{
  "nbformat": 4,
  "nbformat_minor": 0,
  "metadata": {
    "kernelspec": {
      "display_name": "Python 3",
      "language": "python",
      "name": "python3"
    },
    "colab": {
      "name": "reddit_prediction (2).ipynb",
      "provenance": [],
      "include_colab_link": true
    },
    "accelerator": "TPU"
  },
  "cells": [
    {
      "cell_type": "markdown",
      "metadata": {
        "id": "view-in-github",
        "colab_type": "text"
      },
      "source": [
        "<a href=\"https://colab.research.google.com/github/suryagokul/mini-project/blob/main/Reddit%20Prediction.ipynb\" target=\"_parent\"><img src=\"https://colab.research.google.com/assets/colab-badge.svg\" alt=\"Open In Colab\"/></a>"
      ]
    },
    {
      "cell_type": "code",
      "metadata": {
        "id": "xFwEoe-Dc6j6"
      },
      "source": [
        "from google.colab import drive"
      ],
      "execution_count": 1,
      "outputs": []
    },
    {
      "cell_type": "code",
      "metadata": {
        "colab": {
          "base_uri": "https://localhost:8080/"
        },
        "id": "T6wt-KhxdA8P",
        "outputId": "0c0f38ee-6200-490d-9a7d-40b0c3767e97"
      },
      "source": [
        "drive.mount('/content/drive')"
      ],
      "execution_count": 2,
      "outputs": [
        {
          "output_type": "stream",
          "text": [
            "Drive already mounted at /content/drive; to attempt to forcibly remount, call drive.mount(\"/content/drive\", force_remount=True).\n"
          ],
          "name": "stdout"
        }
      ]
    },
    {
      "cell_type": "code",
      "metadata": {
        "id": "UNDsIWRjc3mp"
      },
      "source": [
        "import pandas as pd\n",
        "\n",
        "import seaborn as sns\n",
        "\n",
        "import matplotlib.pyplot as plt\n",
        "\n",
        "%matplotlib inline\n",
        "\n",
        "import numpy as np"
      ],
      "execution_count": 3,
      "outputs": []
    },
    {
      "cell_type": "code",
      "metadata": {
        "colab": {
          "base_uri": "https://localhost:8080/"
        },
        "id": "De0lykdJhH6o",
        "outputId": "d3c3aadf-4cb1-41b2-8838-fbba3000cdc8"
      },
      "source": [
        "df = pd.read_csv('/content/drive/MyDrive/Train_v2.csv')"
      ],
      "execution_count": 4,
      "outputs": [
        {
          "output_type": "stream",
          "text": [
            "/usr/local/lib/python3.6/dist-packages/IPython/core/interactiveshell.py:2718: DtypeWarning: Columns (4) have mixed types.Specify dtype option on import or set low_memory=False.\n",
            "  interactivity=interactivity, compiler=compiler, result=result)\n"
          ],
          "name": "stderr"
        }
      ]
    },
    {
      "cell_type": "markdown",
      "metadata": {
        "id": "Q3Keg59_hhTX"
      },
      "source": [
        "`If you are handling with huge file then go with this snippet using chunksize as per your requirement.chunksize - no.of rows to take...`\r\n",
        "\r\n",
        "reader = pd.read_json(\"RC_2015-01\", orient=\"records\", lines=True, chunksize=200000)\r\n",
        "\r\n",
        "f= []\r\n",
        "\r\n",
        "for i in reader:\r\n",
        "    \r\n",
        "      f.append(i)\r\n",
        "      break\r\n",
        "\r\n",
        "df = f[0]\r\n",
        "\r\n",
        "`It is the final dataframe`"
      ]
    },
    {
      "cell_type": "code",
      "metadata": {
        "scrolled": true,
        "colab": {
          "base_uri": "https://localhost:8080/",
          "height": 400
        },
        "id": "F3eQZP34c3m0",
        "outputId": "7351604b-6b59-43b0-cd17-3968dc334eab"
      },
      "source": [
        "df[:3]\n"
      ],
      "execution_count": 5,
      "outputs": [
        {
          "output_type": "execute_result",
          "data": {
            "text/html": [
              "<div>\n",
              "<style scoped>\n",
              "    .dataframe tbody tr th:only-of-type {\n",
              "        vertical-align: middle;\n",
              "    }\n",
              "\n",
              "    .dataframe tbody tr th {\n",
              "        vertical-align: top;\n",
              "    }\n",
              "\n",
              "    .dataframe thead th {\n",
              "        text-align: right;\n",
              "    }\n",
              "</style>\n",
              "<table border=\"1\" class=\"dataframe\">\n",
              "  <thead>\n",
              "    <tr style=\"text-align: right;\">\n",
              "      <th></th>\n",
              "      <th>score_hidden</th>\n",
              "      <th>name</th>\n",
              "      <th>link_id</th>\n",
              "      <th>body</th>\n",
              "      <th>downs</th>\n",
              "      <th>created_utc</th>\n",
              "      <th>score</th>\n",
              "      <th>author</th>\n",
              "      <th>distinguished</th>\n",
              "      <th>id</th>\n",
              "      <th>archived</th>\n",
              "      <th>parent_id</th>\n",
              "      <th>subreddit</th>\n",
              "      <th>author_flair_css_class</th>\n",
              "      <th>author_flair_text</th>\n",
              "      <th>gilded</th>\n",
              "      <th>retrieved_on</th>\n",
              "      <th>ups</th>\n",
              "      <th>controversiality</th>\n",
              "      <th>subreddit_id</th>\n",
              "      <th>edited</th>\n",
              "    </tr>\n",
              "  </thead>\n",
              "  <tbody>\n",
              "    <tr>\n",
              "      <th>0</th>\n",
              "      <td>False</td>\n",
              "      <td>t1_cnat3w8</td>\n",
              "      <td>t3_2qx5jp</td>\n",
              "      <td>Damn near everything belongs to the Lizards.</td>\n",
              "      <td>0</td>\n",
              "      <td>1420072332</td>\n",
              "      <td>3</td>\n",
              "      <td>giantbfg</td>\n",
              "      <td>NaN</td>\n",
              "      <td>cnat3w8</td>\n",
              "      <td>False</td>\n",
              "      <td>t1_cnalh8p</td>\n",
              "      <td>skyrim</td>\n",
              "      <td>NaN</td>\n",
              "      <td>NaN</td>\n",
              "      <td>0</td>\n",
              "      <td>1425123882</td>\n",
              "      <td>3.0</td>\n",
              "      <td>0.0</td>\n",
              "      <td>t5_2s837</td>\n",
              "      <td>False</td>\n",
              "    </tr>\n",
              "    <tr>\n",
              "      <th>1</th>\n",
              "      <td>False</td>\n",
              "      <td>t1_cnauvlk</td>\n",
              "      <td>t3_2qvdk9</td>\n",
              "      <td>He does, I'd be backing away very slowly...</td>\n",
              "      <td>0</td>\n",
              "      <td>1420076555</td>\n",
              "      <td>1</td>\n",
              "      <td>tejmar</td>\n",
              "      <td>NaN</td>\n",
              "      <td>cnauvlk</td>\n",
              "      <td>False</td>\n",
              "      <td>t1_cnanz1m</td>\n",
              "      <td>pic</td>\n",
              "      <td>NaN</td>\n",
              "      <td>NaN</td>\n",
              "      <td>0</td>\n",
              "      <td>1425123056</td>\n",
              "      <td>1.0</td>\n",
              "      <td>0.0</td>\n",
              "      <td>t5_2qheq</td>\n",
              "      <td>False</td>\n",
              "    </tr>\n",
              "    <tr>\n",
              "      <th>2</th>\n",
              "      <td>False</td>\n",
              "      <td>t1_cnatevb</td>\n",
              "      <td>t3_2kvwjv</td>\n",
              "      <td>I weigh 285, I guarantee ya I could grab that ...</td>\n",
              "      <td>0</td>\n",
              "      <td>1420073046</td>\n",
              "      <td>-29</td>\n",
              "      <td>GregJarnigan</td>\n",
              "      <td>NaN</td>\n",
              "      <td>cnatevb</td>\n",
              "      <td>False</td>\n",
              "      <td>t3_2kvwjv</td>\n",
              "      <td>fatpeoplehate</td>\n",
              "      <td>NaN</td>\n",
              "      <td>NaN</td>\n",
              "      <td>0</td>\n",
              "      <td>1425123740</td>\n",
              "      <td>-29.0</td>\n",
              "      <td>0.0</td>\n",
              "      <td>t5_2x9xz</td>\n",
              "      <td>False</td>\n",
              "    </tr>\n",
              "  </tbody>\n",
              "</table>\n",
              "</div>"
            ],
            "text/plain": [
              "  score_hidden        name    link_id  ... controversiality subreddit_id edited\n",
              "0        False  t1_cnat3w8  t3_2qx5jp  ...              0.0     t5_2s837  False\n",
              "1        False  t1_cnauvlk  t3_2qvdk9  ...              0.0     t5_2qheq  False\n",
              "2        False  t1_cnatevb  t3_2kvwjv  ...              0.0     t5_2x9xz  False\n",
              "\n",
              "[3 rows x 21 columns]"
            ]
          },
          "metadata": {
            "tags": []
          },
          "execution_count": 5
        }
      ]
    },
    {
      "cell_type": "code",
      "metadata": {
        "colab": {
          "base_uri": "https://localhost:8080/"
        },
        "id": "tfmDzjB5c3m1",
        "outputId": "d00be80a-8a29-4510-ee37-490ac451532d"
      },
      "source": [
        "df.shape"
      ],
      "execution_count": 6,
      "outputs": [
        {
          "output_type": "execute_result",
          "data": {
            "text/plain": [
              "(200090, 21)"
            ]
          },
          "metadata": {
            "tags": []
          },
          "execution_count": 6
        }
      ]
    },
    {
      "cell_type": "markdown",
      "metadata": {
        "heading_collapsed": true,
        "id": "uaCsOo2ic3m2"
      },
      "source": [
        "### **Features Description**\n",
        "\n",
        "1. **score_hidden**\n",
        "\n",
        "> `Some subreddits are using a feature that will hide a comments score for a specific amount of time after being posted. The moderators can choose to hide the score for anywhere from 1 minute to 24 hours. If you hover over [score hidden] the alt text will tell you how long the score will be hidden for in that subreddit.`\n",
        "\n",
        "2. **name**\n",
        "\n",
        "> `Name of the users which is displayed.It is unique for each and every user.`\n",
        "\n",
        "3. **link_id**\n",
        "\n",
        "> `Id for the comments/submission link.It may be repetitive also`\n",
        "\n",
        "4. **body**\n",
        "\n",
        "> `It is the text written in posts....`\n",
        "\n",
        "5. **downs**\n",
        "\n",
        "> `It is the downvotes which are given by users for particular post!`\n",
        "\n",
        "6. **controversiality**\n",
        "\n",
        "> `It is nothing but rate of controversiality of each and every post.`\n",
        "\n",
        "7. **gilded**\n",
        "\n",
        "> `When someone buys you reddit gold on a comment you make, it's called being gilded.`\n",
        "\n",
        "8. **ups**\n",
        "\n",
        "> `It is the dependent feature which have to predict.How many number of upvotes will occur based on all the independent features.`"
      ]
    },
    {
      "cell_type": "markdown",
      "metadata": {
        "id": "JTubn0Dlc3m4"
      },
      "source": [
        "### Statistical Analysis\n",
        "\n",
        "`It's the science of collecting, exploring and presenting large amounts of data to discover underlying patterns and trends. Statistics are applied every day – in research, industry and government – to become more scientific about decisions that need to be made.Analysing using Statistical techniques.`"
      ]
    },
    {
      "cell_type": "code",
      "metadata": {
        "colab": {
          "base_uri": "https://localhost:8080/"
        },
        "id": "_DgjH4Bac3nG",
        "outputId": "f7481fd6-649f-4f97-87b4-d378f8fc3916"
      },
      "source": [
        "df.columns"
      ],
      "execution_count": 7,
      "outputs": [
        {
          "output_type": "execute_result",
          "data": {
            "text/plain": [
              "Index(['score_hidden', 'name', 'link_id', 'body', 'downs', 'created_utc',\n",
              "       'score', 'author', 'distinguished', 'id', 'archived', 'parent_id',\n",
              "       'subreddit', 'author_flair_css_class', 'author_flair_text', 'gilded',\n",
              "       'retrieved_on', 'ups', 'controversiality', 'subreddit_id', 'edited'],\n",
              "      dtype='object')"
            ]
          },
          "metadata": {
            "tags": []
          },
          "execution_count": 7
        }
      ]
    },
    {
      "cell_type": "code",
      "metadata": {
        "scrolled": true,
        "colab": {
          "base_uri": "https://localhost:8080/",
          "height": 0
        },
        "id": "7hL29aLMc3nH",
        "outputId": "952a253d-f059-4945-eb79-b303d30678f4"
      },
      "source": [
        "df.describe()"
      ],
      "execution_count": 8,
      "outputs": [
        {
          "output_type": "execute_result",
          "data": {
            "text/html": [
              "<div>\n",
              "<style scoped>\n",
              "    .dataframe tbody tr th:only-of-type {\n",
              "        vertical-align: middle;\n",
              "    }\n",
              "\n",
              "    .dataframe tbody tr th {\n",
              "        vertical-align: top;\n",
              "    }\n",
              "\n",
              "    .dataframe thead th {\n",
              "        text-align: right;\n",
              "    }\n",
              "</style>\n",
              "<table border=\"1\" class=\"dataframe\">\n",
              "  <thead>\n",
              "    <tr style=\"text-align: right;\">\n",
              "      <th></th>\n",
              "      <th>ups</th>\n",
              "      <th>controversiality</th>\n",
              "    </tr>\n",
              "  </thead>\n",
              "  <tbody>\n",
              "    <tr>\n",
              "      <th>count</th>\n",
              "      <td>199936.000000</td>\n",
              "      <td>199936.0</td>\n",
              "    </tr>\n",
              "    <tr>\n",
              "      <th>mean</th>\n",
              "      <td>4.353983</td>\n",
              "      <td>0.0</td>\n",
              "    </tr>\n",
              "    <tr>\n",
              "      <th>std</th>\n",
              "      <td>30.950947</td>\n",
              "      <td>0.0</td>\n",
              "    </tr>\n",
              "    <tr>\n",
              "      <th>min</th>\n",
              "      <td>-353.000000</td>\n",
              "      <td>0.0</td>\n",
              "    </tr>\n",
              "    <tr>\n",
              "      <th>25%</th>\n",
              "      <td>1.000000</td>\n",
              "      <td>0.0</td>\n",
              "    </tr>\n",
              "    <tr>\n",
              "      <th>50%</th>\n",
              "      <td>1.000000</td>\n",
              "      <td>0.0</td>\n",
              "    </tr>\n",
              "    <tr>\n",
              "      <th>75%</th>\n",
              "      <td>3.000000</td>\n",
              "      <td>0.0</td>\n",
              "    </tr>\n",
              "    <tr>\n",
              "      <th>max</th>\n",
              "      <td>3967.000000</td>\n",
              "      <td>0.0</td>\n",
              "    </tr>\n",
              "  </tbody>\n",
              "</table>\n",
              "</div>"
            ],
            "text/plain": [
              "                 ups  controversiality\n",
              "count  199936.000000          199936.0\n",
              "mean        4.353983               0.0\n",
              "std        30.950947               0.0\n",
              "min      -353.000000               0.0\n",
              "25%         1.000000               0.0\n",
              "50%         1.000000               0.0\n",
              "75%         3.000000               0.0\n",
              "max      3967.000000               0.0"
            ]
          },
          "metadata": {
            "tags": []
          },
          "execution_count": 8
        }
      ]
    },
    {
      "cell_type": "markdown",
      "metadata": {
        "id": "TU9K7izBc3nJ"
      },
      "source": [
        "`Here we are describing each and every column.For Example consider feature ups,where maximum score is 3967 and minimum score is -302 i.e negative.It only gives description of numerical features..`"
      ]
    },
    {
      "cell_type": "code",
      "metadata": {
        "colab": {
          "base_uri": "https://localhost:8080/",
          "height": 0
        },
        "id": "krJtnGRHc3nJ",
        "outputId": "c9032572-3f32-4d5b-85e6-f19b436b8113"
      },
      "source": [
        "df.describe(include='all')"
      ],
      "execution_count": 9,
      "outputs": [
        {
          "output_type": "execute_result",
          "data": {
            "text/html": [
              "<div>\n",
              "<style scoped>\n",
              "    .dataframe tbody tr th:only-of-type {\n",
              "        vertical-align: middle;\n",
              "    }\n",
              "\n",
              "    .dataframe tbody tr th {\n",
              "        vertical-align: top;\n",
              "    }\n",
              "\n",
              "    .dataframe thead th {\n",
              "        text-align: right;\n",
              "    }\n",
              "</style>\n",
              "<table border=\"1\" class=\"dataframe\">\n",
              "  <thead>\n",
              "    <tr style=\"text-align: right;\">\n",
              "      <th></th>\n",
              "      <th>score_hidden</th>\n",
              "      <th>name</th>\n",
              "      <th>link_id</th>\n",
              "      <th>body</th>\n",
              "      <th>downs</th>\n",
              "      <th>created_utc</th>\n",
              "      <th>score</th>\n",
              "      <th>author</th>\n",
              "      <th>distinguished</th>\n",
              "      <th>id</th>\n",
              "      <th>archived</th>\n",
              "      <th>parent_id</th>\n",
              "      <th>subreddit</th>\n",
              "      <th>author_flair_css_class</th>\n",
              "      <th>author_flair_text</th>\n",
              "      <th>gilded</th>\n",
              "      <th>retrieved_on</th>\n",
              "      <th>ups</th>\n",
              "      <th>controversiality</th>\n",
              "      <th>subreddit_id</th>\n",
              "      <th>edited</th>\n",
              "    </tr>\n",
              "  </thead>\n",
              "  <tbody>\n",
              "    <tr>\n",
              "      <th>count</th>\n",
              "      <td>200064</td>\n",
              "      <td>200064</td>\n",
              "      <td>200064</td>\n",
              "      <td>200055</td>\n",
              "      <td>199940</td>\n",
              "      <td>200000</td>\n",
              "      <td>200000</td>\n",
              "      <td>200000</td>\n",
              "      <td>1544</td>\n",
              "      <td>199960</td>\n",
              "      <td>199959</td>\n",
              "      <td>200000</td>\n",
              "      <td>200000</td>\n",
              "      <td>61653</td>\n",
              "      <td>58214</td>\n",
              "      <td>200000</td>\n",
              "      <td>199996</td>\n",
              "      <td>199936.000000</td>\n",
              "      <td>199936.0</td>\n",
              "      <td>199936</td>\n",
              "      <td>199936</td>\n",
              "    </tr>\n",
              "    <tr>\n",
              "      <th>unique</th>\n",
              "      <td>7</td>\n",
              "      <td>200063</td>\n",
              "      <td>49377</td>\n",
              "      <td>182287</td>\n",
              "      <td>6</td>\n",
              "      <td>23938</td>\n",
              "      <td>547</td>\n",
              "      <td>94087</td>\n",
              "      <td>50</td>\n",
              "      <td>199958</td>\n",
              "      <td>21</td>\n",
              "      <td>137773</td>\n",
              "      <td>6756</td>\n",
              "      <td>10190</td>\n",
              "      <td>19575</td>\n",
              "      <td>53</td>\n",
              "      <td>3864</td>\n",
              "      <td>NaN</td>\n",
              "      <td>NaN</td>\n",
              "      <td>6693</td>\n",
              "      <td>5004</td>\n",
              "    </tr>\n",
              "    <tr>\n",
              "      <th>top</th>\n",
              "      <td>False</td>\n",
              "      <td>1</td>\n",
              "      <td>t3_2qys88</td>\n",
              "      <td>[deleted]</td>\n",
              "      <td>0</td>\n",
              "      <td>1420071864</td>\n",
              "      <td>1</td>\n",
              "      <td>[deleted]</td>\n",
              "      <td>moderator</td>\n",
              "      <td>H5-Onyx</td>\n",
              "      <td>False</td>\n",
              "      <td>t3_2qys88</td>\n",
              "      <td>AskReddit</td>\n",
              "      <td>default</td>\n",
              "      <td>TORNHL</td>\n",
              "      <td>0</td>\n",
              "      <td>1425122380</td>\n",
              "      <td>NaN</td>\n",
              "      <td>NaN</td>\n",
              "      <td>t5_2qh1i</td>\n",
              "      <td>False</td>\n",
              "    </tr>\n",
              "    <tr>\n",
              "      <th>freq</th>\n",
              "      <td>199255</td>\n",
              "      <td>2</td>\n",
              "      <td>3797</td>\n",
              "      <td>12917</td>\n",
              "      <td>130971</td>\n",
              "      <td>25</td>\n",
              "      <td>93258</td>\n",
              "      <td>15980</td>\n",
              "      <td>1483</td>\n",
              "      <td>2</td>\n",
              "      <td>196459</td>\n",
              "      <td>1643</td>\n",
              "      <td>15587</td>\n",
              "      <td>686</td>\n",
              "      <td>392</td>\n",
              "      <td>199800</td>\n",
              "      <td>159</td>\n",
              "      <td>NaN</td>\n",
              "      <td>NaN</td>\n",
              "      <td>15587</td>\n",
              "      <td>194612</td>\n",
              "    </tr>\n",
              "    <tr>\n",
              "      <th>mean</th>\n",
              "      <td>NaN</td>\n",
              "      <td>NaN</td>\n",
              "      <td>NaN</td>\n",
              "      <td>NaN</td>\n",
              "      <td>NaN</td>\n",
              "      <td>NaN</td>\n",
              "      <td>NaN</td>\n",
              "      <td>NaN</td>\n",
              "      <td>NaN</td>\n",
              "      <td>NaN</td>\n",
              "      <td>NaN</td>\n",
              "      <td>NaN</td>\n",
              "      <td>NaN</td>\n",
              "      <td>NaN</td>\n",
              "      <td>NaN</td>\n",
              "      <td>NaN</td>\n",
              "      <td>NaN</td>\n",
              "      <td>4.353983</td>\n",
              "      <td>0.0</td>\n",
              "      <td>NaN</td>\n",
              "      <td>NaN</td>\n",
              "    </tr>\n",
              "    <tr>\n",
              "      <th>std</th>\n",
              "      <td>NaN</td>\n",
              "      <td>NaN</td>\n",
              "      <td>NaN</td>\n",
              "      <td>NaN</td>\n",
              "      <td>NaN</td>\n",
              "      <td>NaN</td>\n",
              "      <td>NaN</td>\n",
              "      <td>NaN</td>\n",
              "      <td>NaN</td>\n",
              "      <td>NaN</td>\n",
              "      <td>NaN</td>\n",
              "      <td>NaN</td>\n",
              "      <td>NaN</td>\n",
              "      <td>NaN</td>\n",
              "      <td>NaN</td>\n",
              "      <td>NaN</td>\n",
              "      <td>NaN</td>\n",
              "      <td>30.950947</td>\n",
              "      <td>0.0</td>\n",
              "      <td>NaN</td>\n",
              "      <td>NaN</td>\n",
              "    </tr>\n",
              "    <tr>\n",
              "      <th>min</th>\n",
              "      <td>NaN</td>\n",
              "      <td>NaN</td>\n",
              "      <td>NaN</td>\n",
              "      <td>NaN</td>\n",
              "      <td>NaN</td>\n",
              "      <td>NaN</td>\n",
              "      <td>NaN</td>\n",
              "      <td>NaN</td>\n",
              "      <td>NaN</td>\n",
              "      <td>NaN</td>\n",
              "      <td>NaN</td>\n",
              "      <td>NaN</td>\n",
              "      <td>NaN</td>\n",
              "      <td>NaN</td>\n",
              "      <td>NaN</td>\n",
              "      <td>NaN</td>\n",
              "      <td>NaN</td>\n",
              "      <td>-353.000000</td>\n",
              "      <td>0.0</td>\n",
              "      <td>NaN</td>\n",
              "      <td>NaN</td>\n",
              "    </tr>\n",
              "    <tr>\n",
              "      <th>25%</th>\n",
              "      <td>NaN</td>\n",
              "      <td>NaN</td>\n",
              "      <td>NaN</td>\n",
              "      <td>NaN</td>\n",
              "      <td>NaN</td>\n",
              "      <td>NaN</td>\n",
              "      <td>NaN</td>\n",
              "      <td>NaN</td>\n",
              "      <td>NaN</td>\n",
              "      <td>NaN</td>\n",
              "      <td>NaN</td>\n",
              "      <td>NaN</td>\n",
              "      <td>NaN</td>\n",
              "      <td>NaN</td>\n",
              "      <td>NaN</td>\n",
              "      <td>NaN</td>\n",
              "      <td>NaN</td>\n",
              "      <td>1.000000</td>\n",
              "      <td>0.0</td>\n",
              "      <td>NaN</td>\n",
              "      <td>NaN</td>\n",
              "    </tr>\n",
              "    <tr>\n",
              "      <th>50%</th>\n",
              "      <td>NaN</td>\n",
              "      <td>NaN</td>\n",
              "      <td>NaN</td>\n",
              "      <td>NaN</td>\n",
              "      <td>NaN</td>\n",
              "      <td>NaN</td>\n",
              "      <td>NaN</td>\n",
              "      <td>NaN</td>\n",
              "      <td>NaN</td>\n",
              "      <td>NaN</td>\n",
              "      <td>NaN</td>\n",
              "      <td>NaN</td>\n",
              "      <td>NaN</td>\n",
              "      <td>NaN</td>\n",
              "      <td>NaN</td>\n",
              "      <td>NaN</td>\n",
              "      <td>NaN</td>\n",
              "      <td>1.000000</td>\n",
              "      <td>0.0</td>\n",
              "      <td>NaN</td>\n",
              "      <td>NaN</td>\n",
              "    </tr>\n",
              "    <tr>\n",
              "      <th>75%</th>\n",
              "      <td>NaN</td>\n",
              "      <td>NaN</td>\n",
              "      <td>NaN</td>\n",
              "      <td>NaN</td>\n",
              "      <td>NaN</td>\n",
              "      <td>NaN</td>\n",
              "      <td>NaN</td>\n",
              "      <td>NaN</td>\n",
              "      <td>NaN</td>\n",
              "      <td>NaN</td>\n",
              "      <td>NaN</td>\n",
              "      <td>NaN</td>\n",
              "      <td>NaN</td>\n",
              "      <td>NaN</td>\n",
              "      <td>NaN</td>\n",
              "      <td>NaN</td>\n",
              "      <td>NaN</td>\n",
              "      <td>3.000000</td>\n",
              "      <td>0.0</td>\n",
              "      <td>NaN</td>\n",
              "      <td>NaN</td>\n",
              "    </tr>\n",
              "    <tr>\n",
              "      <th>max</th>\n",
              "      <td>NaN</td>\n",
              "      <td>NaN</td>\n",
              "      <td>NaN</td>\n",
              "      <td>NaN</td>\n",
              "      <td>NaN</td>\n",
              "      <td>NaN</td>\n",
              "      <td>NaN</td>\n",
              "      <td>NaN</td>\n",
              "      <td>NaN</td>\n",
              "      <td>NaN</td>\n",
              "      <td>NaN</td>\n",
              "      <td>NaN</td>\n",
              "      <td>NaN</td>\n",
              "      <td>NaN</td>\n",
              "      <td>NaN</td>\n",
              "      <td>NaN</td>\n",
              "      <td>NaN</td>\n",
              "      <td>3967.000000</td>\n",
              "      <td>0.0</td>\n",
              "      <td>NaN</td>\n",
              "      <td>NaN</td>\n",
              "    </tr>\n",
              "  </tbody>\n",
              "</table>\n",
              "</div>"
            ],
            "text/plain": [
              "       score_hidden    name    link_id  ... controversiality subreddit_id  edited\n",
              "count        200064  200064     200064  ...         199936.0       199936  199936\n",
              "unique            7  200063      49377  ...              NaN         6693    5004\n",
              "top           False       1  t3_2qys88  ...              NaN     t5_2qh1i   False\n",
              "freq         199255       2       3797  ...              NaN        15587  194612\n",
              "mean            NaN     NaN        NaN  ...              0.0          NaN     NaN\n",
              "std             NaN     NaN        NaN  ...              0.0          NaN     NaN\n",
              "min             NaN     NaN        NaN  ...              0.0          NaN     NaN\n",
              "25%             NaN     NaN        NaN  ...              0.0          NaN     NaN\n",
              "50%             NaN     NaN        NaN  ...              0.0          NaN     NaN\n",
              "75%             NaN     NaN        NaN  ...              0.0          NaN     NaN\n",
              "max             NaN     NaN        NaN  ...              0.0          NaN     NaN\n",
              "\n",
              "[11 rows x 21 columns]"
            ]
          },
          "metadata": {
            "tags": []
          },
          "execution_count": 9
        }
      ]
    },
    {
      "cell_type": "markdown",
      "metadata": {
        "id": "K23li0Rmc3nK"
      },
      "source": [
        "**To get description of some categorical columns we have to write `include='all'`as shown above.**"
      ]
    },
    {
      "cell_type": "code",
      "metadata": {
        "colab": {
          "base_uri": "https://localhost:8080/"
        },
        "id": "-R83ZM3Cc3nL",
        "outputId": "e7fac48e-c684-4d18-f36f-d0fcbb0ced1d"
      },
      "source": [
        "df.info()"
      ],
      "execution_count": 10,
      "outputs": [
        {
          "output_type": "stream",
          "text": [
            "<class 'pandas.core.frame.DataFrame'>\n",
            "RangeIndex: 200090 entries, 0 to 200089\n",
            "Data columns (total 21 columns):\n",
            " #   Column                  Non-Null Count   Dtype  \n",
            "---  ------                  --------------   -----  \n",
            " 0   score_hidden            200064 non-null  object \n",
            " 1   name                    200064 non-null  object \n",
            " 2   link_id                 200064 non-null  object \n",
            " 3   body                    200055 non-null  object \n",
            " 4   downs                   199940 non-null  object \n",
            " 5   created_utc             200000 non-null  object \n",
            " 6   score                   200000 non-null  object \n",
            " 7   author                  200000 non-null  object \n",
            " 8   distinguished           1544 non-null    object \n",
            " 9   id                      199960 non-null  object \n",
            " 10  archived                199959 non-null  object \n",
            " 11  parent_id               200000 non-null  object \n",
            " 12  subreddit               200000 non-null  object \n",
            " 13  author_flair_css_class  61653 non-null   object \n",
            " 14  author_flair_text       58214 non-null   object \n",
            " 15  gilded                  200000 non-null  object \n",
            " 16  retrieved_on            199996 non-null  object \n",
            " 17  ups                     199936 non-null  float64\n",
            " 18  controversiality        199936 non-null  float64\n",
            " 19  subreddit_id            199936 non-null  object \n",
            " 20  edited                  199936 non-null  object \n",
            "dtypes: float64(2), object(19)\n",
            "memory usage: 32.1+ MB\n"
          ],
          "name": "stdout"
        }
      ]
    },
    {
      "cell_type": "code",
      "metadata": {
        "colab": {
          "base_uri": "https://localhost:8080/"
        },
        "id": "JAdMpEFrc3nM",
        "outputId": "9494dcf7-74c0-4dbb-cb31-bc4cd4bb7b9f"
      },
      "source": [
        "print(f\"Total number of Categorical columns are : {len(df.select_dtypes(include=['object']).columns)}\")"
      ],
      "execution_count": 11,
      "outputs": [
        {
          "output_type": "stream",
          "text": [
            "Total number of Categorical columns are : 19\n"
          ],
          "name": "stdout"
        }
      ]
    },
    {
      "cell_type": "markdown",
      "metadata": {
        "id": "4do3ZM7Tc3nO"
      },
      "source": [
        "### Handling Null Values\n",
        "\n",
        "`The most time consuming part of a data science project is data cleaning and preparation. However, there are many powerful tools to expedite this process. One of them is Pandas which is a widely used data analysis library for Python.\n",
        "Handling missing values is an essential part of data cleaning and preparation process because almost all data in real life comes with some missing values.`"
      ]
    },
    {
      "cell_type": "code",
      "metadata": {
        "scrolled": true,
        "id": "NUmEmgmwc3nP",
        "colab": {
          "base_uri": "https://localhost:8080/"
        },
        "outputId": "a9e5d259-30da-4cf6-cb30-4de434644fc8"
      },
      "source": [
        "df.isnull().sum()"
      ],
      "execution_count": 12,
      "outputs": [
        {
          "output_type": "execute_result",
          "data": {
            "text/plain": [
              "score_hidden                  26\n",
              "name                          26\n",
              "link_id                       26\n",
              "body                          35\n",
              "downs                        150\n",
              "created_utc                   90\n",
              "score                         90\n",
              "author                        90\n",
              "distinguished             198546\n",
              "id                           130\n",
              "archived                     131\n",
              "parent_id                     90\n",
              "subreddit                     90\n",
              "author_flair_css_class    138437\n",
              "author_flair_text         141876\n",
              "gilded                        90\n",
              "retrieved_on                  94\n",
              "ups                          154\n",
              "controversiality             154\n",
              "subreddit_id                 154\n",
              "edited                       154\n",
              "dtype: int64"
            ]
          },
          "metadata": {
            "tags": []
          },
          "execution_count": 12
        }
      ]
    },
    {
      "cell_type": "code",
      "metadata": {
        "id": "CTGsmydSc3nQ"
      },
      "source": [
        "\r\n",
        "df.drop(['distinguished','author_flair_css_class','author_flair_text','link_id','id','parent_id','subreddit_id','name','author'],axis=1,inplace=True)"
      ],
      "execution_count": 13,
      "outputs": []
    },
    {
      "cell_type": "code",
      "metadata": {
        "id": "M0ulT_9yc3nR",
        "colab": {
          "base_uri": "https://localhost:8080/"
        },
        "outputId": "6c88907e-36cf-48ce-9f5a-c68ad72ffb79"
      },
      "source": [
        "len(df.columns)"
      ],
      "execution_count": 14,
      "outputs": [
        {
          "output_type": "execute_result",
          "data": {
            "text/plain": [
              "12"
            ]
          },
          "metadata": {
            "tags": []
          },
          "execution_count": 14
        }
      ]
    },
    {
      "cell_type": "code",
      "metadata": {
        "id": "QXAjrB0BFAo3"
      },
      "source": [
        "df.dropna(inplace=True)"
      ],
      "execution_count": 15,
      "outputs": []
    },
    {
      "cell_type": "code",
      "metadata": {
        "id": "EJVKpsr5c3nR",
        "colab": {
          "base_uri": "https://localhost:8080/"
        },
        "outputId": "5c5e92da-8fec-42e3-bc47-2bc058e53ea5"
      },
      "source": [
        "df.isnull().any().sum()"
      ],
      "execution_count": 16,
      "outputs": [
        {
          "output_type": "execute_result",
          "data": {
            "text/plain": [
              "0"
            ]
          },
          "metadata": {
            "tags": []
          },
          "execution_count": 16
        }
      ]
    },
    {
      "cell_type": "code",
      "metadata": {
        "id": "PgkxZ8p2Fc2X"
      },
      "source": [
        "df[['score','downs','gilded','created_utc','retrieved_on']] = df[['score','downs','gilded','created_utc','retrieved_on']].astype('int')"
      ],
      "execution_count": 17,
      "outputs": []
    },
    {
      "cell_type": "code",
      "metadata": {
        "colab": {
          "base_uri": "https://localhost:8080/"
        },
        "id": "vWZozOcZFvRH",
        "outputId": "75dccd7c-c47b-4e04-c7ee-72114b10082c"
      },
      "source": [
        "df.select_dtypes(include=['object']).columns"
      ],
      "execution_count": 18,
      "outputs": [
        {
          "output_type": "execute_result",
          "data": {
            "text/plain": [
              "Index(['score_hidden', 'body', 'archived', 'subreddit', 'edited'], dtype='object')"
            ]
          },
          "metadata": {
            "tags": []
          },
          "execution_count": 18
        }
      ]
    },
    {
      "cell_type": "code",
      "metadata": {
        "id": "t6FVSg1qc3nS",
        "colab": {
          "base_uri": "https://localhost:8080/"
        },
        "outputId": "27ec69c1-5762-4997-d090-89ab80680a34"
      },
      "source": [
        "print(f\"After Handling null values and conversion total number of Categorical columns are : {len(df.select_dtypes(include=['object']).columns)}\")"
      ],
      "execution_count": 19,
      "outputs": [
        {
          "output_type": "stream",
          "text": [
            "After Handling null values and conversion total number of Categorical columns are : 5\n"
          ],
          "name": "stdout"
        }
      ]
    },
    {
      "cell_type": "markdown",
      "metadata": {
        "id": "gfvoT1zxc3nT"
      },
      "source": [
        "`Here by seeing this we can say that subreddits like AskReddit,CFB,hockey are creates more controversiality than others.`"
      ]
    },
    {
      "cell_type": "code",
      "metadata": {
        "colab": {
          "base_uri": "https://localhost:8080/",
          "height": 0
        },
        "id": "to2Vs3Qfc3nN",
        "outputId": "3ab38cba-713a-46c8-86ac-69c34a49f4cb"
      },
      "source": [
        "plt.figure(figsize=(12,5))\n",
        "sns.heatmap(df.corr(),annot=True)"
      ],
      "execution_count": 20,
      "outputs": [
        {
          "output_type": "execute_result",
          "data": {
            "text/plain": [
              "<matplotlib.axes._subplots.AxesSubplot at 0x7f7d506adcf8>"
            ]
          },
          "metadata": {
            "tags": []
          },
          "execution_count": 20
        },
        {
          "output_type": "display_data",
          "data": {
            "image/png": "[encoded data removed]",
            "text/plain": [
              "<Figure size 864x360 with 2 Axes>"
            ]
          },
          "metadata": {
            "tags": [],
            "needs_background": "light"
          }
        }
      ]
    },
    {
      "cell_type": "markdown",
      "metadata": {
        "id": "0iU71HKtc3nO"
      },
      "source": [
        "`From the figure We know that created_utc and retrieved_on are negatively correalted.For upvotes w.k.t it depends on score.so they are correlated positively.Upvotes and glided is also positively correlated that means if there are more gliding occurs then upvotes also increases.`"
      ]
    },
    {
      "cell_type": "markdown",
      "metadata": {
        "id": "eHSJ3Dvyc3nU"
      },
      "source": [
        "### Handling created_utc feature"
      ]
    },
    {
      "cell_type": "code",
      "metadata": {
        "id": "BnsIDb_Xc3nU",
        "colab": {
          "base_uri": "https://localhost:8080/"
        },
        "outputId": "028623e8-ba05-4886-8c91-6d64903e025c"
      },
      "source": [
        "print(df.created_utc[0])\n",
        "\n",
        "df.created_utc.dtype"
      ],
      "execution_count": 21,
      "outputs": [
        {
          "output_type": "stream",
          "text": [
            "1420072332\n"
          ],
          "name": "stdout"
        },
        {
          "output_type": "execute_result",
          "data": {
            "text/plain": [
              "dtype('int64')"
            ]
          },
          "metadata": {
            "tags": []
          },
          "execution_count": 21
        }
      ]
    },
    {
      "cell_type": "code",
      "metadata": {
        "id": "UQuMxuhTc3nV"
      },
      "source": [
        "from datetime import datetime"
      ],
      "execution_count": 22,
      "outputs": []
    },
    {
      "cell_type": "code",
      "metadata": {
        "id": "IGntMiU-c3nW",
        "colab": {
          "base_uri": "https://localhost:8080/"
        },
        "outputId": "16ac3e7e-aab5-4fd1-8d06-a631d195e53b"
      },
      "source": [
        "datetime.fromtimestamp(df.created_utc[0])"
      ],
      "execution_count": 23,
      "outputs": [
        {
          "output_type": "execute_result",
          "data": {
            "text/plain": [
              "datetime.datetime(2015, 1, 1, 0, 32, 12)"
            ]
          },
          "metadata": {
            "tags": []
          },
          "execution_count": 23
        }
      ]
    },
    {
      "cell_type": "markdown",
      "metadata": {
        "id": "mMGWHDS9c3nW"
      },
      "source": [
        "`Here we are decoding utc format for single value but we have to do it for whole dataset as shown below...`"
      ]
    },
    {
      "cell_type": "code",
      "metadata": {
        "id": "e_x-7i21c3nX"
      },
      "source": [
        "df.created_utc = df.created_utc.apply(lambda x: datetime.fromtimestamp(x))"
      ],
      "execution_count": 24,
      "outputs": []
    },
    {
      "cell_type": "code",
      "metadata": {
        "id": "LUohRK-7c3nX",
        "colab": {
          "base_uri": "https://localhost:8080/"
        },
        "outputId": "43ab7437-d119-4c18-91ff-c7ff508aa884"
      },
      "source": [
        "df.created_utc"
      ],
      "execution_count": 25,
      "outputs": [
        {
          "output_type": "execute_result",
          "data": {
            "text/plain": [
              "0        2015-01-01 00:32:12\n",
              "1        2015-01-01 01:42:35\n",
              "2        2015-01-01 00:44:06\n",
              "3        2015-01-01 03:02:30\n",
              "4        2015-01-01 06:11:51\n",
              "                 ...        \n",
              "200085   2015-01-01 06:20:51\n",
              "200086   2015-01-01 02:57:51\n",
              "200087   2015-01-01 00:41:01\n",
              "200088   2015-01-01 03:09:02\n",
              "200089   2015-01-01 05:42:19\n",
              "Name: created_utc, Length: 199931, dtype: datetime64[ns]"
            ]
          },
          "metadata": {
            "tags": []
          },
          "execution_count": 25
        }
      ]
    },
    {
      "cell_type": "code",
      "metadata": {
        "id": "p5c9tSsyc3nY",
        "colab": {
          "base_uri": "https://localhost:8080/"
        },
        "outputId": "22245faa-bc9a-4b72-b1de-cd21f47e2d49"
      },
      "source": [
        "print(f\"After decoding DataType of feature created_utc is : {df.created_utc.dtype}\")"
      ],
      "execution_count": 26,
      "outputs": [
        {
          "output_type": "stream",
          "text": [
            "After decoding DataType of feature created_utc is : datetime64[ns]\n"
          ],
          "name": "stdout"
        }
      ]
    },
    {
      "cell_type": "code",
      "metadata": {
        "scrolled": true,
        "id": "JL0xX_p4c3nZ",
        "colab": {
          "base_uri": "https://localhost:8080/"
        },
        "outputId": "e4f66929-12c2-4813-8be7-efaedef08c8a"
      },
      "source": [
        "df.groupby('created_utc')['controversiality'].count().mean()"
      ],
      "execution_count": 27,
      "outputs": [
        {
          "output_type": "execute_result",
          "data": {
            "text/plain": [
              "8.373371864137036"
            ]
          },
          "metadata": {
            "tags": []
          },
          "execution_count": 27
        }
      ]
    },
    {
      "cell_type": "code",
      "metadata": {
        "id": "uiB44x0nc3na",
        "colab": {
          "base_uri": "https://localhost:8080/"
        },
        "outputId": "264c5084-21e1-4493-c997-c085f31925a6"
      },
      "source": [
        "df['created_utc_year'] = df.created_utc.dt.year\n",
        "df['created_utc_month'] = df.created_utc.dt.month\n",
        "df['created_utc_week'] = df.created_utc.dt.week\n",
        "df['created_utc_day'] = df.created_utc.dt.day\n",
        "df['created_utc_hour'] = df.created_utc.dt.hour\n",
        "df['created_utc_minute'] = df.created_utc.dt.minute\n",
        "df['created_utc_dayofweek'] = df.created_utc.dt.dayofweek"
      ],
      "execution_count": 28,
      "outputs": [
        {
          "output_type": "stream",
          "text": [
            "/usr/local/lib/python3.6/dist-packages/ipykernel_launcher.py:3: FutureWarning: Series.dt.weekofyear and Series.dt.week have been deprecated.  Please use Series.dt.isocalendar().week instead.\n",
            "  This is separate from the ipykernel package so we can avoid doing imports until\n"
          ],
          "name": "stderr"
        }
      ]
    },
    {
      "cell_type": "markdown",
      "metadata": {
        "id": "GJ1yAgAec3nb"
      },
      "source": [
        "`Extracting different type of data from timestamp like year,month,week,day,hour...etc.`"
      ]
    },
    {
      "cell_type": "code",
      "metadata": {
        "id": "O7U_U-2-c3nb"
      },
      "source": [
        "df.drop('created_utc',axis=1,inplace=True)"
      ],
      "execution_count": 29,
      "outputs": []
    },
    {
      "cell_type": "markdown",
      "metadata": {
        "id": "lIKBiRdUc3nc"
      },
      "source": [
        "`After Extracting all useful data from timestamp we are dropping original one i.e created_utc because it becomes redundant.We no need it again.....After that our dataframe looks like below shown.`"
      ]
    },
    {
      "cell_type": "code",
      "metadata": {
        "id": "nvgVzr-vc3nc",
        "colab": {
          "base_uri": "https://localhost:8080/",
          "height": 0
        },
        "outputId": "8af0e00a-7e69-45f8-eddc-85bf13689a53"
      },
      "source": [
        "df[:3]"
      ],
      "execution_count": 30,
      "outputs": [
        {
          "output_type": "execute_result",
          "data": {
            "text/html": [
              "<div>\n",
              "<style scoped>\n",
              "    .dataframe tbody tr th:only-of-type {\n",
              "        vertical-align: middle;\n",
              "    }\n",
              "\n",
              "    .dataframe tbody tr th {\n",
              "        vertical-align: top;\n",
              "    }\n",
              "\n",
              "    .dataframe thead th {\n",
              "        text-align: right;\n",
              "    }\n",
              "</style>\n",
              "<table border=\"1\" class=\"dataframe\">\n",
              "  <thead>\n",
              "    <tr style=\"text-align: right;\">\n",
              "      <th></th>\n",
              "      <th>score_hidden</th>\n",
              "      <th>body</th>\n",
              "      <th>downs</th>\n",
              "      <th>score</th>\n",
              "      <th>archived</th>\n",
              "      <th>subreddit</th>\n",
              "      <th>gilded</th>\n",
              "      <th>retrieved_on</th>\n",
              "      <th>ups</th>\n",
              "      <th>controversiality</th>\n",
              "      <th>edited</th>\n",
              "      <th>created_utc_year</th>\n",
              "      <th>created_utc_month</th>\n",
              "      <th>created_utc_week</th>\n",
              "      <th>created_utc_day</th>\n",
              "      <th>created_utc_hour</th>\n",
              "      <th>created_utc_minute</th>\n",
              "      <th>created_utc_dayofweek</th>\n",
              "    </tr>\n",
              "  </thead>\n",
              "  <tbody>\n",
              "    <tr>\n",
              "      <th>0</th>\n",
              "      <td>False</td>\n",
              "      <td>Damn near everything belongs to the Lizards.</td>\n",
              "      <td>0</td>\n",
              "      <td>3</td>\n",
              "      <td>False</td>\n",
              "      <td>skyrim</td>\n",
              "      <td>0</td>\n",
              "      <td>1425123882</td>\n",
              "      <td>3.0</td>\n",
              "      <td>0.0</td>\n",
              "      <td>False</td>\n",
              "      <td>2015</td>\n",
              "      <td>1</td>\n",
              "      <td>1</td>\n",
              "      <td>1</td>\n",
              "      <td>0</td>\n",
              "      <td>32</td>\n",
              "      <td>3</td>\n",
              "    </tr>\n",
              "    <tr>\n",
              "      <th>1</th>\n",
              "      <td>False</td>\n",
              "      <td>He does, I'd be backing away very slowly...</td>\n",
              "      <td>0</td>\n",
              "      <td>1</td>\n",
              "      <td>False</td>\n",
              "      <td>pic</td>\n",
              "      <td>0</td>\n",
              "      <td>1425123056</td>\n",
              "      <td>1.0</td>\n",
              "      <td>0.0</td>\n",
              "      <td>False</td>\n",
              "      <td>2015</td>\n",
              "      <td>1</td>\n",
              "      <td>1</td>\n",
              "      <td>1</td>\n",
              "      <td>1</td>\n",
              "      <td>42</td>\n",
              "      <td>3</td>\n",
              "    </tr>\n",
              "    <tr>\n",
              "      <th>2</th>\n",
              "      <td>False</td>\n",
              "      <td>I weigh 285, I guarantee ya I could grab that ...</td>\n",
              "      <td>0</td>\n",
              "      <td>-29</td>\n",
              "      <td>False</td>\n",
              "      <td>fatpeoplehate</td>\n",
              "      <td>0</td>\n",
              "      <td>1425123740</td>\n",
              "      <td>-29.0</td>\n",
              "      <td>0.0</td>\n",
              "      <td>False</td>\n",
              "      <td>2015</td>\n",
              "      <td>1</td>\n",
              "      <td>1</td>\n",
              "      <td>1</td>\n",
              "      <td>0</td>\n",
              "      <td>44</td>\n",
              "      <td>3</td>\n",
              "    </tr>\n",
              "  </tbody>\n",
              "</table>\n",
              "</div>"
            ],
            "text/plain": [
              "  score_hidden  ... created_utc_dayofweek\n",
              "0        False  ...                     3\n",
              "1        False  ...                     3\n",
              "2        False  ...                     3\n",
              "\n",
              "[3 rows x 18 columns]"
            ]
          },
          "metadata": {
            "tags": []
          },
          "execution_count": 30
        }
      ]
    },
    {
      "cell_type": "code",
      "metadata": {
        "id": "A313NTBNc3nd",
        "colab": {
          "base_uri": "https://localhost:8080/"
        },
        "outputId": "21c1956f-5c9b-4b87-9494-2c475e08563f"
      },
      "source": [
        "df.groupby('created_utc_hour').size()"
      ],
      "execution_count": 31,
      "outputs": [
        {
          "output_type": "execute_result",
          "data": {
            "text/plain": [
              "created_utc_hour\n",
              "0    36139\n",
              "1    33852\n",
              "2    32116\n",
              "3    29197\n",
              "4    27879\n",
              "5    25533\n",
              "6    15215\n",
              "dtype: int64"
            ]
          },
          "metadata": {
            "tags": []
          },
          "execution_count": 31
        }
      ]
    },
    {
      "cell_type": "code",
      "metadata": {
        "id": "Tug8JjUmc3ne",
        "colab": {
          "base_uri": "https://localhost:8080/"
        },
        "outputId": "310ce768-bb5f-4631-e7ca-efd487b19c06"
      },
      "source": [
        "df.groupby('created_utc_month').size()"
      ],
      "execution_count": 32,
      "outputs": [
        {
          "output_type": "execute_result",
          "data": {
            "text/plain": [
              "created_utc_month\n",
              "1    199931\n",
              "dtype: int64"
            ]
          },
          "metadata": {
            "tags": []
          },
          "execution_count": 32
        }
      ]
    },
    {
      "cell_type": "markdown",
      "metadata": {
        "id": "QJHs49iRc3ne"
      },
      "source": [
        "`Grouping up the data based on hour and month.We know that the data is about only one month.So,it gives only one group..`"
      ]
    },
    {
      "cell_type": "markdown",
      "metadata": {
        "id": "QRQ43kpgc3nf"
      },
      "source": [
        "### Handling retrieved_on feature"
      ]
    },
    {
      "cell_type": "code",
      "metadata": {
        "id": "RXwT7xW0c3ng",
        "colab": {
          "base_uri": "https://localhost:8080/"
        },
        "outputId": "27d611e2-c724-433f-f9cf-8fe2858754ca"
      },
      "source": [
        "df.retrieved_on"
      ],
      "execution_count": 33,
      "outputs": [
        {
          "output_type": "execute_result",
          "data": {
            "text/plain": [
              "0         1425123882\n",
              "1         1425123056\n",
              "2         1425123740\n",
              "3         1425122191\n",
              "4         1425120427\n",
              "             ...    \n",
              "200085    1425120354\n",
              "200086    1425122239\n",
              "200087    1425123776\n",
              "200088    1425122126\n",
              "200089    1425120677\n",
              "Name: retrieved_on, Length: 199931, dtype: int64"
            ]
          },
          "metadata": {
            "tags": []
          },
          "execution_count": 33
        }
      ]
    },
    {
      "cell_type": "code",
      "metadata": {
        "id": "wHjGglGZc3ng",
        "colab": {
          "base_uri": "https://localhost:8080/"
        },
        "outputId": "4d3ec711-5735-448c-d662-f5046684901f"
      },
      "source": [
        "print(f\"DataType of feature retrieved_on is : {df.retrieved_on.dtype}\")"
      ],
      "execution_count": 34,
      "outputs": [
        {
          "output_type": "stream",
          "text": [
            "DataType of feature retrieved_on is : int64\n"
          ],
          "name": "stdout"
        }
      ]
    },
    {
      "cell_type": "code",
      "metadata": {
        "id": "Je8OZgxTc3nh",
        "colab": {
          "base_uri": "https://localhost:8080/"
        },
        "outputId": "53edfdd0-98c7-42ac-f296-94863ecb7a9b"
      },
      "source": [
        "datetime.fromtimestamp(df.retrieved_on[0])"
      ],
      "execution_count": 35,
      "outputs": [
        {
          "output_type": "execute_result",
          "data": {
            "text/plain": [
              "datetime.datetime(2015, 2, 28, 11, 44, 42)"
            ]
          },
          "metadata": {
            "tags": []
          },
          "execution_count": 35
        }
      ]
    },
    {
      "cell_type": "code",
      "metadata": {
        "id": "rKORAxZfc3ni"
      },
      "source": [
        "df.retrieved_on = df.retrieved_on.apply(lambda x: datetime.fromtimestamp(x))"
      ],
      "execution_count": 36,
      "outputs": []
    },
    {
      "cell_type": "code",
      "metadata": {
        "id": "LLODxRaec3nj",
        "colab": {
          "base_uri": "https://localhost:8080/"
        },
        "outputId": "38e257f8-de10-4644-eac5-e86031474a75"
      },
      "source": [
        "df.retrieved_on"
      ],
      "execution_count": 37,
      "outputs": [
        {
          "output_type": "execute_result",
          "data": {
            "text/plain": [
              "0        2015-02-28 11:44:42\n",
              "1        2015-02-28 11:30:56\n",
              "2        2015-02-28 11:42:20\n",
              "3        2015-02-28 11:16:31\n",
              "4        2015-02-28 10:47:07\n",
              "                 ...        \n",
              "200085   2015-02-28 10:45:54\n",
              "200086   2015-02-28 11:17:19\n",
              "200087   2015-02-28 11:42:56\n",
              "200088   2015-02-28 11:15:26\n",
              "200089   2015-02-28 10:51:17\n",
              "Name: retrieved_on, Length: 199931, dtype: datetime64[ns]"
            ]
          },
          "metadata": {
            "tags": []
          },
          "execution_count": 37
        }
      ]
    },
    {
      "cell_type": "code",
      "metadata": {
        "id": "2MnBECwTc3nk",
        "colab": {
          "base_uri": "https://localhost:8080/"
        },
        "outputId": "d8b3d3ee-6bec-4754-954c-82d91e767565"
      },
      "source": [
        "print(f\"After decoding DataType of feature created_utc is : {df.retrieved_on.dtype}\")"
      ],
      "execution_count": 38,
      "outputs": [
        {
          "output_type": "stream",
          "text": [
            "After decoding DataType of feature created_utc is : datetime64[ns]\n"
          ],
          "name": "stdout"
        }
      ]
    },
    {
      "cell_type": "code",
      "metadata": {
        "id": "erLhGHJ-c3nk",
        "colab": {
          "base_uri": "https://localhost:8080/"
        },
        "outputId": "cee3dbb2-15ec-4ea2-c44d-4570ec80af02"
      },
      "source": [
        "df.groupby('retrieved_on')['controversiality'].count().mean()"
      ],
      "execution_count": 39,
      "outputs": [
        {
          "output_type": "execute_result",
          "data": {
            "text/plain": [
              "51.80901788027987"
            ]
          },
          "metadata": {
            "tags": []
          },
          "execution_count": 39
        }
      ]
    },
    {
      "cell_type": "code",
      "metadata": {
        "id": "y_Y2xCvHc3nl",
        "colab": {
          "base_uri": "https://localhost:8080/"
        },
        "outputId": "03467b98-73e2-42f0-e3ac-419e12c7de6f"
      },
      "source": [
        "df['retrieved_on_year'] = df.retrieved_on.dt.year\n",
        "df['retrieved_on_month'] = df.retrieved_on.dt.month\n",
        "df['retrieved_on_week'] = df.retrieved_on.dt.week\n",
        "df['retrieved_on_day'] = df.retrieved_on.dt.day\n",
        "df['retrieved_on_hour'] = df.retrieved_on.dt.hour\n",
        "df['retrieved_on_minute'] = df.retrieved_on.dt.minute\n",
        "df['retrieved_on_dayofweek'] = df.retrieved_on.dt.dayofweek"
      ],
      "execution_count": 40,
      "outputs": [
        {
          "output_type": "stream",
          "text": [
            "/usr/local/lib/python3.6/dist-packages/ipykernel_launcher.py:3: FutureWarning: Series.dt.weekofyear and Series.dt.week have been deprecated.  Please use Series.dt.isocalendar().week instead.\n",
            "  This is separate from the ipykernel package so we can avoid doing imports until\n"
          ],
          "name": "stderr"
        }
      ]
    },
    {
      "cell_type": "markdown",
      "metadata": {
        "id": "SjxEDrmYc3nm"
      },
      "source": [
        "`Extracting different type of data from timestamp like year,month,week,day,hour...etc.`"
      ]
    },
    {
      "cell_type": "code",
      "metadata": {
        "id": "kS37X4Wgc3nm"
      },
      "source": [
        "df.drop('retrieved_on',axis=1,inplace=True)"
      ],
      "execution_count": 41,
      "outputs": []
    },
    {
      "cell_type": "markdown",
      "metadata": {
        "id": "8EHL_41nc3nn"
      },
      "source": [
        "`After Extracting all useful data from timestamp we are dropping original one i.e retrieved_on because it becomes redundant.We no need it again.....After that our dataframe looks like below shown.`"
      ]
    },
    {
      "cell_type": "code",
      "metadata": {
        "id": "yqU8EEXDc3nn",
        "colab": {
          "base_uri": "https://localhost:8080/",
          "height": 0
        },
        "outputId": "97cdcaf6-60ca-46df-f863-364ffd71fb20"
      },
      "source": [
        "df[:2]"
      ],
      "execution_count": 42,
      "outputs": [
        {
          "output_type": "execute_result",
          "data": {
            "text/html": [
              "<div>\n",
              "<style scoped>\n",
              "    .dataframe tbody tr th:only-of-type {\n",
              "        vertical-align: middle;\n",
              "    }\n",
              "\n",
              "    .dataframe tbody tr th {\n",
              "        vertical-align: top;\n",
              "    }\n",
              "\n",
              "    .dataframe thead th {\n",
              "        text-align: right;\n",
              "    }\n",
              "</style>\n",
              "<table border=\"1\" class=\"dataframe\">\n",
              "  <thead>\n",
              "    <tr style=\"text-align: right;\">\n",
              "      <th></th>\n",
              "      <th>score_hidden</th>\n",
              "      <th>body</th>\n",
              "      <th>downs</th>\n",
              "      <th>score</th>\n",
              "      <th>archived</th>\n",
              "      <th>subreddit</th>\n",
              "      <th>gilded</th>\n",
              "      <th>ups</th>\n",
              "      <th>controversiality</th>\n",
              "      <th>edited</th>\n",
              "      <th>created_utc_year</th>\n",
              "      <th>created_utc_month</th>\n",
              "      <th>created_utc_week</th>\n",
              "      <th>created_utc_day</th>\n",
              "      <th>created_utc_hour</th>\n",
              "      <th>created_utc_minute</th>\n",
              "      <th>created_utc_dayofweek</th>\n",
              "      <th>retrieved_on_year</th>\n",
              "      <th>retrieved_on_month</th>\n",
              "      <th>retrieved_on_week</th>\n",
              "      <th>retrieved_on_day</th>\n",
              "      <th>retrieved_on_hour</th>\n",
              "      <th>retrieved_on_minute</th>\n",
              "      <th>retrieved_on_dayofweek</th>\n",
              "    </tr>\n",
              "  </thead>\n",
              "  <tbody>\n",
              "    <tr>\n",
              "      <th>0</th>\n",
              "      <td>False</td>\n",
              "      <td>Damn near everything belongs to the Lizards.</td>\n",
              "      <td>0</td>\n",
              "      <td>3</td>\n",
              "      <td>False</td>\n",
              "      <td>skyrim</td>\n",
              "      <td>0</td>\n",
              "      <td>3.0</td>\n",
              "      <td>0.0</td>\n",
              "      <td>False</td>\n",
              "      <td>2015</td>\n",
              "      <td>1</td>\n",
              "      <td>1</td>\n",
              "      <td>1</td>\n",
              "      <td>0</td>\n",
              "      <td>32</td>\n",
              "      <td>3</td>\n",
              "      <td>2015</td>\n",
              "      <td>2</td>\n",
              "      <td>9</td>\n",
              "      <td>28</td>\n",
              "      <td>11</td>\n",
              "      <td>44</td>\n",
              "      <td>5</td>\n",
              "    </tr>\n",
              "    <tr>\n",
              "      <th>1</th>\n",
              "      <td>False</td>\n",
              "      <td>He does, I'd be backing away very slowly...</td>\n",
              "      <td>0</td>\n",
              "      <td>1</td>\n",
              "      <td>False</td>\n",
              "      <td>pic</td>\n",
              "      <td>0</td>\n",
              "      <td>1.0</td>\n",
              "      <td>0.0</td>\n",
              "      <td>False</td>\n",
              "      <td>2015</td>\n",
              "      <td>1</td>\n",
              "      <td>1</td>\n",
              "      <td>1</td>\n",
              "      <td>1</td>\n",
              "      <td>42</td>\n",
              "      <td>3</td>\n",
              "      <td>2015</td>\n",
              "      <td>2</td>\n",
              "      <td>9</td>\n",
              "      <td>28</td>\n",
              "      <td>11</td>\n",
              "      <td>30</td>\n",
              "      <td>5</td>\n",
              "    </tr>\n",
              "  </tbody>\n",
              "</table>\n",
              "</div>"
            ],
            "text/plain": [
              "  score_hidden  ... retrieved_on_dayofweek\n",
              "0        False  ...                      5\n",
              "1        False  ...                      5\n",
              "\n",
              "[2 rows x 24 columns]"
            ]
          },
          "metadata": {
            "tags": []
          },
          "execution_count": 42
        }
      ]
    },
    {
      "cell_type": "code",
      "metadata": {
        "id": "YT8Wuj42c3no",
        "colab": {
          "base_uri": "https://localhost:8080/"
        },
        "outputId": "4c21e1ff-7ef4-45ce-a836-12a30e074773"
      },
      "source": [
        "df.groupby('retrieved_on_month').size()"
      ],
      "execution_count": 43,
      "outputs": [
        {
          "output_type": "execute_result",
          "data": {
            "text/plain": [
              "retrieved_on_month\n",
              "2    199931\n",
              "dtype: int64"
            ]
          },
          "metadata": {
            "tags": []
          },
          "execution_count": 43
        }
      ]
    },
    {
      "cell_type": "code",
      "metadata": {
        "id": "MzBvryJ0c3np",
        "colab": {
          "base_uri": "https://localhost:8080/"
        },
        "outputId": "52dba3ea-1bdc-49ef-8c85-60009a697182"
      },
      "source": [
        "df.groupby('retrieved_on_hour').size()"
      ],
      "execution_count": 44,
      "outputs": [
        {
          "output_type": "execute_result",
          "data": {
            "text/plain": [
              "retrieved_on_hour\n",
              "10     47590\n",
              "11    152341\n",
              "dtype: int64"
            ]
          },
          "metadata": {
            "tags": []
          },
          "execution_count": 44
        }
      ]
    },
    {
      "cell_type": "markdown",
      "metadata": {
        "id": "-um2MF2ic3np"
      },
      "source": [
        "`Grouping up the data based on hour and month.We know that the data is about only one month.So,it gives only one group..`"
      ]
    },
    {
      "cell_type": "code",
      "metadata": {
        "id": "HR8YNnwjc3nq",
        "colab": {
          "base_uri": "https://localhost:8080/"
        },
        "outputId": "60d76f83-636b-4085-9df8-dd5f045b7054"
      },
      "source": [
        "df.columns"
      ],
      "execution_count": 45,
      "outputs": [
        {
          "output_type": "execute_result",
          "data": {
            "text/plain": [
              "Index(['score_hidden', 'body', 'downs', 'score', 'archived', 'subreddit',\n",
              "       'gilded', 'ups', 'controversiality', 'edited', 'created_utc_year',\n",
              "       'created_utc_month', 'created_utc_week', 'created_utc_day',\n",
              "       'created_utc_hour', 'created_utc_minute', 'created_utc_dayofweek',\n",
              "       'retrieved_on_year', 'retrieved_on_month', 'retrieved_on_week',\n",
              "       'retrieved_on_day', 'retrieved_on_hour', 'retrieved_on_minute',\n",
              "       'retrieved_on_dayofweek'],\n",
              "      dtype='object')"
            ]
          },
          "metadata": {
            "tags": []
          },
          "execution_count": 45
        }
      ]
    },
    {
      "cell_type": "markdown",
      "metadata": {
        "id": "KoR4FCewc3nv"
      },
      "source": [
        "### Data Analysis and Data Visualization"
      ]
    },
    {
      "cell_type": "code",
      "metadata": {
        "id": "upjR4G76c3nw",
        "colab": {
          "base_uri": "https://localhost:8080/"
        },
        "outputId": "e7de7ab2-072b-4e11-aec5-cdfe5a28f946"
      },
      "source": [
        "df.groupby('subreddit')['controversiality'].count().sort_values(ascending=False)"
      ],
      "execution_count": 46,
      "outputs": [
        {
          "output_type": "execute_result",
          "data": {
            "text/plain": [
              "subreddit\n",
              "AskReddit         15587\n",
              "CFB                6430\n",
              "funny              4145\n",
              "pics               3481\n",
              "nba                3351\n",
              "                  ...  \n",
              "LOMBackstories        1\n",
              "LOLStreams            1\n",
              "ctbeer                1\n",
              "LILYLILYLILY          1\n",
              "100DaysofKeto         1\n",
              "Name: controversiality, Length: 6693, dtype: int64"
            ]
          },
          "metadata": {
            "tags": []
          },
          "execution_count": 46
        }
      ]
    },
    {
      "cell_type": "markdown",
      "metadata": {
        "id": "yXMQWpRsc3nx"
      },
      "source": [
        "`Here for each subreddit we are calculating the controversiality rate.From this data we can conclude that subreddits like AskReddit,CFB,hockey,funny are more controversial than others.`"
      ]
    },
    {
      "cell_type": "code",
      "metadata": {
        "id": "EiisMzoMc3nx",
        "colab": {
          "base_uri": "https://localhost:8080/",
          "height": 0
        },
        "outputId": "856673ad-9e87-4276-e3ad-71bc1ec07343"
      },
      "source": [
        "sns.countplot(df.retrieved_on_hour,hue=df.score_hidden,palette='spring')"
      ],
      "execution_count": 47,
      "outputs": [
        {
          "output_type": "stream",
          "text": [
            "/usr/local/lib/python3.6/dist-packages/seaborn/_decorators.py:43: FutureWarning: Pass the following variable as a keyword arg: x. From version 0.12, the only valid positional argument will be `data`, and passing other arguments without an explicit keyword will result in an error or misinterpretation.\n",
            "  FutureWarning\n"
          ],
          "name": "stderr"
        },
        {
          "output_type": "execute_result",
          "data": {
            "text/plain": [
              "<matplotlib.axes._subplots.AxesSubplot at 0x7f7d46d40860>"
            ]
          },
          "metadata": {
            "tags": []
          },
          "execution_count": 47
        },
        {
          "output_type": "display_data",
          "data": {
            "image/png": "[encoded data removed]",
            "text/plain": [
              "<Figure size 432x288 with 1 Axes>"
            ]
          },
          "metadata": {
            "tags": [],
            "needs_background": "light"
          }
        }
      ]
    },
    {
      "cell_type": "code",
      "metadata": {
        "id": "KJllJYZsc3ny",
        "colab": {
          "base_uri": "https://localhost:8080/",
          "height": 0
        },
        "outputId": "c8b01189-413d-4136-a3fd-626e638ea0c6"
      },
      "source": [
        "sns.boxplot(df.groupby('subreddit')['controversiality'].count().sort_values(ascending=False)[:40],palette='summer')"
      ],
      "execution_count": 48,
      "outputs": [
        {
          "output_type": "stream",
          "text": [
            "/usr/local/lib/python3.6/dist-packages/seaborn/_decorators.py:43: FutureWarning: Pass the following variable as a keyword arg: x. From version 0.12, the only valid positional argument will be `data`, and passing other arguments without an explicit keyword will result in an error or misinterpretation.\n",
            "  FutureWarning\n"
          ],
          "name": "stderr"
        },
        {
          "output_type": "execute_result",
          "data": {
            "text/plain": [
              "<matplotlib.axes._subplots.AxesSubplot at 0x7f7d4680ae10>"
            ]
          },
          "metadata": {
            "tags": []
          },
          "execution_count": 48
        },
        {
          "output_type": "display_data",
          "data": {
            "image/png": "[encoded data removed]",
            "text/plain": [
              "<Figure size 432x288 with 1 Axes>"
            ]
          },
          "metadata": {
            "tags": [],
            "needs_background": "light"
          }
        }
      ]
    },
    {
      "cell_type": "markdown",
      "metadata": {
        "id": "nCsQvHo0c3nz"
      },
      "source": [
        "`As we can see that there are some outliers not that much.So I think we need not to bother for some of them.`"
      ]
    },
    {
      "cell_type": "code",
      "metadata": {
        "id": "pNY7FGp5c3nz",
        "colab": {
          "base_uri": "https://localhost:8080/",
          "height": 0
        },
        "outputId": "9f515b7a-e46e-457b-c950-2f557809d428"
      },
      "source": [
        "sns.scatterplot(df.ups,df.score)"
      ],
      "execution_count": 49,
      "outputs": [
        {
          "output_type": "stream",
          "text": [
            "/usr/local/lib/python3.6/dist-packages/seaborn/_decorators.py:43: FutureWarning: Pass the following variables as keyword args: x, y. From version 0.12, the only valid positional argument will be `data`, and passing other arguments without an explicit keyword will result in an error or misinterpretation.\n",
            "  FutureWarning\n"
          ],
          "name": "stderr"
        },
        {
          "output_type": "execute_result",
          "data": {
            "text/plain": [
              "<matplotlib.axes._subplots.AxesSubplot at 0x7f7d4677eda0>"
            ]
          },
          "metadata": {
            "tags": []
          },
          "execution_count": 49
        },
        {
          "output_type": "display_data",
          "data": {
            "image/png": "[encoded data removed]",
            "text/plain": [
              "<Figure size 432x288 with 1 Axes>"
            ]
          },
          "metadata": {
            "tags": [],
            "needs_background": "light"
          }
        }
      ]
    },
    {
      "cell_type": "markdown",
      "metadata": {
        "id": "hnTRrMzNc3n0"
      },
      "source": [
        "`It is well fitted because we know that score is dependent on number of upvotes.As we seen earlier they are positively correlated ones.`"
      ]
    },
    {
      "cell_type": "code",
      "metadata": {
        "id": "mnsmlVTdc3n1",
        "colab": {
          "base_uri": "https://localhost:8080/",
          "height": 0
        },
        "outputId": "c8d2a40e-1796-499e-e049-72cbd49bb74b"
      },
      "source": [
        "sns.pairplot(df[['downs', 'score', 'subreddit',\n",
        "       'gilded', 'ups', 'controversiality', 'edited']])"
      ],
      "execution_count": 50,
      "outputs": [
        {
          "output_type": "execute_result",
          "data": {
            "text/plain": [
              "<seaborn.axisgrid.PairGrid at 0x7f7d467371d0>"
            ]
          },
          "metadata": {
            "tags": []
          },
          "execution_count": 50
        },
        {
          "output_type": "display_data",
          "data": {
            "image/png": "[encoded data removed]",
            "text/plain": [
              "<Figure size 900x900 with 30 Axes>"
            ]
          },
          "metadata": {
            "tags": [],
            "needs_background": "light"
          }
        }
      ]
    },
    {
      "cell_type": "code",
      "metadata": {
        "id": "yQ8JXLk4c3n1",
        "colab": {
          "base_uri": "https://localhost:8080/"
        },
        "outputId": "ed079fbe-3f0d-4926-f44b-8a8b9cdcc9f2"
      },
      "source": [
        "df.groupby('subreddit')['edited'].count()[:10]"
      ],
      "execution_count": 51,
      "outputs": [
        {
          "output_type": "execute_result",
          "data": {
            "text/plain": [
              "subreddit\n",
              "100DaysofKeto             1\n",
              "100yearsago               2\n",
              "1200isplenty              7\n",
              "121stSquadron             1\n",
              "19KidsandCounting         1\n",
              "2000sMusic                1\n",
              "2007scape               238\n",
              "2014                      1\n",
              "2015readingchallenge      2\n",
              "2019                      1\n",
              "Name: edited, dtype: int64"
            ]
          },
          "metadata": {
            "tags": []
          },
          "execution_count": 51
        }
      ]
    },
    {
      "cell_type": "code",
      "metadata": {
        "id": "-WCk-cYXc3n2",
        "colab": {
          "base_uri": "https://localhost:8080/"
        },
        "outputId": "9e59c70e-5864-4137-a871-545374ea140f"
      },
      "source": [
        "df.groupby('score_hidden')['ups'].mean()"
      ],
      "execution_count": 52,
      "outputs": [
        {
          "output_type": "execute_result",
          "data": {
            "text/plain": [
              "score_hidden\n",
              "False    4.366592\n",
              "True     1.000000\n",
              "Name: ups, dtype: float64"
            ]
          },
          "metadata": {
            "tags": []
          },
          "execution_count": 52
        }
      ]
    },
    {
      "cell_type": "code",
      "metadata": {
        "id": "2nyM9Zimc3n3"
      },
      "source": [
        "df1 = df"
      ],
      "execution_count": 53,
      "outputs": []
    },
    {
      "cell_type": "markdown",
      "metadata": {
        "id": "NojohP60H4rN"
      },
      "source": [
        "### Handling other columns"
      ]
    },
    {
      "cell_type": "code",
      "metadata": {
        "id": "G0s5oTf_IGhL"
      },
      "source": [
        "dummy = pd.get_dummies(df[['archived','score_hidden']],drop_first=True)"
      ],
      "execution_count": 54,
      "outputs": []
    },
    {
      "cell_type": "code",
      "metadata": {
        "colab": {
          "base_uri": "https://localhost:8080/",
          "height": 0
        },
        "id": "dMi3aFvDJonz",
        "outputId": "1c039c62-f632-4e66-b196-b335c86cc67e"
      },
      "source": [
        "dummy"
      ],
      "execution_count": 55,
      "outputs": [
        {
          "output_type": "execute_result",
          "data": {
            "text/html": [
              "<div>\n",
              "<style scoped>\n",
              "    .dataframe tbody tr th:only-of-type {\n",
              "        vertical-align: middle;\n",
              "    }\n",
              "\n",
              "    .dataframe tbody tr th {\n",
              "        vertical-align: top;\n",
              "    }\n",
              "\n",
              "    .dataframe thead th {\n",
              "        text-align: right;\n",
              "    }\n",
              "</style>\n",
              "<table border=\"1\" class=\"dataframe\">\n",
              "  <thead>\n",
              "    <tr style=\"text-align: right;\">\n",
              "      <th></th>\n",
              "      <th>archived_False</th>\n",
              "      <th>score_hidden_True</th>\n",
              "    </tr>\n",
              "  </thead>\n",
              "  <tbody>\n",
              "    <tr>\n",
              "      <th>0</th>\n",
              "      <td>1</td>\n",
              "      <td>0</td>\n",
              "    </tr>\n",
              "    <tr>\n",
              "      <th>1</th>\n",
              "      <td>1</td>\n",
              "      <td>0</td>\n",
              "    </tr>\n",
              "    <tr>\n",
              "      <th>2</th>\n",
              "      <td>1</td>\n",
              "      <td>0</td>\n",
              "    </tr>\n",
              "    <tr>\n",
              "      <th>3</th>\n",
              "      <td>1</td>\n",
              "      <td>0</td>\n",
              "    </tr>\n",
              "    <tr>\n",
              "      <th>4</th>\n",
              "      <td>1</td>\n",
              "      <td>0</td>\n",
              "    </tr>\n",
              "    <tr>\n",
              "      <th>...</th>\n",
              "      <td>...</td>\n",
              "      <td>...</td>\n",
              "    </tr>\n",
              "    <tr>\n",
              "      <th>200085</th>\n",
              "      <td>0</td>\n",
              "      <td>0</td>\n",
              "    </tr>\n",
              "    <tr>\n",
              "      <th>200086</th>\n",
              "      <td>0</td>\n",
              "      <td>0</td>\n",
              "    </tr>\n",
              "    <tr>\n",
              "      <th>200087</th>\n",
              "      <td>0</td>\n",
              "      <td>0</td>\n",
              "    </tr>\n",
              "    <tr>\n",
              "      <th>200088</th>\n",
              "      <td>0</td>\n",
              "      <td>0</td>\n",
              "    </tr>\n",
              "    <tr>\n",
              "      <th>200089</th>\n",
              "      <td>0</td>\n",
              "      <td>0</td>\n",
              "    </tr>\n",
              "  </tbody>\n",
              "</table>\n",
              "<p>199931 rows × 2 columns</p>\n",
              "</div>"
            ],
            "text/plain": [
              "        archived_False  score_hidden_True\n",
              "0                    1                  0\n",
              "1                    1                  0\n",
              "2                    1                  0\n",
              "3                    1                  0\n",
              "4                    1                  0\n",
              "...                ...                ...\n",
              "200085               0                  0\n",
              "200086               0                  0\n",
              "200087               0                  0\n",
              "200088               0                  0\n",
              "200089               0                  0\n",
              "\n",
              "[199931 rows x 2 columns]"
            ]
          },
          "metadata": {
            "tags": []
          },
          "execution_count": 55
        }
      ]
    },
    {
      "cell_type": "code",
      "metadata": {
        "id": "z57w9zADKCGZ"
      },
      "source": [
        "df = pd.concat([df,dummy],axis=1)\r\n",
        "\r\n",
        "df.drop(['archived','score_hidden'],axis=1,inplace=True)"
      ],
      "execution_count": 56,
      "outputs": []
    },
    {
      "cell_type": "code",
      "metadata": {
        "colab": {
          "base_uri": "https://localhost:8080/",
          "height": 0
        },
        "id": "za1N5yrfKW-n",
        "outputId": "e909afec-45e1-4d83-c0fb-f8564f18f65a"
      },
      "source": [
        "df[:3]"
      ],
      "execution_count": 57,
      "outputs": [
        {
          "output_type": "execute_result",
          "data": {
            "text/html": [
              "<div>\n",
              "<style scoped>\n",
              "    .dataframe tbody tr th:only-of-type {\n",
              "        vertical-align: middle;\n",
              "    }\n",
              "\n",
              "    .dataframe tbody tr th {\n",
              "        vertical-align: top;\n",
              "    }\n",
              "\n",
              "    .dataframe thead th {\n",
              "        text-align: right;\n",
              "    }\n",
              "</style>\n",
              "<table border=\"1\" class=\"dataframe\">\n",
              "  <thead>\n",
              "    <tr style=\"text-align: right;\">\n",
              "      <th></th>\n",
              "      <th>body</th>\n",
              "      <th>downs</th>\n",
              "      <th>score</th>\n",
              "      <th>subreddit</th>\n",
              "      <th>gilded</th>\n",
              "      <th>ups</th>\n",
              "      <th>controversiality</th>\n",
              "      <th>edited</th>\n",
              "      <th>created_utc_year</th>\n",
              "      <th>created_utc_month</th>\n",
              "      <th>created_utc_week</th>\n",
              "      <th>created_utc_day</th>\n",
              "      <th>created_utc_hour</th>\n",
              "      <th>created_utc_minute</th>\n",
              "      <th>created_utc_dayofweek</th>\n",
              "      <th>retrieved_on_year</th>\n",
              "      <th>retrieved_on_month</th>\n",
              "      <th>retrieved_on_week</th>\n",
              "      <th>retrieved_on_day</th>\n",
              "      <th>retrieved_on_hour</th>\n",
              "      <th>retrieved_on_minute</th>\n",
              "      <th>retrieved_on_dayofweek</th>\n",
              "      <th>archived_False</th>\n",
              "      <th>score_hidden_True</th>\n",
              "    </tr>\n",
              "  </thead>\n",
              "  <tbody>\n",
              "    <tr>\n",
              "      <th>0</th>\n",
              "      <td>Damn near everything belongs to the Lizards.</td>\n",
              "      <td>0</td>\n",
              "      <td>3</td>\n",
              "      <td>skyrim</td>\n",
              "      <td>0</td>\n",
              "      <td>3.0</td>\n",
              "      <td>0.0</td>\n",
              "      <td>False</td>\n",
              "      <td>2015</td>\n",
              "      <td>1</td>\n",
              "      <td>1</td>\n",
              "      <td>1</td>\n",
              "      <td>0</td>\n",
              "      <td>32</td>\n",
              "      <td>3</td>\n",
              "      <td>2015</td>\n",
              "      <td>2</td>\n",
              "      <td>9</td>\n",
              "      <td>28</td>\n",
              "      <td>11</td>\n",
              "      <td>44</td>\n",
              "      <td>5</td>\n",
              "      <td>1</td>\n",
              "      <td>0</td>\n",
              "    </tr>\n",
              "    <tr>\n",
              "      <th>1</th>\n",
              "      <td>He does, I'd be backing away very slowly...</td>\n",
              "      <td>0</td>\n",
              "      <td>1</td>\n",
              "      <td>pic</td>\n",
              "      <td>0</td>\n",
              "      <td>1.0</td>\n",
              "      <td>0.0</td>\n",
              "      <td>False</td>\n",
              "      <td>2015</td>\n",
              "      <td>1</td>\n",
              "      <td>1</td>\n",
              "      <td>1</td>\n",
              "      <td>1</td>\n",
              "      <td>42</td>\n",
              "      <td>3</td>\n",
              "      <td>2015</td>\n",
              "      <td>2</td>\n",
              "      <td>9</td>\n",
              "      <td>28</td>\n",
              "      <td>11</td>\n",
              "      <td>30</td>\n",
              "      <td>5</td>\n",
              "      <td>1</td>\n",
              "      <td>0</td>\n",
              "    </tr>\n",
              "    <tr>\n",
              "      <th>2</th>\n",
              "      <td>I weigh 285, I guarantee ya I could grab that ...</td>\n",
              "      <td>0</td>\n",
              "      <td>-29</td>\n",
              "      <td>fatpeoplehate</td>\n",
              "      <td>0</td>\n",
              "      <td>-29.0</td>\n",
              "      <td>0.0</td>\n",
              "      <td>False</td>\n",
              "      <td>2015</td>\n",
              "      <td>1</td>\n",
              "      <td>1</td>\n",
              "      <td>1</td>\n",
              "      <td>0</td>\n",
              "      <td>44</td>\n",
              "      <td>3</td>\n",
              "      <td>2015</td>\n",
              "      <td>2</td>\n",
              "      <td>9</td>\n",
              "      <td>28</td>\n",
              "      <td>11</td>\n",
              "      <td>42</td>\n",
              "      <td>5</td>\n",
              "      <td>1</td>\n",
              "      <td>0</td>\n",
              "    </tr>\n",
              "  </tbody>\n",
              "</table>\n",
              "</div>"
            ],
            "text/plain": [
              "                                                body  ...  score_hidden_True\n",
              "0       Damn near everything belongs to the Lizards.  ...                  0\n",
              "1        He does, I'd be backing away very slowly...  ...                  0\n",
              "2  I weigh 285, I guarantee ya I could grab that ...  ...                  0\n",
              "\n",
              "[3 rows x 24 columns]"
            ]
          },
          "metadata": {
            "tags": []
          },
          "execution_count": 57
        }
      ]
    },
    {
      "cell_type": "code",
      "metadata": {
        "colab": {
          "base_uri": "https://localhost:8080/"
        },
        "id": "yvesGAjUKbmN",
        "outputId": "6305ff44-429a-41f3-b8e3-6f03ec3c6ae5"
      },
      "source": [
        "df.edited.nunique()"
      ],
      "execution_count": 58,
      "outputs": [
        {
          "output_type": "execute_result",
          "data": {
            "text/plain": [
              "5001"
            ]
          },
          "metadata": {
            "tags": []
          },
          "execution_count": 58
        }
      ]
    },
    {
      "cell_type": "code",
      "metadata": {
        "id": "ttVxFMW2Kgfc"
      },
      "source": [
        "df.drop('edited',axis=1,inplace=True)"
      ],
      "execution_count": 59,
      "outputs": []
    },
    {
      "cell_type": "code",
      "metadata": {
        "colab": {
          "base_uri": "https://localhost:8080/"
        },
        "id": "j9xgnh0WKmZg",
        "outputId": "b98c4446-daf7-46b0-b101-a46c200e2342"
      },
      "source": [
        "len(df.columns)"
      ],
      "execution_count": 60,
      "outputs": [
        {
          "output_type": "execute_result",
          "data": {
            "text/plain": [
              "23"
            ]
          },
          "metadata": {
            "tags": []
          },
          "execution_count": 60
        }
      ]
    },
    {
      "cell_type": "code",
      "metadata": {
        "colab": {
          "base_uri": "https://localhost:8080/",
          "height": 0
        },
        "id": "_IKyo5FaKpvf",
        "outputId": "e5b2b492-dd2f-4132-ee5f-ebbf483c26dc"
      },
      "source": [
        "df.select_dtypes(include=['object'])"
      ],
      "execution_count": 61,
      "outputs": [
        {
          "output_type": "execute_result",
          "data": {
            "text/html": [
              "<div>\n",
              "<style scoped>\n",
              "    .dataframe tbody tr th:only-of-type {\n",
              "        vertical-align: middle;\n",
              "    }\n",
              "\n",
              "    .dataframe tbody tr th {\n",
              "        vertical-align: top;\n",
              "    }\n",
              "\n",
              "    .dataframe thead th {\n",
              "        text-align: right;\n",
              "    }\n",
              "</style>\n",
              "<table border=\"1\" class=\"dataframe\">\n",
              "  <thead>\n",
              "    <tr style=\"text-align: right;\">\n",
              "      <th></th>\n",
              "      <th>body</th>\n",
              "      <th>subreddit</th>\n",
              "    </tr>\n",
              "  </thead>\n",
              "  <tbody>\n",
              "    <tr>\n",
              "      <th>0</th>\n",
              "      <td>Damn near everything belongs to the Lizards.</td>\n",
              "      <td>skyrim</td>\n",
              "    </tr>\n",
              "    <tr>\n",
              "      <th>1</th>\n",
              "      <td>He does, I'd be backing away very slowly...</td>\n",
              "      <td>pic</td>\n",
              "    </tr>\n",
              "    <tr>\n",
              "      <th>2</th>\n",
              "      <td>I weigh 285, I guarantee ya I could grab that ...</td>\n",
              "      <td>fatpeoplehate</td>\n",
              "    </tr>\n",
              "    <tr>\n",
              "      <th>3</th>\n",
              "      <td>\"This is warm. This is mine.\"</td>\n",
              "      <td>AnimalsBeingJerks</td>\n",
              "    </tr>\n",
              "    <tr>\n",
              "      <th>4</th>\n",
              "      <td>Look the baby's father is already ugly as hell...</td>\n",
              "      <td>ffxiv</td>\n",
              "    </tr>\n",
              "    <tr>\n",
              "      <th>...</th>\n",
              "      <td>...</td>\n",
              "      <td>...</td>\n",
              "    </tr>\n",
              "    <tr>\n",
              "      <th>200085</th>\n",
              "      <td>wow. The first source seems like dogshit. But ...</td>\n",
              "      <td>news</td>\n",
              "    </tr>\n",
              "    <tr>\n",
              "      <th>200086</th>\n",
              "      <td>There isn't much of a difference. In a lot def...</td>\n",
              "      <td>AskWomen</td>\n",
              "    </tr>\n",
              "    <tr>\n",
              "      <th>200087</th>\n",
              "      <td>Lamy Safari, Cross Bailey, Lamy 2000, and the ...</td>\n",
              "      <td>fountainpens</td>\n",
              "    </tr>\n",
              "    <tr>\n",
              "      <th>200088</th>\n",
              "      <td>Also, maybe you guys can socialize while accom...</td>\n",
              "      <td>introvert</td>\n",
              "    </tr>\n",
              "    <tr>\n",
              "      <th>200089</th>\n",
              "      <td>* Cazz yule as kripp</td>\n",
              "      <td>nl_Kripparrian</td>\n",
              "    </tr>\n",
              "  </tbody>\n",
              "</table>\n",
              "<p>199931 rows × 2 columns</p>\n",
              "</div>"
            ],
            "text/plain": [
              "                                                     body          subreddit\n",
              "0            Damn near everything belongs to the Lizards.             skyrim\n",
              "1             He does, I'd be backing away very slowly...                pic\n",
              "2       I weigh 285, I guarantee ya I could grab that ...      fatpeoplehate\n",
              "3                           \"This is warm. This is mine.\"  AnimalsBeingJerks\n",
              "4       Look the baby's father is already ugly as hell...              ffxiv\n",
              "...                                                   ...                ...\n",
              "200085  wow. The first source seems like dogshit. But ...               news\n",
              "200086  There isn't much of a difference. In a lot def...           AskWomen\n",
              "200087  Lamy Safari, Cross Bailey, Lamy 2000, and the ...       fountainpens\n",
              "200088  Also, maybe you guys can socialize while accom...          introvert\n",
              "200089                               * Cazz yule as kripp     nl_Kripparrian\n",
              "\n",
              "[199931 rows x 2 columns]"
            ]
          },
          "metadata": {
            "tags": []
          },
          "execution_count": 61
        }
      ]
    },
    {
      "cell_type": "markdown",
      "metadata": {
        "id": "LTFe-bZwc3n3"
      },
      "source": [
        "###  **Word2Vec**  Handling `body` feature"
      ]
    },
    {
      "cell_type": "code",
      "metadata": {
        "id": "INwNU6PCc3n4",
        "colab": {
          "base_uri": "https://localhost:8080/"
        },
        "outputId": "64db1a3d-5e07-4317-89a5-bc39a38afe87"
      },
      "source": [
        "df1.body"
      ],
      "execution_count": 62,
      "outputs": [
        {
          "output_type": "execute_result",
          "data": {
            "text/plain": [
              "0              Damn near everything belongs to the Lizards.\n",
              "1               He does, I'd be backing away very slowly...\n",
              "2         I weigh 285, I guarantee ya I could grab that ...\n",
              "3                             \"This is warm. This is mine.\"\n",
              "4         Look the baby's father is already ugly as hell...\n",
              "                                ...                        \n",
              "200085    wow. The first source seems like dogshit. But ...\n",
              "200086    There isn't much of a difference. In a lot def...\n",
              "200087    Lamy Safari, Cross Bailey, Lamy 2000, and the ...\n",
              "200088    Also, maybe you guys can socialize while accom...\n",
              "200089                                 * Cazz yule as kripp\n",
              "Name: body, Length: 199931, dtype: object"
            ]
          },
          "metadata": {
            "tags": []
          },
          "execution_count": 62
        }
      ]
    },
    {
      "cell_type": "code",
      "metadata": {
        "id": "hmcKma_Sc3n5",
        "colab": {
          "base_uri": "https://localhost:8080/"
        },
        "outputId": "4c456784-6c4f-4fa1-dbd7-6a7dae486998"
      },
      "source": [
        "len(df1.body[1])"
      ],
      "execution_count": 63,
      "outputs": [
        {
          "output_type": "execute_result",
          "data": {
            "text/plain": [
              "43"
            ]
          },
          "metadata": {
            "tags": []
          },
          "execution_count": 63
        }
      ]
    },
    {
      "cell_type": "code",
      "metadata": {
        "id": "ZBvAIzuec3n6",
        "colab": {
          "base_uri": "https://localhost:8080/",
          "height": 35
        },
        "outputId": "4aadc711-a030-4699-c97c-8cd1453d39e9"
      },
      "source": [
        "df1.body[1]"
      ],
      "execution_count": 64,
      "outputs": [
        {
          "output_type": "execute_result",
          "data": {
            "application/vnd.google.colaboratory.intrinsic+json": {
              "type": "string"
            },
            "text/plain": [
              "\"He does, I'd be backing away very slowly...\""
            ]
          },
          "metadata": {
            "tags": []
          },
          "execution_count": 64
        }
      ]
    },
    {
      "cell_type": "code",
      "metadata": {
        "id": "LplURtB7c3n6"
      },
      "source": [
        "import nltk"
      ],
      "execution_count": 65,
      "outputs": []
    },
    {
      "cell_type": "code",
      "metadata": {
        "colab": {
          "base_uri": "https://localhost:8080/"
        },
        "id": "BUoWsNKXLX9H",
        "outputId": "694f863c-52fc-4c2d-9ac2-982a6a955936"
      },
      "source": [
        "nltk.download('stopwords')"
      ],
      "execution_count": 66,
      "outputs": [
        {
          "output_type": "stream",
          "text": [
            "[nltk_data] Downloading package stopwords to /root/nltk_data...\n",
            "[nltk_data]   Package stopwords is already up-to-date!\n"
          ],
          "name": "stdout"
        },
        {
          "output_type": "execute_result",
          "data": {
            "text/plain": [
              "True"
            ]
          },
          "metadata": {
            "tags": []
          },
          "execution_count": 66
        }
      ]
    },
    {
      "cell_type": "code",
      "metadata": {
        "colab": {
          "base_uri": "https://localhost:8080/"
        },
        "id": "WMO4-Ek_L6j2",
        "outputId": "0644ddcc-a5d3-45e1-bdee-baea072fe3c1"
      },
      "source": [
        "nltk.download('punkt')"
      ],
      "execution_count": 67,
      "outputs": [
        {
          "output_type": "stream",
          "text": [
            "[nltk_data] Downloading package punkt to /root/nltk_data...\n",
            "[nltk_data]   Package punkt is already up-to-date!\n"
          ],
          "name": "stdout"
        },
        {
          "output_type": "execute_result",
          "data": {
            "text/plain": [
              "True"
            ]
          },
          "metadata": {
            "tags": []
          },
          "execution_count": 67
        }
      ]
    },
    {
      "cell_type": "code",
      "metadata": {
        "id": "VZlUwavWL21l"
      },
      "source": [
        "from nltk.corpus import stopwords\r\n",
        "\r\n",
        "# Initialize the stopwords\r\n",
        "stoplist = stopwords.words('english')"
      ],
      "execution_count": 68,
      "outputs": []
    },
    {
      "cell_type": "code",
      "metadata": {
        "id": "qHSHsqvxMS-N"
      },
      "source": [
        "import gensim"
      ],
      "execution_count": 69,
      "outputs": []
    },
    {
      "cell_type": "code",
      "metadata": {
        "id": "jGpvlSUdc3n7"
      },
      "source": [
        "from gensim.models import Word2Vec"
      ],
      "execution_count": 70,
      "outputs": []
    },
    {
      "cell_type": "code",
      "metadata": {
        "id": "gCHMeIgCc3n8"
      },
      "source": [
        "#df1.body.apply(lambda words: ' '.join(word for word in sentences if word not in stoplist))"
      ],
      "execution_count": 71,
      "outputs": []
    },
    {
      "cell_type": "code",
      "metadata": {
        "id": "CthAzYobc3n8"
      },
      "source": [
        "sentences = [nltk.word_tokenize(words) for words in df1.body]"
      ],
      "execution_count": 72,
      "outputs": []
    },
    {
      "cell_type": "code",
      "metadata": {
        "id": "r_-4fzf8c3pu"
      },
      "source": [
        "model = Word2Vec(sentences,min_count=1) "
      ],
      "execution_count": 73,
      "outputs": []
    },
    {
      "cell_type": "code",
      "metadata": {
        "id": "rOf0CJhec3pv",
        "colab": {
          "base_uri": "https://localhost:8080/"
        },
        "outputId": "7de8bdeb-0cb8-40af-e1c5-fe0f1ac69103"
      },
      "source": [
        "ordered_vocab = [(term, voc.index, voc.count) for term, voc in model.wv.vocab.items()]\n",
        "ordered_vocab = sorted(ordered_vocab, key=lambda k: k[2])\n",
        "ordered_terms, term_indices, term_counts = zip(*ordered_vocab)\n",
        "word_vectors = pd.DataFrame(model.wv.syn0[term_indices, :], index=ordered_terms)"
      ],
      "execution_count": 74,
      "outputs": [
        {
          "output_type": "stream",
          "text": [
            "/usr/local/lib/python3.6/dist-packages/ipykernel_launcher.py:4: DeprecationWarning: Call to deprecated `syn0` (Attribute will be removed in 4.0.0, use self.wv.vectors instead).\n",
            "  after removing the cwd from sys.path.\n"
          ],
          "name": "stderr"
        }
      ]
    },
    {
      "cell_type": "code",
      "metadata": {
        "scrolled": true,
        "id": "sgvJMtwzc3pv",
        "colab": {
          "base_uri": "https://localhost:8080/",
          "height": 439
        },
        "outputId": "23a0df91-6161-4c63-e727-d2d13b6d70e2"
      },
      "source": [
        "word_vectors"
      ],
      "execution_count": 75,
      "outputs": [
        {
          "output_type": "execute_result",
          "data": {
            "text/html": [
              "<div>\n",
              "<style scoped>\n",
              "    .dataframe tbody tr th:only-of-type {\n",
              "        vertical-align: middle;\n",
              "    }\n",
              "\n",
              "    .dataframe tbody tr th {\n",
              "        vertical-align: top;\n",
              "    }\n",
              "\n",
              "    .dataframe thead th {\n",
              "        text-align: right;\n",
              "    }\n",
              "</style>\n",
              "<table border=\"1\" class=\"dataframe\">\n",
              "  <thead>\n",
              "    <tr style=\"text-align: right;\">\n",
              "      <th></th>\n",
              "      <th>0</th>\n",
              "      <th>1</th>\n",
              "      <th>2</th>\n",
              "      <th>3</th>\n",
              "      <th>4</th>\n",
              "      <th>5</th>\n",
              "      <th>6</th>\n",
              "      <th>7</th>\n",
              "      <th>8</th>\n",
              "      <th>9</th>\n",
              "      <th>10</th>\n",
              "      <th>11</th>\n",
              "      <th>12</th>\n",
              "      <th>13</th>\n",
              "      <th>14</th>\n",
              "      <th>15</th>\n",
              "      <th>16</th>\n",
              "      <th>17</th>\n",
              "      <th>18</th>\n",
              "      <th>19</th>\n",
              "      <th>20</th>\n",
              "      <th>21</th>\n",
              "      <th>22</th>\n",
              "      <th>23</th>\n",
              "      <th>24</th>\n",
              "      <th>25</th>\n",
              "      <th>26</th>\n",
              "      <th>27</th>\n",
              "      <th>28</th>\n",
              "      <th>29</th>\n",
              "      <th>30</th>\n",
              "      <th>31</th>\n",
              "      <th>32</th>\n",
              "      <th>33</th>\n",
              "      <th>34</th>\n",
              "      <th>35</th>\n",
              "      <th>36</th>\n",
              "      <th>37</th>\n",
              "      <th>38</th>\n",
              "      <th>39</th>\n",
              "      <th>...</th>\n",
              "      <th>60</th>\n",
              "      <th>61</th>\n",
              "      <th>62</th>\n",
              "      <th>63</th>\n",
              "      <th>64</th>\n",
              "      <th>65</th>\n",
              "      <th>66</th>\n",
              "      <th>67</th>\n",
              "      <th>68</th>\n",
              "      <th>69</th>\n",
              "      <th>70</th>\n",
              "      <th>71</th>\n",
              "      <th>72</th>\n",
              "      <th>73</th>\n",
              "      <th>74</th>\n",
              "      <th>75</th>\n",
              "      <th>76</th>\n",
              "      <th>77</th>\n",
              "      <th>78</th>\n",
              "      <th>79</th>\n",
              "      <th>80</th>\n",
              "      <th>81</th>\n",
              "      <th>82</th>\n",
              "      <th>83</th>\n",
              "      <th>84</th>\n",
              "      <th>85</th>\n",
              "      <th>86</th>\n",
              "      <th>87</th>\n",
              "      <th>88</th>\n",
              "      <th>89</th>\n",
              "      <th>90</th>\n",
              "      <th>91</th>\n",
              "      <th>92</th>\n",
              "      <th>93</th>\n",
              "      <th>94</th>\n",
              "      <th>95</th>\n",
              "      <th>96</th>\n",
              "      <th>97</th>\n",
              "      <th>98</th>\n",
              "      <th>99</th>\n",
              "    </tr>\n",
              "  </thead>\n",
              "  <tbody>\n",
              "    <tr>\n",
              "      <th>putz</th>\n",
              "      <td>0.008577</td>\n",
              "      <td>-0.005522</td>\n",
              "      <td>-0.013510</td>\n",
              "      <td>0.001406</td>\n",
              "      <td>0.018808</td>\n",
              "      <td>0.006063</td>\n",
              "      <td>0.000997</td>\n",
              "      <td>-0.012913</td>\n",
              "      <td>-0.009613</td>\n",
              "      <td>-0.012184</td>\n",
              "      <td>-0.002645</td>\n",
              "      <td>-0.003134</td>\n",
              "      <td>0.003945</td>\n",
              "      <td>0.022076</td>\n",
              "      <td>0.001826</td>\n",
              "      <td>-0.006829</td>\n",
              "      <td>0.021292</td>\n",
              "      <td>0.004561</td>\n",
              "      <td>0.006778</td>\n",
              "      <td>0.010260</td>\n",
              "      <td>0.017229</td>\n",
              "      <td>-0.006038</td>\n",
              "      <td>0.029883</td>\n",
              "      <td>0.010574</td>\n",
              "      <td>0.012365</td>\n",
              "      <td>0.008992</td>\n",
              "      <td>-0.020122</td>\n",
              "      <td>-0.004222</td>\n",
              "      <td>-0.000909</td>\n",
              "      <td>0.000818</td>\n",
              "      <td>-0.003159</td>\n",
              "      <td>0.001179</td>\n",
              "      <td>-0.007545</td>\n",
              "      <td>-0.011263</td>\n",
              "      <td>0.007678</td>\n",
              "      <td>0.000438</td>\n",
              "      <td>-0.008502</td>\n",
              "      <td>0.007507</td>\n",
              "      <td>-0.009368</td>\n",
              "      <td>0.020990</td>\n",
              "      <td>...</td>\n",
              "      <td>-0.023842</td>\n",
              "      <td>-0.010158</td>\n",
              "      <td>0.023073</td>\n",
              "      <td>-0.001701</td>\n",
              "      <td>0.001797</td>\n",
              "      <td>0.008789</td>\n",
              "      <td>0.004563</td>\n",
              "      <td>0.006143</td>\n",
              "      <td>-0.001172</td>\n",
              "      <td>0.009731</td>\n",
              "      <td>0.001680</td>\n",
              "      <td>0.013776</td>\n",
              "      <td>-0.010302</td>\n",
              "      <td>-0.004682</td>\n",
              "      <td>-0.017196</td>\n",
              "      <td>0.007319</td>\n",
              "      <td>-0.009076</td>\n",
              "      <td>0.000296</td>\n",
              "      <td>0.010907</td>\n",
              "      <td>-0.000236</td>\n",
              "      <td>0.015438</td>\n",
              "      <td>0.000621</td>\n",
              "      <td>0.005591</td>\n",
              "      <td>0.020530</td>\n",
              "      <td>0.010985</td>\n",
              "      <td>0.009970</td>\n",
              "      <td>-0.003591</td>\n",
              "      <td>0.000251</td>\n",
              "      <td>-0.029562</td>\n",
              "      <td>-0.016584</td>\n",
              "      <td>0.000430</td>\n",
              "      <td>0.014794</td>\n",
              "      <td>0.004065</td>\n",
              "      <td>-0.000490</td>\n",
              "      <td>-0.008985</td>\n",
              "      <td>-0.017983</td>\n",
              "      <td>-0.005586</td>\n",
              "      <td>0.006301</td>\n",
              "      <td>0.016389</td>\n",
              "      <td>0.002384</td>\n",
              "    </tr>\n",
              "    <tr>\n",
              "      <th>knee-cap</th>\n",
              "      <td>0.021866</td>\n",
              "      <td>-0.004196</td>\n",
              "      <td>0.003514</td>\n",
              "      <td>0.003269</td>\n",
              "      <td>0.019884</td>\n",
              "      <td>0.008177</td>\n",
              "      <td>0.013714</td>\n",
              "      <td>-0.010123</td>\n",
              "      <td>-0.002684</td>\n",
              "      <td>0.000794</td>\n",
              "      <td>-0.004803</td>\n",
              "      <td>-0.001548</td>\n",
              "      <td>0.007418</td>\n",
              "      <td>0.012263</td>\n",
              "      <td>0.010904</td>\n",
              "      <td>-0.006890</td>\n",
              "      <td>0.016061</td>\n",
              "      <td>-0.006950</td>\n",
              "      <td>0.031813</td>\n",
              "      <td>0.018029</td>\n",
              "      <td>0.001731</td>\n",
              "      <td>0.012857</td>\n",
              "      <td>0.019139</td>\n",
              "      <td>0.014897</td>\n",
              "      <td>0.030771</td>\n",
              "      <td>0.001034</td>\n",
              "      <td>-0.017802</td>\n",
              "      <td>-0.010283</td>\n",
              "      <td>-0.009917</td>\n",
              "      <td>-0.014994</td>\n",
              "      <td>-0.003220</td>\n",
              "      <td>-0.001164</td>\n",
              "      <td>0.001065</td>\n",
              "      <td>-0.003619</td>\n",
              "      <td>0.008634</td>\n",
              "      <td>0.003704</td>\n",
              "      <td>0.012399</td>\n",
              "      <td>-0.005363</td>\n",
              "      <td>-0.003517</td>\n",
              "      <td>0.008827</td>\n",
              "      <td>...</td>\n",
              "      <td>0.010731</td>\n",
              "      <td>0.001291</td>\n",
              "      <td>-0.003805</td>\n",
              "      <td>-0.008598</td>\n",
              "      <td>-0.005464</td>\n",
              "      <td>0.002080</td>\n",
              "      <td>-0.011965</td>\n",
              "      <td>0.000974</td>\n",
              "      <td>-0.005749</td>\n",
              "      <td>0.002722</td>\n",
              "      <td>-0.018995</td>\n",
              "      <td>0.004414</td>\n",
              "      <td>-0.037357</td>\n",
              "      <td>0.008706</td>\n",
              "      <td>0.001850</td>\n",
              "      <td>0.003960</td>\n",
              "      <td>-0.007337</td>\n",
              "      <td>0.006630</td>\n",
              "      <td>0.002926</td>\n",
              "      <td>0.027901</td>\n",
              "      <td>0.008823</td>\n",
              "      <td>0.014973</td>\n",
              "      <td>0.006352</td>\n",
              "      <td>0.003023</td>\n",
              "      <td>-0.010952</td>\n",
              "      <td>-0.000786</td>\n",
              "      <td>-0.007913</td>\n",
              "      <td>-0.015672</td>\n",
              "      <td>-0.017176</td>\n",
              "      <td>-0.005141</td>\n",
              "      <td>-0.020586</td>\n",
              "      <td>0.024874</td>\n",
              "      <td>0.010718</td>\n",
              "      <td>-0.029710</td>\n",
              "      <td>0.008675</td>\n",
              "      <td>-0.004794</td>\n",
              "      <td>0.008759</td>\n",
              "      <td>0.007809</td>\n",
              "      <td>0.020296</td>\n",
              "      <td>0.014591</td>\n",
              "    </tr>\n",
              "    <tr>\n",
              "      <th>sperged</th>\n",
              "      <td>0.008177</td>\n",
              "      <td>-0.028605</td>\n",
              "      <td>-0.029320</td>\n",
              "      <td>-0.010114</td>\n",
              "      <td>-0.016247</td>\n",
              "      <td>0.002413</td>\n",
              "      <td>0.029512</td>\n",
              "      <td>-0.008324</td>\n",
              "      <td>-0.001254</td>\n",
              "      <td>0.014387</td>\n",
              "      <td>-0.015143</td>\n",
              "      <td>0.010662</td>\n",
              "      <td>0.006320</td>\n",
              "      <td>-0.005269</td>\n",
              "      <td>0.008767</td>\n",
              "      <td>-0.015648</td>\n",
              "      <td>-0.003015</td>\n",
              "      <td>0.003613</td>\n",
              "      <td>0.020388</td>\n",
              "      <td>-0.018053</td>\n",
              "      <td>-0.002310</td>\n",
              "      <td>0.018965</td>\n",
              "      <td>0.012847</td>\n",
              "      <td>0.015405</td>\n",
              "      <td>0.024207</td>\n",
              "      <td>-0.024135</td>\n",
              "      <td>-0.010364</td>\n",
              "      <td>-0.017408</td>\n",
              "      <td>-0.016696</td>\n",
              "      <td>-0.004538</td>\n",
              "      <td>0.009249</td>\n",
              "      <td>0.004475</td>\n",
              "      <td>-0.023841</td>\n",
              "      <td>0.011338</td>\n",
              "      <td>0.004454</td>\n",
              "      <td>-0.002938</td>\n",
              "      <td>0.008121</td>\n",
              "      <td>-0.000702</td>\n",
              "      <td>-0.011320</td>\n",
              "      <td>0.017191</td>\n",
              "      <td>...</td>\n",
              "      <td>-0.009259</td>\n",
              "      <td>0.011677</td>\n",
              "      <td>-0.027344</td>\n",
              "      <td>-0.022359</td>\n",
              "      <td>0.002734</td>\n",
              "      <td>-0.005680</td>\n",
              "      <td>-0.013384</td>\n",
              "      <td>0.028056</td>\n",
              "      <td>-0.012604</td>\n",
              "      <td>0.018646</td>\n",
              "      <td>-0.019567</td>\n",
              "      <td>-0.008802</td>\n",
              "      <td>0.002433</td>\n",
              "      <td>0.009566</td>\n",
              "      <td>0.012553</td>\n",
              "      <td>-0.000028</td>\n",
              "      <td>-0.013045</td>\n",
              "      <td>0.018931</td>\n",
              "      <td>-0.004031</td>\n",
              "      <td>0.004171</td>\n",
              "      <td>-0.001603</td>\n",
              "      <td>0.003635</td>\n",
              "      <td>0.012009</td>\n",
              "      <td>-0.014016</td>\n",
              "      <td>0.014158</td>\n",
              "      <td>0.005945</td>\n",
              "      <td>-0.008543</td>\n",
              "      <td>-0.004313</td>\n",
              "      <td>-0.018162</td>\n",
              "      <td>0.002078</td>\n",
              "      <td>-0.017284</td>\n",
              "      <td>-0.016496</td>\n",
              "      <td>0.007802</td>\n",
              "      <td>-0.016122</td>\n",
              "      <td>0.000313</td>\n",
              "      <td>0.011463</td>\n",
              "      <td>-0.016099</td>\n",
              "      <td>-0.001463</td>\n",
              "      <td>0.015381</td>\n",
              "      <td>-0.003592</td>\n",
              "    </tr>\n",
              "    <tr>\n",
              "      <th>statments</th>\n",
              "      <td>-0.018562</td>\n",
              "      <td>-0.034474</td>\n",
              "      <td>0.016745</td>\n",
              "      <td>-0.011081</td>\n",
              "      <td>0.010430</td>\n",
              "      <td>0.012509</td>\n",
              "      <td>0.029811</td>\n",
              "      <td>-0.002235</td>\n",
              "      <td>-0.006685</td>\n",
              "      <td>0.012417</td>\n",
              "      <td>-0.008422</td>\n",
              "      <td>0.004019</td>\n",
              "      <td>-0.005334</td>\n",
              "      <td>0.007435</td>\n",
              "      <td>-0.002738</td>\n",
              "      <td>-0.016348</td>\n",
              "      <td>0.014268</td>\n",
              "      <td>-0.013038</td>\n",
              "      <td>0.011805</td>\n",
              "      <td>0.017686</td>\n",
              "      <td>0.001225</td>\n",
              "      <td>-0.001939</td>\n",
              "      <td>0.005977</td>\n",
              "      <td>0.001079</td>\n",
              "      <td>0.019602</td>\n",
              "      <td>0.008569</td>\n",
              "      <td>-0.025127</td>\n",
              "      <td>-0.024928</td>\n",
              "      <td>-0.021971</td>\n",
              "      <td>-0.014987</td>\n",
              "      <td>0.003587</td>\n",
              "      <td>-0.009377</td>\n",
              "      <td>0.005898</td>\n",
              "      <td>0.001813</td>\n",
              "      <td>0.006100</td>\n",
              "      <td>-0.000519</td>\n",
              "      <td>0.004178</td>\n",
              "      <td>-0.001676</td>\n",
              "      <td>-0.015525</td>\n",
              "      <td>0.004121</td>\n",
              "      <td>...</td>\n",
              "      <td>0.012496</td>\n",
              "      <td>-0.006532</td>\n",
              "      <td>-0.008794</td>\n",
              "      <td>-0.010172</td>\n",
              "      <td>0.016029</td>\n",
              "      <td>-0.019995</td>\n",
              "      <td>0.013724</td>\n",
              "      <td>-0.001913</td>\n",
              "      <td>-0.019119</td>\n",
              "      <td>0.016529</td>\n",
              "      <td>-0.038817</td>\n",
              "      <td>-0.005619</td>\n",
              "      <td>-0.029921</td>\n",
              "      <td>0.021111</td>\n",
              "      <td>-0.005507</td>\n",
              "      <td>-0.004556</td>\n",
              "      <td>-0.018854</td>\n",
              "      <td>-0.036330</td>\n",
              "      <td>-0.014383</td>\n",
              "      <td>0.025672</td>\n",
              "      <td>0.010402</td>\n",
              "      <td>0.024583</td>\n",
              "      <td>-0.004106</td>\n",
              "      <td>0.008087</td>\n",
              "      <td>0.013378</td>\n",
              "      <td>-0.028009</td>\n",
              "      <td>-0.013208</td>\n",
              "      <td>-0.017670</td>\n",
              "      <td>-0.012439</td>\n",
              "      <td>-0.000241</td>\n",
              "      <td>-0.008065</td>\n",
              "      <td>0.027719</td>\n",
              "      <td>0.014411</td>\n",
              "      <td>0.005145</td>\n",
              "      <td>-0.000585</td>\n",
              "      <td>0.026835</td>\n",
              "      <td>-0.002605</td>\n",
              "      <td>-0.013255</td>\n",
              "      <td>0.023445</td>\n",
              "      <td>0.004503</td>\n",
              "    </tr>\n",
              "    <tr>\n",
              "      <th>marvelverse</th>\n",
              "      <td>-0.007671</td>\n",
              "      <td>-0.032245</td>\n",
              "      <td>0.006168</td>\n",
              "      <td>-0.015753</td>\n",
              "      <td>0.009642</td>\n",
              "      <td>-0.023567</td>\n",
              "      <td>0.015112</td>\n",
              "      <td>-0.017086</td>\n",
              "      <td>-0.004867</td>\n",
              "      <td>-0.021952</td>\n",
              "      <td>-0.000169</td>\n",
              "      <td>-0.010793</td>\n",
              "      <td>-0.000964</td>\n",
              "      <td>-0.004936</td>\n",
              "      <td>0.000967</td>\n",
              "      <td>-0.000349</td>\n",
              "      <td>-0.012434</td>\n",
              "      <td>-0.008966</td>\n",
              "      <td>0.012626</td>\n",
              "      <td>0.016429</td>\n",
              "      <td>0.001124</td>\n",
              "      <td>-0.017762</td>\n",
              "      <td>0.034426</td>\n",
              "      <td>-0.012496</td>\n",
              "      <td>0.015599</td>\n",
              "      <td>0.020948</td>\n",
              "      <td>0.005841</td>\n",
              "      <td>0.021454</td>\n",
              "      <td>0.005232</td>\n",
              "      <td>-0.001152</td>\n",
              "      <td>-0.010712</td>\n",
              "      <td>-0.003911</td>\n",
              "      <td>-0.011175</td>\n",
              "      <td>0.028814</td>\n",
              "      <td>-0.000701</td>\n",
              "      <td>-0.004001</td>\n",
              "      <td>-0.008471</td>\n",
              "      <td>-0.024165</td>\n",
              "      <td>-0.005619</td>\n",
              "      <td>0.002535</td>\n",
              "      <td>...</td>\n",
              "      <td>-0.007033</td>\n",
              "      <td>-0.001976</td>\n",
              "      <td>-0.019099</td>\n",
              "      <td>-0.033346</td>\n",
              "      <td>-0.020058</td>\n",
              "      <td>-0.003851</td>\n",
              "      <td>0.000515</td>\n",
              "      <td>0.008010</td>\n",
              "      <td>0.001241</td>\n",
              "      <td>-0.005232</td>\n",
              "      <td>-0.022775</td>\n",
              "      <td>0.008869</td>\n",
              "      <td>-0.006399</td>\n",
              "      <td>-0.003326</td>\n",
              "      <td>-0.012982</td>\n",
              "      <td>-0.012458</td>\n",
              "      <td>-0.011222</td>\n",
              "      <td>-0.030333</td>\n",
              "      <td>0.015856</td>\n",
              "      <td>-0.000449</td>\n",
              "      <td>-0.006956</td>\n",
              "      <td>0.015831</td>\n",
              "      <td>-0.004504</td>\n",
              "      <td>0.016739</td>\n",
              "      <td>-0.021764</td>\n",
              "      <td>0.009429</td>\n",
              "      <td>-0.003961</td>\n",
              "      <td>-0.009653</td>\n",
              "      <td>-0.013568</td>\n",
              "      <td>-0.010373</td>\n",
              "      <td>-0.015700</td>\n",
              "      <td>0.029572</td>\n",
              "      <td>0.001196</td>\n",
              "      <td>0.000364</td>\n",
              "      <td>0.000426</td>\n",
              "      <td>0.011556</td>\n",
              "      <td>0.012800</td>\n",
              "      <td>0.002326</td>\n",
              "      <td>-0.003235</td>\n",
              "      <td>0.016142</td>\n",
              "    </tr>\n",
              "    <tr>\n",
              "      <th>...</th>\n",
              "      <td>...</td>\n",
              "      <td>...</td>\n",
              "      <td>...</td>\n",
              "      <td>...</td>\n",
              "      <td>...</td>\n",
              "      <td>...</td>\n",
              "      <td>...</td>\n",
              "      <td>...</td>\n",
              "      <td>...</td>\n",
              "      <td>...</td>\n",
              "      <td>...</td>\n",
              "      <td>...</td>\n",
              "      <td>...</td>\n",
              "      <td>...</td>\n",
              "      <td>...</td>\n",
              "      <td>...</td>\n",
              "      <td>...</td>\n",
              "      <td>...</td>\n",
              "      <td>...</td>\n",
              "      <td>...</td>\n",
              "      <td>...</td>\n",
              "      <td>...</td>\n",
              "      <td>...</td>\n",
              "      <td>...</td>\n",
              "      <td>...</td>\n",
              "      <td>...</td>\n",
              "      <td>...</td>\n",
              "      <td>...</td>\n",
              "      <td>...</td>\n",
              "      <td>...</td>\n",
              "      <td>...</td>\n",
              "      <td>...</td>\n",
              "      <td>...</td>\n",
              "      <td>...</td>\n",
              "      <td>...</td>\n",
              "      <td>...</td>\n",
              "      <td>...</td>\n",
              "      <td>...</td>\n",
              "      <td>...</td>\n",
              "      <td>...</td>\n",
              "      <td>...</td>\n",
              "      <td>...</td>\n",
              "      <td>...</td>\n",
              "      <td>...</td>\n",
              "      <td>...</td>\n",
              "      <td>...</td>\n",
              "      <td>...</td>\n",
              "      <td>...</td>\n",
              "      <td>...</td>\n",
              "      <td>...</td>\n",
              "      <td>...</td>\n",
              "      <td>...</td>\n",
              "      <td>...</td>\n",
              "      <td>...</td>\n",
              "      <td>...</td>\n",
              "      <td>...</td>\n",
              "      <td>...</td>\n",
              "      <td>...</td>\n",
              "      <td>...</td>\n",
              "      <td>...</td>\n",
              "      <td>...</td>\n",
              "      <td>...</td>\n",
              "      <td>...</td>\n",
              "      <td>...</td>\n",
              "      <td>...</td>\n",
              "      <td>...</td>\n",
              "      <td>...</td>\n",
              "      <td>...</td>\n",
              "      <td>...</td>\n",
              "      <td>...</td>\n",
              "      <td>...</td>\n",
              "      <td>...</td>\n",
              "      <td>...</td>\n",
              "      <td>...</td>\n",
              "      <td>...</td>\n",
              "      <td>...</td>\n",
              "      <td>...</td>\n",
              "      <td>...</td>\n",
              "      <td>...</td>\n",
              "      <td>...</td>\n",
              "      <td>...</td>\n",
              "    </tr>\n",
              "    <tr>\n",
              "      <th>to</th>\n",
              "      <td>2.124492</td>\n",
              "      <td>-3.384339</td>\n",
              "      <td>-0.328448</td>\n",
              "      <td>-0.653068</td>\n",
              "      <td>-1.032526</td>\n",
              "      <td>-1.957597</td>\n",
              "      <td>-1.739300</td>\n",
              "      <td>1.941669</td>\n",
              "      <td>-0.612087</td>\n",
              "      <td>-2.090667</td>\n",
              "      <td>-2.556437</td>\n",
              "      <td>-3.345210</td>\n",
              "      <td>-0.258693</td>\n",
              "      <td>0.162352</td>\n",
              "      <td>-2.943183</td>\n",
              "      <td>0.664308</td>\n",
              "      <td>1.873098</td>\n",
              "      <td>-1.511851</td>\n",
              "      <td>0.768753</td>\n",
              "      <td>2.113729</td>\n",
              "      <td>-0.769870</td>\n",
              "      <td>-0.225859</td>\n",
              "      <td>0.100915</td>\n",
              "      <td>-1.587156</td>\n",
              "      <td>-1.803557</td>\n",
              "      <td>1.362166</td>\n",
              "      <td>-0.653220</td>\n",
              "      <td>2.300573</td>\n",
              "      <td>-0.031198</td>\n",
              "      <td>0.184749</td>\n",
              "      <td>1.497046</td>\n",
              "      <td>-0.731409</td>\n",
              "      <td>-1.749556</td>\n",
              "      <td>0.875172</td>\n",
              "      <td>-2.130059</td>\n",
              "      <td>-4.706134</td>\n",
              "      <td>-1.819965</td>\n",
              "      <td>-0.833450</td>\n",
              "      <td>-1.869413</td>\n",
              "      <td>-1.122812</td>\n",
              "      <td>...</td>\n",
              "      <td>-4.875817</td>\n",
              "      <td>-0.114649</td>\n",
              "      <td>2.883036</td>\n",
              "      <td>1.702917</td>\n",
              "      <td>0.784322</td>\n",
              "      <td>1.060406</td>\n",
              "      <td>-0.821654</td>\n",
              "      <td>-2.045979</td>\n",
              "      <td>-0.159024</td>\n",
              "      <td>-3.722064</td>\n",
              "      <td>1.895934</td>\n",
              "      <td>-1.002798</td>\n",
              "      <td>1.381838</td>\n",
              "      <td>-2.038006</td>\n",
              "      <td>-0.818191</td>\n",
              "      <td>-3.073238</td>\n",
              "      <td>-1.391363</td>\n",
              "      <td>-2.583038</td>\n",
              "      <td>0.358697</td>\n",
              "      <td>1.739171</td>\n",
              "      <td>-0.255537</td>\n",
              "      <td>-5.760076</td>\n",
              "      <td>-0.486184</td>\n",
              "      <td>-2.449145</td>\n",
              "      <td>1.307666</td>\n",
              "      <td>4.680726</td>\n",
              "      <td>-2.178414</td>\n",
              "      <td>0.028446</td>\n",
              "      <td>1.066472</td>\n",
              "      <td>-1.258036</td>\n",
              "      <td>-3.613191</td>\n",
              "      <td>0.274298</td>\n",
              "      <td>-3.352194</td>\n",
              "      <td>1.277150</td>\n",
              "      <td>0.969782</td>\n",
              "      <td>5.536571</td>\n",
              "      <td>0.845635</td>\n",
              "      <td>-0.685879</td>\n",
              "      <td>0.720405</td>\n",
              "      <td>-0.427405</td>\n",
              "    </tr>\n",
              "    <tr>\n",
              "      <th>I</th>\n",
              "      <td>1.788643</td>\n",
              "      <td>1.257923</td>\n",
              "      <td>-1.689994</td>\n",
              "      <td>1.587670</td>\n",
              "      <td>0.641315</td>\n",
              "      <td>-0.376716</td>\n",
              "      <td>-1.606053</td>\n",
              "      <td>1.521441</td>\n",
              "      <td>-1.427842</td>\n",
              "      <td>-2.417354</td>\n",
              "      <td>-1.840919</td>\n",
              "      <td>-3.329417</td>\n",
              "      <td>1.230968</td>\n",
              "      <td>1.910201</td>\n",
              "      <td>-0.605816</td>\n",
              "      <td>0.946563</td>\n",
              "      <td>1.012877</td>\n",
              "      <td>0.573217</td>\n",
              "      <td>1.656944</td>\n",
              "      <td>-1.328865</td>\n",
              "      <td>-1.644361</td>\n",
              "      <td>-1.064988</td>\n",
              "      <td>4.455623</td>\n",
              "      <td>1.054004</td>\n",
              "      <td>-1.478293</td>\n",
              "      <td>2.801844</td>\n",
              "      <td>0.219127</td>\n",
              "      <td>3.318544</td>\n",
              "      <td>-1.579848</td>\n",
              "      <td>0.730882</td>\n",
              "      <td>0.698208</td>\n",
              "      <td>-3.701405</td>\n",
              "      <td>2.551636</td>\n",
              "      <td>1.672763</td>\n",
              "      <td>-1.915474</td>\n",
              "      <td>-0.363502</td>\n",
              "      <td>0.453482</td>\n",
              "      <td>0.103547</td>\n",
              "      <td>2.159788</td>\n",
              "      <td>-1.462486</td>\n",
              "      <td>...</td>\n",
              "      <td>-0.238580</td>\n",
              "      <td>0.555497</td>\n",
              "      <td>-0.574636</td>\n",
              "      <td>-1.506441</td>\n",
              "      <td>3.559489</td>\n",
              "      <td>2.784211</td>\n",
              "      <td>0.186439</td>\n",
              "      <td>-2.140882</td>\n",
              "      <td>-0.961748</td>\n",
              "      <td>3.019470</td>\n",
              "      <td>3.165167</td>\n",
              "      <td>-3.081158</td>\n",
              "      <td>2.349312</td>\n",
              "      <td>-2.591683</td>\n",
              "      <td>-3.279456</td>\n",
              "      <td>-3.000765</td>\n",
              "      <td>0.302537</td>\n",
              "      <td>-0.868941</td>\n",
              "      <td>0.069196</td>\n",
              "      <td>-1.618253</td>\n",
              "      <td>3.383806</td>\n",
              "      <td>-4.106694</td>\n",
              "      <td>-1.603210</td>\n",
              "      <td>-2.263955</td>\n",
              "      <td>0.062405</td>\n",
              "      <td>6.791456</td>\n",
              "      <td>-2.686812</td>\n",
              "      <td>0.306178</td>\n",
              "      <td>3.053611</td>\n",
              "      <td>-0.696412</td>\n",
              "      <td>-3.592131</td>\n",
              "      <td>0.686902</td>\n",
              "      <td>-2.400963</td>\n",
              "      <td>1.306694</td>\n",
              "      <td>-0.420455</td>\n",
              "      <td>3.362018</td>\n",
              "      <td>-0.194505</td>\n",
              "      <td>0.103604</td>\n",
              "      <td>0.144634</td>\n",
              "      <td>0.391296</td>\n",
              "    </tr>\n",
              "    <tr>\n",
              "      <th>the</th>\n",
              "      <td>2.163997</td>\n",
              "      <td>1.260552</td>\n",
              "      <td>1.322464</td>\n",
              "      <td>0.090277</td>\n",
              "      <td>-1.825781</td>\n",
              "      <td>-3.171779</td>\n",
              "      <td>0.494476</td>\n",
              "      <td>1.014131</td>\n",
              "      <td>0.968360</td>\n",
              "      <td>-1.300223</td>\n",
              "      <td>-3.244632</td>\n",
              "      <td>-3.154755</td>\n",
              "      <td>0.455453</td>\n",
              "      <td>-0.216604</td>\n",
              "      <td>-3.065867</td>\n",
              "      <td>0.397257</td>\n",
              "      <td>-0.152906</td>\n",
              "      <td>-1.769761</td>\n",
              "      <td>1.514125</td>\n",
              "      <td>-1.991109</td>\n",
              "      <td>-1.220966</td>\n",
              "      <td>-1.590217</td>\n",
              "      <td>-0.144140</td>\n",
              "      <td>-0.148365</td>\n",
              "      <td>1.310585</td>\n",
              "      <td>1.254802</td>\n",
              "      <td>1.054000</td>\n",
              "      <td>1.795621</td>\n",
              "      <td>-2.239270</td>\n",
              "      <td>0.218163</td>\n",
              "      <td>0.498502</td>\n",
              "      <td>-3.880555</td>\n",
              "      <td>-0.841545</td>\n",
              "      <td>1.063997</td>\n",
              "      <td>-1.916631</td>\n",
              "      <td>-2.011804</td>\n",
              "      <td>1.814824</td>\n",
              "      <td>-2.958522</td>\n",
              "      <td>-1.135895</td>\n",
              "      <td>1.157725</td>\n",
              "      <td>...</td>\n",
              "      <td>-2.270745</td>\n",
              "      <td>-1.304172</td>\n",
              "      <td>0.463526</td>\n",
              "      <td>0.069027</td>\n",
              "      <td>3.403605</td>\n",
              "      <td>-1.652910</td>\n",
              "      <td>-2.243561</td>\n",
              "      <td>-2.623343</td>\n",
              "      <td>-0.284979</td>\n",
              "      <td>-0.070305</td>\n",
              "      <td>0.750484</td>\n",
              "      <td>1.880176</td>\n",
              "      <td>1.312926</td>\n",
              "      <td>-0.371033</td>\n",
              "      <td>1.404190</td>\n",
              "      <td>-3.223408</td>\n",
              "      <td>-2.603801</td>\n",
              "      <td>-3.801850</td>\n",
              "      <td>-2.109980</td>\n",
              "      <td>-0.646477</td>\n",
              "      <td>-0.296205</td>\n",
              "      <td>-0.797687</td>\n",
              "      <td>-1.083981</td>\n",
              "      <td>-2.315558</td>\n",
              "      <td>0.146294</td>\n",
              "      <td>3.352870</td>\n",
              "      <td>-0.405789</td>\n",
              "      <td>1.859764</td>\n",
              "      <td>-2.379531</td>\n",
              "      <td>0.987540</td>\n",
              "      <td>0.562219</td>\n",
              "      <td>-1.209156</td>\n",
              "      <td>-3.628233</td>\n",
              "      <td>2.348266</td>\n",
              "      <td>0.266723</td>\n",
              "      <td>5.309288</td>\n",
              "      <td>-0.665530</td>\n",
              "      <td>1.003234</td>\n",
              "      <td>-0.066165</td>\n",
              "      <td>-0.013675</td>\n",
              "    </tr>\n",
              "    <tr>\n",
              "      <th>,</th>\n",
              "      <td>0.868959</td>\n",
              "      <td>-1.120408</td>\n",
              "      <td>-0.472779</td>\n",
              "      <td>1.138278</td>\n",
              "      <td>-0.278237</td>\n",
              "      <td>0.137659</td>\n",
              "      <td>-0.302581</td>\n",
              "      <td>1.772284</td>\n",
              "      <td>-0.627244</td>\n",
              "      <td>0.250461</td>\n",
              "      <td>-1.361999</td>\n",
              "      <td>-2.764645</td>\n",
              "      <td>-1.334236</td>\n",
              "      <td>1.269105</td>\n",
              "      <td>-2.516589</td>\n",
              "      <td>0.641015</td>\n",
              "      <td>-0.033187</td>\n",
              "      <td>-0.195868</td>\n",
              "      <td>1.756816</td>\n",
              "      <td>-0.557795</td>\n",
              "      <td>-1.342533</td>\n",
              "      <td>-0.429175</td>\n",
              "      <td>0.381436</td>\n",
              "      <td>-1.454313</td>\n",
              "      <td>-1.996141</td>\n",
              "      <td>2.143663</td>\n",
              "      <td>0.388174</td>\n",
              "      <td>0.076781</td>\n",
              "      <td>0.205738</td>\n",
              "      <td>2.423936</td>\n",
              "      <td>-0.355916</td>\n",
              "      <td>-1.764419</td>\n",
              "      <td>-0.884638</td>\n",
              "      <td>0.483857</td>\n",
              "      <td>-1.103830</td>\n",
              "      <td>-2.416982</td>\n",
              "      <td>1.075664</td>\n",
              "      <td>0.364935</td>\n",
              "      <td>-0.131264</td>\n",
              "      <td>-0.110748</td>\n",
              "      <td>...</td>\n",
              "      <td>-0.318280</td>\n",
              "      <td>-1.492122</td>\n",
              "      <td>-0.959499</td>\n",
              "      <td>-1.464463</td>\n",
              "      <td>1.792018</td>\n",
              "      <td>0.462381</td>\n",
              "      <td>-0.451746</td>\n",
              "      <td>-1.042673</td>\n",
              "      <td>0.780653</td>\n",
              "      <td>0.322425</td>\n",
              "      <td>0.949396</td>\n",
              "      <td>-0.591304</td>\n",
              "      <td>1.783741</td>\n",
              "      <td>-0.647755</td>\n",
              "      <td>-0.082695</td>\n",
              "      <td>-4.024776</td>\n",
              "      <td>-1.009369</td>\n",
              "      <td>1.048294</td>\n",
              "      <td>0.921472</td>\n",
              "      <td>0.851015</td>\n",
              "      <td>1.026637</td>\n",
              "      <td>-2.269109</td>\n",
              "      <td>-1.421181</td>\n",
              "      <td>-1.921117</td>\n",
              "      <td>-0.262026</td>\n",
              "      <td>1.199116</td>\n",
              "      <td>1.087193</td>\n",
              "      <td>1.060354</td>\n",
              "      <td>-0.210154</td>\n",
              "      <td>0.686381</td>\n",
              "      <td>1.371545</td>\n",
              "      <td>-0.350817</td>\n",
              "      <td>-3.176922</td>\n",
              "      <td>3.606387</td>\n",
              "      <td>0.207844</td>\n",
              "      <td>2.808182</td>\n",
              "      <td>0.581550</td>\n",
              "      <td>1.671721</td>\n",
              "      <td>0.325964</td>\n",
              "      <td>-0.056689</td>\n",
              "    </tr>\n",
              "    <tr>\n",
              "      <th>.</th>\n",
              "      <td>1.218901</td>\n",
              "      <td>-1.133005</td>\n",
              "      <td>-0.347996</td>\n",
              "      <td>1.803187</td>\n",
              "      <td>-1.774734</td>\n",
              "      <td>-0.042481</td>\n",
              "      <td>0.307500</td>\n",
              "      <td>1.452150</td>\n",
              "      <td>0.083537</td>\n",
              "      <td>-1.643841</td>\n",
              "      <td>-2.060444</td>\n",
              "      <td>-1.357545</td>\n",
              "      <td>-1.305698</td>\n",
              "      <td>-1.861780</td>\n",
              "      <td>-2.112148</td>\n",
              "      <td>-1.095090</td>\n",
              "      <td>-0.650774</td>\n",
              "      <td>-1.491473</td>\n",
              "      <td>0.783372</td>\n",
              "      <td>0.451778</td>\n",
              "      <td>-2.099712</td>\n",
              "      <td>-1.088507</td>\n",
              "      <td>1.070509</td>\n",
              "      <td>-1.059242</td>\n",
              "      <td>-2.488668</td>\n",
              "      <td>-0.389586</td>\n",
              "      <td>0.538382</td>\n",
              "      <td>2.045562</td>\n",
              "      <td>-0.932105</td>\n",
              "      <td>0.612471</td>\n",
              "      <td>-1.512882</td>\n",
              "      <td>-2.092667</td>\n",
              "      <td>0.057218</td>\n",
              "      <td>-0.488784</td>\n",
              "      <td>-0.297047</td>\n",
              "      <td>-1.616820</td>\n",
              "      <td>0.819044</td>\n",
              "      <td>-0.504111</td>\n",
              "      <td>-0.873955</td>\n",
              "      <td>0.759569</td>\n",
              "      <td>...</td>\n",
              "      <td>-2.138824</td>\n",
              "      <td>0.700127</td>\n",
              "      <td>0.378461</td>\n",
              "      <td>-0.798534</td>\n",
              "      <td>1.485298</td>\n",
              "      <td>0.291468</td>\n",
              "      <td>-3.680936</td>\n",
              "      <td>-1.568653</td>\n",
              "      <td>1.078537</td>\n",
              "      <td>-3.287625</td>\n",
              "      <td>1.812692</td>\n",
              "      <td>-2.355280</td>\n",
              "      <td>0.096709</td>\n",
              "      <td>1.120139</td>\n",
              "      <td>-1.041271</td>\n",
              "      <td>-2.030579</td>\n",
              "      <td>-0.559759</td>\n",
              "      <td>0.205421</td>\n",
              "      <td>-2.781944</td>\n",
              "      <td>-1.453628</td>\n",
              "      <td>0.724835</td>\n",
              "      <td>-2.982416</td>\n",
              "      <td>-0.522934</td>\n",
              "      <td>-1.304425</td>\n",
              "      <td>0.764316</td>\n",
              "      <td>1.530097</td>\n",
              "      <td>-2.471587</td>\n",
              "      <td>-0.124251</td>\n",
              "      <td>0.462996</td>\n",
              "      <td>-0.960114</td>\n",
              "      <td>2.385237</td>\n",
              "      <td>-1.326336</td>\n",
              "      <td>-3.529592</td>\n",
              "      <td>1.174188</td>\n",
              "      <td>0.387892</td>\n",
              "      <td>2.457128</td>\n",
              "      <td>0.233541</td>\n",
              "      <td>2.988323</td>\n",
              "      <td>2.937345</td>\n",
              "      <td>1.066957</td>\n",
              "    </tr>\n",
              "  </tbody>\n",
              "</table>\n",
              "<p>202982 rows × 100 columns</p>\n",
              "</div>"
            ],
            "text/plain": [
              "                   0         1         2   ...        97        98        99\n",
              "putz         0.008577 -0.005522 -0.013510  ...  0.006301  0.016389  0.002384\n",
              "knee-cap     0.021866 -0.004196  0.003514  ...  0.007809  0.020296  0.014591\n",
              "sperged      0.008177 -0.028605 -0.029320  ... -0.001463  0.015381 -0.003592\n",
              "statments   -0.018562 -0.034474  0.016745  ... -0.013255  0.023445  0.004503\n",
              "marvelverse -0.007671 -0.032245  0.006168  ...  0.002326 -0.003235  0.016142\n",
              "...               ...       ...       ...  ...       ...       ...       ...\n",
              "to           2.124492 -3.384339 -0.328448  ... -0.685879  0.720405 -0.427405\n",
              "I            1.788643  1.257923 -1.689994  ...  0.103604  0.144634  0.391296\n",
              "the          2.163997  1.260552  1.322464  ...  1.003234 -0.066165 -0.013675\n",
              ",            0.868959 -1.120408 -0.472779  ...  1.671721  0.325964 -0.056689\n",
              ".            1.218901 -1.133005 -0.347996  ...  2.988323  2.937345  1.066957\n",
              "\n",
              "[202982 rows x 100 columns]"
            ]
          },
          "metadata": {
            "tags": []
          },
          "execution_count": 75
        }
      ]
    },
    {
      "cell_type": "code",
      "metadata": {
        "id": "YuJ6vrLAc3pw"
      },
      "source": [
        "df2 = df"
      ],
      "execution_count": 76,
      "outputs": []
    },
    {
      "cell_type": "code",
      "metadata": {
        "id": "-FiWsWHTc3pw",
        "colab": {
          "base_uri": "https://localhost:8080/"
        },
        "outputId": "75eaf4fe-8bcb-417f-9446-fc724f1251dd"
      },
      "source": [
        "df2.shape"
      ],
      "execution_count": 77,
      "outputs": [
        {
          "output_type": "execute_result",
          "data": {
            "text/plain": [
              "(199931, 23)"
            ]
          },
          "metadata": {
            "tags": []
          },
          "execution_count": 77
        }
      ]
    },
    {
      "cell_type": "code",
      "metadata": {
        "id": "0m45kqWIOrnl"
      },
      "source": [
        "word_vectors.drop(word_vectors.tail(3051).index,inplace=True)"
      ],
      "execution_count": 78,
      "outputs": []
    },
    {
      "cell_type": "code",
      "metadata": {
        "scrolled": true,
        "id": "0HUP5PKUc3px",
        "colab": {
          "base_uri": "https://localhost:8080/"
        },
        "outputId": "27563027-460a-482b-9249-e7e941ae68a9"
      },
      "source": [
        "word_vectors.shape"
      ],
      "execution_count": 79,
      "outputs": [
        {
          "output_type": "execute_result",
          "data": {
            "text/plain": [
              "(199931, 100)"
            ]
          },
          "metadata": {
            "tags": []
          },
          "execution_count": 79
        }
      ]
    },
    {
      "cell_type": "code",
      "metadata": {
        "id": "qS4HlUM6c3px"
      },
      "source": [
        "indices = word_vectors.index"
      ],
      "execution_count": 80,
      "outputs": []
    },
    {
      "cell_type": "code",
      "metadata": {
        "id": "SK8DNdFTc3px",
        "colab": {
          "base_uri": "https://localhost:8080/"
        },
        "outputId": "f0a24dc7-27a6-4648-e364-bcd78608c065"
      },
      "source": [
        "indices"
      ],
      "execution_count": 81,
      "outputs": [
        {
          "output_type": "execute_result",
          "data": {
            "text/plain": [
              "Index(['putz', 'knee-cap', 'sperged', 'statments', 'marvelverse', '43.65',\n",
              "       '2619', '2147', '2091', '/u/Transcendentist',\n",
              "       ...\n",
              "       'factors', 'latest', 'valuable', 'repost', 'significantly', 'Hard',\n",
              "       'famous', 'dislike', 'audience', 'hat'],\n",
              "      dtype='object', length=199931)"
            ]
          },
          "metadata": {
            "tags": []
          },
          "execution_count": 81
        }
      ]
    },
    {
      "cell_type": "code",
      "metadata": {
        "colab": {
          "base_uri": "https://localhost:8080/",
          "height": 439
        },
        "id": "13lt2N_4P1iM",
        "outputId": "cd08c440-60f0-4a54-a29e-4609be8a35b6"
      },
      "source": [
        "word_vectors"
      ],
      "execution_count": 82,
      "outputs": [
        {
          "output_type": "execute_result",
          "data": {
            "text/html": [
              "<div>\n",
              "<style scoped>\n",
              "    .dataframe tbody tr th:only-of-type {\n",
              "        vertical-align: middle;\n",
              "    }\n",
              "\n",
              "    .dataframe tbody tr th {\n",
              "        vertical-align: top;\n",
              "    }\n",
              "\n",
              "    .dataframe thead th {\n",
              "        text-align: right;\n",
              "    }\n",
              "</style>\n",
              "<table border=\"1\" class=\"dataframe\">\n",
              "  <thead>\n",
              "    <tr style=\"text-align: right;\">\n",
              "      <th></th>\n",
              "      <th>0</th>\n",
              "      <th>1</th>\n",
              "      <th>2</th>\n",
              "      <th>3</th>\n",
              "      <th>4</th>\n",
              "      <th>5</th>\n",
              "      <th>6</th>\n",
              "      <th>7</th>\n",
              "      <th>8</th>\n",
              "      <th>9</th>\n",
              "      <th>10</th>\n",
              "      <th>11</th>\n",
              "      <th>12</th>\n",
              "      <th>13</th>\n",
              "      <th>14</th>\n",
              "      <th>15</th>\n",
              "      <th>16</th>\n",
              "      <th>17</th>\n",
              "      <th>18</th>\n",
              "      <th>19</th>\n",
              "      <th>20</th>\n",
              "      <th>21</th>\n",
              "      <th>22</th>\n",
              "      <th>23</th>\n",
              "      <th>24</th>\n",
              "      <th>25</th>\n",
              "      <th>26</th>\n",
              "      <th>27</th>\n",
              "      <th>28</th>\n",
              "      <th>29</th>\n",
              "      <th>30</th>\n",
              "      <th>31</th>\n",
              "      <th>32</th>\n",
              "      <th>33</th>\n",
              "      <th>34</th>\n",
              "      <th>35</th>\n",
              "      <th>36</th>\n",
              "      <th>37</th>\n",
              "      <th>38</th>\n",
              "      <th>39</th>\n",
              "      <th>...</th>\n",
              "      <th>60</th>\n",
              "      <th>61</th>\n",
              "      <th>62</th>\n",
              "      <th>63</th>\n",
              "      <th>64</th>\n",
              "      <th>65</th>\n",
              "      <th>66</th>\n",
              "      <th>67</th>\n",
              "      <th>68</th>\n",
              "      <th>69</th>\n",
              "      <th>70</th>\n",
              "      <th>71</th>\n",
              "      <th>72</th>\n",
              "      <th>73</th>\n",
              "      <th>74</th>\n",
              "      <th>75</th>\n",
              "      <th>76</th>\n",
              "      <th>77</th>\n",
              "      <th>78</th>\n",
              "      <th>79</th>\n",
              "      <th>80</th>\n",
              "      <th>81</th>\n",
              "      <th>82</th>\n",
              "      <th>83</th>\n",
              "      <th>84</th>\n",
              "      <th>85</th>\n",
              "      <th>86</th>\n",
              "      <th>87</th>\n",
              "      <th>88</th>\n",
              "      <th>89</th>\n",
              "      <th>90</th>\n",
              "      <th>91</th>\n",
              "      <th>92</th>\n",
              "      <th>93</th>\n",
              "      <th>94</th>\n",
              "      <th>95</th>\n",
              "      <th>96</th>\n",
              "      <th>97</th>\n",
              "      <th>98</th>\n",
              "      <th>99</th>\n",
              "    </tr>\n",
              "  </thead>\n",
              "  <tbody>\n",
              "    <tr>\n",
              "      <th>putz</th>\n",
              "      <td>0.008577</td>\n",
              "      <td>-0.005522</td>\n",
              "      <td>-0.013510</td>\n",
              "      <td>0.001406</td>\n",
              "      <td>0.018808</td>\n",
              "      <td>0.006063</td>\n",
              "      <td>0.000997</td>\n",
              "      <td>-0.012913</td>\n",
              "      <td>-0.009613</td>\n",
              "      <td>-0.012184</td>\n",
              "      <td>-0.002645</td>\n",
              "      <td>-0.003134</td>\n",
              "      <td>0.003945</td>\n",
              "      <td>0.022076</td>\n",
              "      <td>0.001826</td>\n",
              "      <td>-0.006829</td>\n",
              "      <td>0.021292</td>\n",
              "      <td>0.004561</td>\n",
              "      <td>0.006778</td>\n",
              "      <td>0.010260</td>\n",
              "      <td>0.017229</td>\n",
              "      <td>-0.006038</td>\n",
              "      <td>0.029883</td>\n",
              "      <td>0.010574</td>\n",
              "      <td>0.012365</td>\n",
              "      <td>0.008992</td>\n",
              "      <td>-0.020122</td>\n",
              "      <td>-0.004222</td>\n",
              "      <td>-0.000909</td>\n",
              "      <td>0.000818</td>\n",
              "      <td>-0.003159</td>\n",
              "      <td>0.001179</td>\n",
              "      <td>-0.007545</td>\n",
              "      <td>-0.011263</td>\n",
              "      <td>0.007678</td>\n",
              "      <td>0.000438</td>\n",
              "      <td>-0.008502</td>\n",
              "      <td>0.007507</td>\n",
              "      <td>-0.009368</td>\n",
              "      <td>0.020990</td>\n",
              "      <td>...</td>\n",
              "      <td>-0.023842</td>\n",
              "      <td>-0.010158</td>\n",
              "      <td>0.023073</td>\n",
              "      <td>-0.001701</td>\n",
              "      <td>0.001797</td>\n",
              "      <td>0.008789</td>\n",
              "      <td>0.004563</td>\n",
              "      <td>0.006143</td>\n",
              "      <td>-0.001172</td>\n",
              "      <td>0.009731</td>\n",
              "      <td>0.001680</td>\n",
              "      <td>0.013776</td>\n",
              "      <td>-0.010302</td>\n",
              "      <td>-0.004682</td>\n",
              "      <td>-0.017196</td>\n",
              "      <td>0.007319</td>\n",
              "      <td>-0.009076</td>\n",
              "      <td>0.000296</td>\n",
              "      <td>0.010907</td>\n",
              "      <td>-0.000236</td>\n",
              "      <td>0.015438</td>\n",
              "      <td>0.000621</td>\n",
              "      <td>0.005591</td>\n",
              "      <td>0.020530</td>\n",
              "      <td>0.010985</td>\n",
              "      <td>0.009970</td>\n",
              "      <td>-0.003591</td>\n",
              "      <td>0.000251</td>\n",
              "      <td>-0.029562</td>\n",
              "      <td>-0.016584</td>\n",
              "      <td>0.000430</td>\n",
              "      <td>0.014794</td>\n",
              "      <td>0.004065</td>\n",
              "      <td>-0.000490</td>\n",
              "      <td>-0.008985</td>\n",
              "      <td>-0.017983</td>\n",
              "      <td>-0.005586</td>\n",
              "      <td>0.006301</td>\n",
              "      <td>0.016389</td>\n",
              "      <td>0.002384</td>\n",
              "    </tr>\n",
              "    <tr>\n",
              "      <th>knee-cap</th>\n",
              "      <td>0.021866</td>\n",
              "      <td>-0.004196</td>\n",
              "      <td>0.003514</td>\n",
              "      <td>0.003269</td>\n",
              "      <td>0.019884</td>\n",
              "      <td>0.008177</td>\n",
              "      <td>0.013714</td>\n",
              "      <td>-0.010123</td>\n",
              "      <td>-0.002684</td>\n",
              "      <td>0.000794</td>\n",
              "      <td>-0.004803</td>\n",
              "      <td>-0.001548</td>\n",
              "      <td>0.007418</td>\n",
              "      <td>0.012263</td>\n",
              "      <td>0.010904</td>\n",
              "      <td>-0.006890</td>\n",
              "      <td>0.016061</td>\n",
              "      <td>-0.006950</td>\n",
              "      <td>0.031813</td>\n",
              "      <td>0.018029</td>\n",
              "      <td>0.001731</td>\n",
              "      <td>0.012857</td>\n",
              "      <td>0.019139</td>\n",
              "      <td>0.014897</td>\n",
              "      <td>0.030771</td>\n",
              "      <td>0.001034</td>\n",
              "      <td>-0.017802</td>\n",
              "      <td>-0.010283</td>\n",
              "      <td>-0.009917</td>\n",
              "      <td>-0.014994</td>\n",
              "      <td>-0.003220</td>\n",
              "      <td>-0.001164</td>\n",
              "      <td>0.001065</td>\n",
              "      <td>-0.003619</td>\n",
              "      <td>0.008634</td>\n",
              "      <td>0.003704</td>\n",
              "      <td>0.012399</td>\n",
              "      <td>-0.005363</td>\n",
              "      <td>-0.003517</td>\n",
              "      <td>0.008827</td>\n",
              "      <td>...</td>\n",
              "      <td>0.010731</td>\n",
              "      <td>0.001291</td>\n",
              "      <td>-0.003805</td>\n",
              "      <td>-0.008598</td>\n",
              "      <td>-0.005464</td>\n",
              "      <td>0.002080</td>\n",
              "      <td>-0.011965</td>\n",
              "      <td>0.000974</td>\n",
              "      <td>-0.005749</td>\n",
              "      <td>0.002722</td>\n",
              "      <td>-0.018995</td>\n",
              "      <td>0.004414</td>\n",
              "      <td>-0.037357</td>\n",
              "      <td>0.008706</td>\n",
              "      <td>0.001850</td>\n",
              "      <td>0.003960</td>\n",
              "      <td>-0.007337</td>\n",
              "      <td>0.006630</td>\n",
              "      <td>0.002926</td>\n",
              "      <td>0.027901</td>\n",
              "      <td>0.008823</td>\n",
              "      <td>0.014973</td>\n",
              "      <td>0.006352</td>\n",
              "      <td>0.003023</td>\n",
              "      <td>-0.010952</td>\n",
              "      <td>-0.000786</td>\n",
              "      <td>-0.007913</td>\n",
              "      <td>-0.015672</td>\n",
              "      <td>-0.017176</td>\n",
              "      <td>-0.005141</td>\n",
              "      <td>-0.020586</td>\n",
              "      <td>0.024874</td>\n",
              "      <td>0.010718</td>\n",
              "      <td>-0.029710</td>\n",
              "      <td>0.008675</td>\n",
              "      <td>-0.004794</td>\n",
              "      <td>0.008759</td>\n",
              "      <td>0.007809</td>\n",
              "      <td>0.020296</td>\n",
              "      <td>0.014591</td>\n",
              "    </tr>\n",
              "    <tr>\n",
              "      <th>sperged</th>\n",
              "      <td>0.008177</td>\n",
              "      <td>-0.028605</td>\n",
              "      <td>-0.029320</td>\n",
              "      <td>-0.010114</td>\n",
              "      <td>-0.016247</td>\n",
              "      <td>0.002413</td>\n",
              "      <td>0.029512</td>\n",
              "      <td>-0.008324</td>\n",
              "      <td>-0.001254</td>\n",
              "      <td>0.014387</td>\n",
              "      <td>-0.015143</td>\n",
              "      <td>0.010662</td>\n",
              "      <td>0.006320</td>\n",
              "      <td>-0.005269</td>\n",
              "      <td>0.008767</td>\n",
              "      <td>-0.015648</td>\n",
              "      <td>-0.003015</td>\n",
              "      <td>0.003613</td>\n",
              "      <td>0.020388</td>\n",
              "      <td>-0.018053</td>\n",
              "      <td>-0.002310</td>\n",
              "      <td>0.018965</td>\n",
              "      <td>0.012847</td>\n",
              "      <td>0.015405</td>\n",
              "      <td>0.024207</td>\n",
              "      <td>-0.024135</td>\n",
              "      <td>-0.010364</td>\n",
              "      <td>-0.017408</td>\n",
              "      <td>-0.016696</td>\n",
              "      <td>-0.004538</td>\n",
              "      <td>0.009249</td>\n",
              "      <td>0.004475</td>\n",
              "      <td>-0.023841</td>\n",
              "      <td>0.011338</td>\n",
              "      <td>0.004454</td>\n",
              "      <td>-0.002938</td>\n",
              "      <td>0.008121</td>\n",
              "      <td>-0.000702</td>\n",
              "      <td>-0.011320</td>\n",
              "      <td>0.017191</td>\n",
              "      <td>...</td>\n",
              "      <td>-0.009259</td>\n",
              "      <td>0.011677</td>\n",
              "      <td>-0.027344</td>\n",
              "      <td>-0.022359</td>\n",
              "      <td>0.002734</td>\n",
              "      <td>-0.005680</td>\n",
              "      <td>-0.013384</td>\n",
              "      <td>0.028056</td>\n",
              "      <td>-0.012604</td>\n",
              "      <td>0.018646</td>\n",
              "      <td>-0.019567</td>\n",
              "      <td>-0.008802</td>\n",
              "      <td>0.002433</td>\n",
              "      <td>0.009566</td>\n",
              "      <td>0.012553</td>\n",
              "      <td>-0.000028</td>\n",
              "      <td>-0.013045</td>\n",
              "      <td>0.018931</td>\n",
              "      <td>-0.004031</td>\n",
              "      <td>0.004171</td>\n",
              "      <td>-0.001603</td>\n",
              "      <td>0.003635</td>\n",
              "      <td>0.012009</td>\n",
              "      <td>-0.014016</td>\n",
              "      <td>0.014158</td>\n",
              "      <td>0.005945</td>\n",
              "      <td>-0.008543</td>\n",
              "      <td>-0.004313</td>\n",
              "      <td>-0.018162</td>\n",
              "      <td>0.002078</td>\n",
              "      <td>-0.017284</td>\n",
              "      <td>-0.016496</td>\n",
              "      <td>0.007802</td>\n",
              "      <td>-0.016122</td>\n",
              "      <td>0.000313</td>\n",
              "      <td>0.011463</td>\n",
              "      <td>-0.016099</td>\n",
              "      <td>-0.001463</td>\n",
              "      <td>0.015381</td>\n",
              "      <td>-0.003592</td>\n",
              "    </tr>\n",
              "    <tr>\n",
              "      <th>statments</th>\n",
              "      <td>-0.018562</td>\n",
              "      <td>-0.034474</td>\n",
              "      <td>0.016745</td>\n",
              "      <td>-0.011081</td>\n",
              "      <td>0.010430</td>\n",
              "      <td>0.012509</td>\n",
              "      <td>0.029811</td>\n",
              "      <td>-0.002235</td>\n",
              "      <td>-0.006685</td>\n",
              "      <td>0.012417</td>\n",
              "      <td>-0.008422</td>\n",
              "      <td>0.004019</td>\n",
              "      <td>-0.005334</td>\n",
              "      <td>0.007435</td>\n",
              "      <td>-0.002738</td>\n",
              "      <td>-0.016348</td>\n",
              "      <td>0.014268</td>\n",
              "      <td>-0.013038</td>\n",
              "      <td>0.011805</td>\n",
              "      <td>0.017686</td>\n",
              "      <td>0.001225</td>\n",
              "      <td>-0.001939</td>\n",
              "      <td>0.005977</td>\n",
              "      <td>0.001079</td>\n",
              "      <td>0.019602</td>\n",
              "      <td>0.008569</td>\n",
              "      <td>-0.025127</td>\n",
              "      <td>-0.024928</td>\n",
              "      <td>-0.021971</td>\n",
              "      <td>-0.014987</td>\n",
              "      <td>0.003587</td>\n",
              "      <td>-0.009377</td>\n",
              "      <td>0.005898</td>\n",
              "      <td>0.001813</td>\n",
              "      <td>0.006100</td>\n",
              "      <td>-0.000519</td>\n",
              "      <td>0.004178</td>\n",
              "      <td>-0.001676</td>\n",
              "      <td>-0.015525</td>\n",
              "      <td>0.004121</td>\n",
              "      <td>...</td>\n",
              "      <td>0.012496</td>\n",
              "      <td>-0.006532</td>\n",
              "      <td>-0.008794</td>\n",
              "      <td>-0.010172</td>\n",
              "      <td>0.016029</td>\n",
              "      <td>-0.019995</td>\n",
              "      <td>0.013724</td>\n",
              "      <td>-0.001913</td>\n",
              "      <td>-0.019119</td>\n",
              "      <td>0.016529</td>\n",
              "      <td>-0.038817</td>\n",
              "      <td>-0.005619</td>\n",
              "      <td>-0.029921</td>\n",
              "      <td>0.021111</td>\n",
              "      <td>-0.005507</td>\n",
              "      <td>-0.004556</td>\n",
              "      <td>-0.018854</td>\n",
              "      <td>-0.036330</td>\n",
              "      <td>-0.014383</td>\n",
              "      <td>0.025672</td>\n",
              "      <td>0.010402</td>\n",
              "      <td>0.024583</td>\n",
              "      <td>-0.004106</td>\n",
              "      <td>0.008087</td>\n",
              "      <td>0.013378</td>\n",
              "      <td>-0.028009</td>\n",
              "      <td>-0.013208</td>\n",
              "      <td>-0.017670</td>\n",
              "      <td>-0.012439</td>\n",
              "      <td>-0.000241</td>\n",
              "      <td>-0.008065</td>\n",
              "      <td>0.027719</td>\n",
              "      <td>0.014411</td>\n",
              "      <td>0.005145</td>\n",
              "      <td>-0.000585</td>\n",
              "      <td>0.026835</td>\n",
              "      <td>-0.002605</td>\n",
              "      <td>-0.013255</td>\n",
              "      <td>0.023445</td>\n",
              "      <td>0.004503</td>\n",
              "    </tr>\n",
              "    <tr>\n",
              "      <th>marvelverse</th>\n",
              "      <td>-0.007671</td>\n",
              "      <td>-0.032245</td>\n",
              "      <td>0.006168</td>\n",
              "      <td>-0.015753</td>\n",
              "      <td>0.009642</td>\n",
              "      <td>-0.023567</td>\n",
              "      <td>0.015112</td>\n",
              "      <td>-0.017086</td>\n",
              "      <td>-0.004867</td>\n",
              "      <td>-0.021952</td>\n",
              "      <td>-0.000169</td>\n",
              "      <td>-0.010793</td>\n",
              "      <td>-0.000964</td>\n",
              "      <td>-0.004936</td>\n",
              "      <td>0.000967</td>\n",
              "      <td>-0.000349</td>\n",
              "      <td>-0.012434</td>\n",
              "      <td>-0.008966</td>\n",
              "      <td>0.012626</td>\n",
              "      <td>0.016429</td>\n",
              "      <td>0.001124</td>\n",
              "      <td>-0.017762</td>\n",
              "      <td>0.034426</td>\n",
              "      <td>-0.012496</td>\n",
              "      <td>0.015599</td>\n",
              "      <td>0.020948</td>\n",
              "      <td>0.005841</td>\n",
              "      <td>0.021454</td>\n",
              "      <td>0.005232</td>\n",
              "      <td>-0.001152</td>\n",
              "      <td>-0.010712</td>\n",
              "      <td>-0.003911</td>\n",
              "      <td>-0.011175</td>\n",
              "      <td>0.028814</td>\n",
              "      <td>-0.000701</td>\n",
              "      <td>-0.004001</td>\n",
              "      <td>-0.008471</td>\n",
              "      <td>-0.024165</td>\n",
              "      <td>-0.005619</td>\n",
              "      <td>0.002535</td>\n",
              "      <td>...</td>\n",
              "      <td>-0.007033</td>\n",
              "      <td>-0.001976</td>\n",
              "      <td>-0.019099</td>\n",
              "      <td>-0.033346</td>\n",
              "      <td>-0.020058</td>\n",
              "      <td>-0.003851</td>\n",
              "      <td>0.000515</td>\n",
              "      <td>0.008010</td>\n",
              "      <td>0.001241</td>\n",
              "      <td>-0.005232</td>\n",
              "      <td>-0.022775</td>\n",
              "      <td>0.008869</td>\n",
              "      <td>-0.006399</td>\n",
              "      <td>-0.003326</td>\n",
              "      <td>-0.012982</td>\n",
              "      <td>-0.012458</td>\n",
              "      <td>-0.011222</td>\n",
              "      <td>-0.030333</td>\n",
              "      <td>0.015856</td>\n",
              "      <td>-0.000449</td>\n",
              "      <td>-0.006956</td>\n",
              "      <td>0.015831</td>\n",
              "      <td>-0.004504</td>\n",
              "      <td>0.016739</td>\n",
              "      <td>-0.021764</td>\n",
              "      <td>0.009429</td>\n",
              "      <td>-0.003961</td>\n",
              "      <td>-0.009653</td>\n",
              "      <td>-0.013568</td>\n",
              "      <td>-0.010373</td>\n",
              "      <td>-0.015700</td>\n",
              "      <td>0.029572</td>\n",
              "      <td>0.001196</td>\n",
              "      <td>0.000364</td>\n",
              "      <td>0.000426</td>\n",
              "      <td>0.011556</td>\n",
              "      <td>0.012800</td>\n",
              "      <td>0.002326</td>\n",
              "      <td>-0.003235</td>\n",
              "      <td>0.016142</td>\n",
              "    </tr>\n",
              "    <tr>\n",
              "      <th>...</th>\n",
              "      <td>...</td>\n",
              "      <td>...</td>\n",
              "      <td>...</td>\n",
              "      <td>...</td>\n",
              "      <td>...</td>\n",
              "      <td>...</td>\n",
              "      <td>...</td>\n",
              "      <td>...</td>\n",
              "      <td>...</td>\n",
              "      <td>...</td>\n",
              "      <td>...</td>\n",
              "      <td>...</td>\n",
              "      <td>...</td>\n",
              "      <td>...</td>\n",
              "      <td>...</td>\n",
              "      <td>...</td>\n",
              "      <td>...</td>\n",
              "      <td>...</td>\n",
              "      <td>...</td>\n",
              "      <td>...</td>\n",
              "      <td>...</td>\n",
              "      <td>...</td>\n",
              "      <td>...</td>\n",
              "      <td>...</td>\n",
              "      <td>...</td>\n",
              "      <td>...</td>\n",
              "      <td>...</td>\n",
              "      <td>...</td>\n",
              "      <td>...</td>\n",
              "      <td>...</td>\n",
              "      <td>...</td>\n",
              "      <td>...</td>\n",
              "      <td>...</td>\n",
              "      <td>...</td>\n",
              "      <td>...</td>\n",
              "      <td>...</td>\n",
              "      <td>...</td>\n",
              "      <td>...</td>\n",
              "      <td>...</td>\n",
              "      <td>...</td>\n",
              "      <td>...</td>\n",
              "      <td>...</td>\n",
              "      <td>...</td>\n",
              "      <td>...</td>\n",
              "      <td>...</td>\n",
              "      <td>...</td>\n",
              "      <td>...</td>\n",
              "      <td>...</td>\n",
              "      <td>...</td>\n",
              "      <td>...</td>\n",
              "      <td>...</td>\n",
              "      <td>...</td>\n",
              "      <td>...</td>\n",
              "      <td>...</td>\n",
              "      <td>...</td>\n",
              "      <td>...</td>\n",
              "      <td>...</td>\n",
              "      <td>...</td>\n",
              "      <td>...</td>\n",
              "      <td>...</td>\n",
              "      <td>...</td>\n",
              "      <td>...</td>\n",
              "      <td>...</td>\n",
              "      <td>...</td>\n",
              "      <td>...</td>\n",
              "      <td>...</td>\n",
              "      <td>...</td>\n",
              "      <td>...</td>\n",
              "      <td>...</td>\n",
              "      <td>...</td>\n",
              "      <td>...</td>\n",
              "      <td>...</td>\n",
              "      <td>...</td>\n",
              "      <td>...</td>\n",
              "      <td>...</td>\n",
              "      <td>...</td>\n",
              "      <td>...</td>\n",
              "      <td>...</td>\n",
              "      <td>...</td>\n",
              "      <td>...</td>\n",
              "      <td>...</td>\n",
              "    </tr>\n",
              "    <tr>\n",
              "      <th>Hard</th>\n",
              "      <td>0.018641</td>\n",
              "      <td>-0.214918</td>\n",
              "      <td>0.085045</td>\n",
              "      <td>-0.158322</td>\n",
              "      <td>0.253063</td>\n",
              "      <td>0.781223</td>\n",
              "      <td>0.384761</td>\n",
              "      <td>-0.414503</td>\n",
              "      <td>0.342367</td>\n",
              "      <td>0.146429</td>\n",
              "      <td>0.221549</td>\n",
              "      <td>0.845113</td>\n",
              "      <td>-0.038903</td>\n",
              "      <td>0.643782</td>\n",
              "      <td>-0.512609</td>\n",
              "      <td>0.511259</td>\n",
              "      <td>-0.147496</td>\n",
              "      <td>-0.057509</td>\n",
              "      <td>0.089887</td>\n",
              "      <td>0.253235</td>\n",
              "      <td>0.443074</td>\n",
              "      <td>-0.248234</td>\n",
              "      <td>0.605051</td>\n",
              "      <td>0.687525</td>\n",
              "      <td>1.018330</td>\n",
              "      <td>-0.159497</td>\n",
              "      <td>0.040663</td>\n",
              "      <td>-0.207236</td>\n",
              "      <td>0.057737</td>\n",
              "      <td>0.090278</td>\n",
              "      <td>0.085541</td>\n",
              "      <td>-0.339849</td>\n",
              "      <td>-0.043231</td>\n",
              "      <td>-0.639671</td>\n",
              "      <td>0.372299</td>\n",
              "      <td>-0.270170</td>\n",
              "      <td>0.119673</td>\n",
              "      <td>-0.297763</td>\n",
              "      <td>0.170730</td>\n",
              "      <td>0.167507</td>\n",
              "      <td>...</td>\n",
              "      <td>0.190279</td>\n",
              "      <td>-0.327367</td>\n",
              "      <td>-0.391079</td>\n",
              "      <td>-0.075494</td>\n",
              "      <td>-0.203183</td>\n",
              "      <td>0.004570</td>\n",
              "      <td>0.124741</td>\n",
              "      <td>-0.468147</td>\n",
              "      <td>-0.147155</td>\n",
              "      <td>0.408900</td>\n",
              "      <td>-0.333188</td>\n",
              "      <td>-0.581818</td>\n",
              "      <td>-0.617550</td>\n",
              "      <td>0.534397</td>\n",
              "      <td>-0.151298</td>\n",
              "      <td>0.065254</td>\n",
              "      <td>-0.074791</td>\n",
              "      <td>-0.291342</td>\n",
              "      <td>0.132190</td>\n",
              "      <td>0.658189</td>\n",
              "      <td>0.247373</td>\n",
              "      <td>0.484265</td>\n",
              "      <td>-0.543633</td>\n",
              "      <td>-0.060820</td>\n",
              "      <td>-0.000048</td>\n",
              "      <td>-0.271813</td>\n",
              "      <td>-0.663907</td>\n",
              "      <td>-0.297966</td>\n",
              "      <td>-0.378070</td>\n",
              "      <td>-0.338036</td>\n",
              "      <td>-0.437093</td>\n",
              "      <td>0.790152</td>\n",
              "      <td>-0.197319</td>\n",
              "      <td>-0.805051</td>\n",
              "      <td>-0.279260</td>\n",
              "      <td>-0.247288</td>\n",
              "      <td>0.507274</td>\n",
              "      <td>0.350357</td>\n",
              "      <td>1.069520</td>\n",
              "      <td>0.201683</td>\n",
              "    </tr>\n",
              "    <tr>\n",
              "      <th>famous</th>\n",
              "      <td>0.339357</td>\n",
              "      <td>0.010570</td>\n",
              "      <td>0.021478</td>\n",
              "      <td>0.088000</td>\n",
              "      <td>-0.031084</td>\n",
              "      <td>0.242130</td>\n",
              "      <td>0.342438</td>\n",
              "      <td>-0.208670</td>\n",
              "      <td>-0.199567</td>\n",
              "      <td>-0.272680</td>\n",
              "      <td>-0.496777</td>\n",
              "      <td>0.426513</td>\n",
              "      <td>-0.274784</td>\n",
              "      <td>0.143631</td>\n",
              "      <td>-0.433748</td>\n",
              "      <td>0.408072</td>\n",
              "      <td>0.082901</td>\n",
              "      <td>-0.230729</td>\n",
              "      <td>0.697530</td>\n",
              "      <td>-0.392957</td>\n",
              "      <td>-0.075300</td>\n",
              "      <td>0.351732</td>\n",
              "      <td>-0.215879</td>\n",
              "      <td>0.417728</td>\n",
              "      <td>0.066459</td>\n",
              "      <td>0.284398</td>\n",
              "      <td>0.031959</td>\n",
              "      <td>0.230125</td>\n",
              "      <td>-0.557113</td>\n",
              "      <td>0.214119</td>\n",
              "      <td>-0.425730</td>\n",
              "      <td>-0.352109</td>\n",
              "      <td>-0.064274</td>\n",
              "      <td>-0.466754</td>\n",
              "      <td>0.038982</td>\n",
              "      <td>-0.678337</td>\n",
              "      <td>0.508958</td>\n",
              "      <td>0.135196</td>\n",
              "      <td>-0.069246</td>\n",
              "      <td>0.090429</td>\n",
              "      <td>...</td>\n",
              "      <td>-0.196464</td>\n",
              "      <td>-0.202371</td>\n",
              "      <td>-0.286689</td>\n",
              "      <td>-0.130708</td>\n",
              "      <td>-0.653737</td>\n",
              "      <td>-0.558118</td>\n",
              "      <td>0.261264</td>\n",
              "      <td>0.312259</td>\n",
              "      <td>0.164178</td>\n",
              "      <td>0.525897</td>\n",
              "      <td>-0.100980</td>\n",
              "      <td>0.415656</td>\n",
              "      <td>-0.623921</td>\n",
              "      <td>0.230811</td>\n",
              "      <td>-0.170453</td>\n",
              "      <td>-0.463056</td>\n",
              "      <td>-0.186509</td>\n",
              "      <td>-0.654056</td>\n",
              "      <td>-0.030886</td>\n",
              "      <td>0.018317</td>\n",
              "      <td>0.045583</td>\n",
              "      <td>0.650753</td>\n",
              "      <td>0.111892</td>\n",
              "      <td>-0.106743</td>\n",
              "      <td>-0.042087</td>\n",
              "      <td>-0.192654</td>\n",
              "      <td>-0.433475</td>\n",
              "      <td>-0.445895</td>\n",
              "      <td>-0.222514</td>\n",
              "      <td>0.206670</td>\n",
              "      <td>0.135864</td>\n",
              "      <td>0.350242</td>\n",
              "      <td>-0.393689</td>\n",
              "      <td>-0.326084</td>\n",
              "      <td>0.190302</td>\n",
              "      <td>0.571939</td>\n",
              "      <td>0.063013</td>\n",
              "      <td>-0.318833</td>\n",
              "      <td>0.875448</td>\n",
              "      <td>0.090676</td>\n",
              "    </tr>\n",
              "    <tr>\n",
              "      <th>dislike</th>\n",
              "      <td>-1.251233</td>\n",
              "      <td>-0.421001</td>\n",
              "      <td>0.357990</td>\n",
              "      <td>-0.119590</td>\n",
              "      <td>0.143431</td>\n",
              "      <td>0.475456</td>\n",
              "      <td>0.406997</td>\n",
              "      <td>0.225714</td>\n",
              "      <td>-0.337699</td>\n",
              "      <td>-0.039322</td>\n",
              "      <td>-0.229949</td>\n",
              "      <td>0.274158</td>\n",
              "      <td>-0.096141</td>\n",
              "      <td>-0.051604</td>\n",
              "      <td>0.044388</td>\n",
              "      <td>-0.344393</td>\n",
              "      <td>0.180812</td>\n",
              "      <td>0.385770</td>\n",
              "      <td>0.761992</td>\n",
              "      <td>0.074113</td>\n",
              "      <td>-0.070450</td>\n",
              "      <td>0.179683</td>\n",
              "      <td>-0.250158</td>\n",
              "      <td>0.305830</td>\n",
              "      <td>0.551195</td>\n",
              "      <td>0.449342</td>\n",
              "      <td>-0.687655</td>\n",
              "      <td>-0.621404</td>\n",
              "      <td>-0.158831</td>\n",
              "      <td>0.108626</td>\n",
              "      <td>-0.216929</td>\n",
              "      <td>-0.036931</td>\n",
              "      <td>-0.321164</td>\n",
              "      <td>0.012858</td>\n",
              "      <td>0.091651</td>\n",
              "      <td>-0.713136</td>\n",
              "      <td>-0.233789</td>\n",
              "      <td>0.525377</td>\n",
              "      <td>-0.253099</td>\n",
              "      <td>-0.229807</td>\n",
              "      <td>...</td>\n",
              "      <td>-0.281985</td>\n",
              "      <td>-0.284673</td>\n",
              "      <td>-0.639103</td>\n",
              "      <td>0.095802</td>\n",
              "      <td>-0.118861</td>\n",
              "      <td>-0.347698</td>\n",
              "      <td>0.301480</td>\n",
              "      <td>-0.137258</td>\n",
              "      <td>-0.004028</td>\n",
              "      <td>-0.397062</td>\n",
              "      <td>-0.250331</td>\n",
              "      <td>-0.290184</td>\n",
              "      <td>0.254745</td>\n",
              "      <td>0.306542</td>\n",
              "      <td>-0.195408</td>\n",
              "      <td>-0.081597</td>\n",
              "      <td>-0.159593</td>\n",
              "      <td>-0.632552</td>\n",
              "      <td>-0.214343</td>\n",
              "      <td>-0.166047</td>\n",
              "      <td>0.700091</td>\n",
              "      <td>0.290601</td>\n",
              "      <td>-0.130780</td>\n",
              "      <td>0.434423</td>\n",
              "      <td>0.048543</td>\n",
              "      <td>0.054168</td>\n",
              "      <td>-0.012449</td>\n",
              "      <td>-0.041629</td>\n",
              "      <td>-0.075002</td>\n",
              "      <td>0.683975</td>\n",
              "      <td>0.168861</td>\n",
              "      <td>0.069648</td>\n",
              "      <td>-0.130313</td>\n",
              "      <td>0.119571</td>\n",
              "      <td>0.219485</td>\n",
              "      <td>0.546296</td>\n",
              "      <td>0.633356</td>\n",
              "      <td>-0.268210</td>\n",
              "      <td>0.083921</td>\n",
              "      <td>0.555972</td>\n",
              "    </tr>\n",
              "    <tr>\n",
              "      <th>audience</th>\n",
              "      <td>0.268075</td>\n",
              "      <td>0.051972</td>\n",
              "      <td>0.351830</td>\n",
              "      <td>0.620049</td>\n",
              "      <td>-0.064403</td>\n",
              "      <td>0.474267</td>\n",
              "      <td>-0.118670</td>\n",
              "      <td>0.238349</td>\n",
              "      <td>0.062947</td>\n",
              "      <td>-0.096656</td>\n",
              "      <td>0.186786</td>\n",
              "      <td>-0.862023</td>\n",
              "      <td>-0.090403</td>\n",
              "      <td>0.186212</td>\n",
              "      <td>-0.423162</td>\n",
              "      <td>0.288588</td>\n",
              "      <td>-0.354917</td>\n",
              "      <td>0.312999</td>\n",
              "      <td>0.494562</td>\n",
              "      <td>0.121337</td>\n",
              "      <td>-0.024826</td>\n",
              "      <td>-0.063751</td>\n",
              "      <td>-0.327192</td>\n",
              "      <td>0.585496</td>\n",
              "      <td>-0.168333</td>\n",
              "      <td>0.170435</td>\n",
              "      <td>0.250167</td>\n",
              "      <td>0.007214</td>\n",
              "      <td>-0.181486</td>\n",
              "      <td>0.279432</td>\n",
              "      <td>0.122695</td>\n",
              "      <td>-0.710807</td>\n",
              "      <td>0.210018</td>\n",
              "      <td>0.104335</td>\n",
              "      <td>0.434378</td>\n",
              "      <td>-0.247517</td>\n",
              "      <td>0.655631</td>\n",
              "      <td>0.340452</td>\n",
              "      <td>-0.749277</td>\n",
              "      <td>0.120204</td>\n",
              "      <td>...</td>\n",
              "      <td>-0.608455</td>\n",
              "      <td>-0.037811</td>\n",
              "      <td>-0.003889</td>\n",
              "      <td>0.027976</td>\n",
              "      <td>-0.418126</td>\n",
              "      <td>0.116004</td>\n",
              "      <td>0.368900</td>\n",
              "      <td>-0.481146</td>\n",
              "      <td>0.339313</td>\n",
              "      <td>0.438455</td>\n",
              "      <td>0.174855</td>\n",
              "      <td>-0.143396</td>\n",
              "      <td>-0.446655</td>\n",
              "      <td>0.174312</td>\n",
              "      <td>-0.650210</td>\n",
              "      <td>-0.198339</td>\n",
              "      <td>-0.640548</td>\n",
              "      <td>-0.628916</td>\n",
              "      <td>-0.226441</td>\n",
              "      <td>-0.024963</td>\n",
              "      <td>0.292494</td>\n",
              "      <td>-0.353970</td>\n",
              "      <td>-0.053848</td>\n",
              "      <td>0.432250</td>\n",
              "      <td>-0.184784</td>\n",
              "      <td>0.350291</td>\n",
              "      <td>-0.048983</td>\n",
              "      <td>-0.262381</td>\n",
              "      <td>-0.007514</td>\n",
              "      <td>-0.612411</td>\n",
              "      <td>-0.933661</td>\n",
              "      <td>0.000354</td>\n",
              "      <td>-0.588258</td>\n",
              "      <td>0.093202</td>\n",
              "      <td>-0.046264</td>\n",
              "      <td>0.846049</td>\n",
              "      <td>0.131679</td>\n",
              "      <td>-0.429428</td>\n",
              "      <td>0.112379</td>\n",
              "      <td>-0.004486</td>\n",
              "    </tr>\n",
              "    <tr>\n",
              "      <th>hat</th>\n",
              "      <td>0.275634</td>\n",
              "      <td>-0.326447</td>\n",
              "      <td>-0.421519</td>\n",
              "      <td>-0.131937</td>\n",
              "      <td>0.201133</td>\n",
              "      <td>0.575595</td>\n",
              "      <td>0.130871</td>\n",
              "      <td>0.208882</td>\n",
              "      <td>-0.231420</td>\n",
              "      <td>-0.623235</td>\n",
              "      <td>-0.154761</td>\n",
              "      <td>-0.020227</td>\n",
              "      <td>-0.163580</td>\n",
              "      <td>0.369019</td>\n",
              "      <td>0.180464</td>\n",
              "      <td>0.121059</td>\n",
              "      <td>-0.000223</td>\n",
              "      <td>0.095513</td>\n",
              "      <td>0.643255</td>\n",
              "      <td>0.262149</td>\n",
              "      <td>-0.316159</td>\n",
              "      <td>-0.012422</td>\n",
              "      <td>1.019260</td>\n",
              "      <td>0.118196</td>\n",
              "      <td>0.273817</td>\n",
              "      <td>0.059529</td>\n",
              "      <td>-0.202490</td>\n",
              "      <td>-0.256587</td>\n",
              "      <td>-0.029874</td>\n",
              "      <td>0.368641</td>\n",
              "      <td>0.123090</td>\n",
              "      <td>-0.704322</td>\n",
              "      <td>-0.046921</td>\n",
              "      <td>-0.140534</td>\n",
              "      <td>0.066837</td>\n",
              "      <td>-0.388306</td>\n",
              "      <td>-0.115311</td>\n",
              "      <td>0.211758</td>\n",
              "      <td>0.136480</td>\n",
              "      <td>0.159922</td>\n",
              "      <td>...</td>\n",
              "      <td>-0.491563</td>\n",
              "      <td>-0.236274</td>\n",
              "      <td>0.109636</td>\n",
              "      <td>-0.165181</td>\n",
              "      <td>-0.124394</td>\n",
              "      <td>0.260779</td>\n",
              "      <td>-0.105084</td>\n",
              "      <td>0.192533</td>\n",
              "      <td>-0.171520</td>\n",
              "      <td>0.080253</td>\n",
              "      <td>0.040858</td>\n",
              "      <td>0.003759</td>\n",
              "      <td>-0.600776</td>\n",
              "      <td>0.276600</td>\n",
              "      <td>-0.549881</td>\n",
              "      <td>-0.050265</td>\n",
              "      <td>-0.503819</td>\n",
              "      <td>0.070869</td>\n",
              "      <td>0.197151</td>\n",
              "      <td>0.559262</td>\n",
              "      <td>0.398559</td>\n",
              "      <td>-0.065428</td>\n",
              "      <td>-0.028417</td>\n",
              "      <td>0.629064</td>\n",
              "      <td>-0.172925</td>\n",
              "      <td>0.475705</td>\n",
              "      <td>-0.081470</td>\n",
              "      <td>-0.233806</td>\n",
              "      <td>-0.618458</td>\n",
              "      <td>-0.426850</td>\n",
              "      <td>-0.359795</td>\n",
              "      <td>0.643906</td>\n",
              "      <td>0.051231</td>\n",
              "      <td>-0.109069</td>\n",
              "      <td>-0.274059</td>\n",
              "      <td>-0.319801</td>\n",
              "      <td>-0.070823</td>\n",
              "      <td>0.505413</td>\n",
              "      <td>0.367284</td>\n",
              "      <td>0.414198</td>\n",
              "    </tr>\n",
              "  </tbody>\n",
              "</table>\n",
              "<p>199931 rows × 100 columns</p>\n",
              "</div>"
            ],
            "text/plain": [
              "                   0         1         2   ...        97        98        99\n",
              "putz         0.008577 -0.005522 -0.013510  ...  0.006301  0.016389  0.002384\n",
              "knee-cap     0.021866 -0.004196  0.003514  ...  0.007809  0.020296  0.014591\n",
              "sperged      0.008177 -0.028605 -0.029320  ... -0.001463  0.015381 -0.003592\n",
              "statments   -0.018562 -0.034474  0.016745  ... -0.013255  0.023445  0.004503\n",
              "marvelverse -0.007671 -0.032245  0.006168  ...  0.002326 -0.003235  0.016142\n",
              "...               ...       ...       ...  ...       ...       ...       ...\n",
              "Hard         0.018641 -0.214918  0.085045  ...  0.350357  1.069520  0.201683\n",
              "famous       0.339357  0.010570  0.021478  ... -0.318833  0.875448  0.090676\n",
              "dislike     -1.251233 -0.421001  0.357990  ... -0.268210  0.083921  0.555972\n",
              "audience     0.268075  0.051972  0.351830  ... -0.429428  0.112379 -0.004486\n",
              "hat          0.275634 -0.326447 -0.421519  ...  0.505413  0.367284  0.414198\n",
              "\n",
              "[199931 rows x 100 columns]"
            ]
          },
          "metadata": {
            "tags": []
          },
          "execution_count": 82
        }
      ]
    },
    {
      "cell_type": "code",
      "metadata": {
        "colab": {
          "base_uri": "https://localhost:8080/"
        },
        "id": "1I_e9wgoQSrY",
        "outputId": "34ebbc6c-08ec-4b00-9041-3361fe728afe"
      },
      "source": [
        "df2.shape"
      ],
      "execution_count": 83,
      "outputs": [
        {
          "output_type": "execute_result",
          "data": {
            "text/plain": [
              "(199931, 23)"
            ]
          },
          "metadata": {
            "tags": []
          },
          "execution_count": 83
        }
      ]
    },
    {
      "cell_type": "code",
      "metadata": {
        "colab": {
          "base_uri": "https://localhost:8080/"
        },
        "id": "hZDs78u0QTvq",
        "outputId": "176eabc6-561e-4988-a204-997789cb4dd8"
      },
      "source": [
        "word_vectors.shape"
      ],
      "execution_count": 84,
      "outputs": [
        {
          "output_type": "execute_result",
          "data": {
            "text/plain": [
              "(199931, 100)"
            ]
          },
          "metadata": {
            "tags": []
          },
          "execution_count": 84
        }
      ]
    },
    {
      "cell_type": "code",
      "metadata": {
        "id": "l_E0t_2dQd3m"
      },
      "source": [
        "df3 = pd.DataFrame(np.hstack([df2,word_vectors]))"
      ],
      "execution_count": 85,
      "outputs": []
    },
    {
      "cell_type": "code",
      "metadata": {
        "colab": {
          "base_uri": "https://localhost:8080/"
        },
        "id": "e-U4508YRRYL",
        "outputId": "ceba02ea-f9cb-42a6-ef21-9a870c20b3e3"
      },
      "source": [
        "df3.shape"
      ],
      "execution_count": 86,
      "outputs": [
        {
          "output_type": "execute_result",
          "data": {
            "text/plain": [
              "(199931, 123)"
            ]
          },
          "metadata": {
            "tags": []
          },
          "execution_count": 86
        }
      ]
    },
    {
      "cell_type": "code",
      "metadata": {
        "colab": {
          "base_uri": "https://localhost:8080/"
        },
        "id": "OSw0GfUgSGVR",
        "outputId": "7423ebd1-adab-4ca6-8a97-a2d13d50b63e"
      },
      "source": [
        "df3.isnull().any().sum()"
      ],
      "execution_count": 87,
      "outputs": [
        {
          "output_type": "execute_result",
          "data": {
            "text/plain": [
              "0"
            ]
          },
          "metadata": {
            "tags": []
          },
          "execution_count": 87
        }
      ]
    },
    {
      "cell_type": "code",
      "metadata": {
        "id": "pFFvGXpoTT_j"
      },
      "source": [
        "column_indices = range(123)\r\n",
        "new_names = df2.columns\r\n",
        "old_names = df3.columns[column_indices]\r\n",
        "df3.rename(columns=dict(zip(old_names, new_names)), inplace=True)"
      ],
      "execution_count": 88,
      "outputs": []
    },
    {
      "cell_type": "code",
      "metadata": {
        "colab": {
          "base_uri": "https://localhost:8080/",
          "height": 313
        },
        "id": "x2KZHB5-T6Ve",
        "outputId": "0322ad9d-d1d8-43dd-e89e-9b1f4e01603e"
      },
      "source": [
        "df3[:2]"
      ],
      "execution_count": 89,
      "outputs": [
        {
          "output_type": "execute_result",
          "data": {
            "text/html": [
              "<div>\n",
              "<style scoped>\n",
              "    .dataframe tbody tr th:only-of-type {\n",
              "        vertical-align: middle;\n",
              "    }\n",
              "\n",
              "    .dataframe tbody tr th {\n",
              "        vertical-align: top;\n",
              "    }\n",
              "\n",
              "    .dataframe thead th {\n",
              "        text-align: right;\n",
              "    }\n",
              "</style>\n",
              "<table border=\"1\" class=\"dataframe\">\n",
              "  <thead>\n",
              "    <tr style=\"text-align: right;\">\n",
              "      <th></th>\n",
              "      <th>body</th>\n",
              "      <th>downs</th>\n",
              "      <th>score</th>\n",
              "      <th>subreddit</th>\n",
              "      <th>gilded</th>\n",
              "      <th>ups</th>\n",
              "      <th>controversiality</th>\n",
              "      <th>created_utc_year</th>\n",
              "      <th>created_utc_month</th>\n",
              "      <th>created_utc_week</th>\n",
              "      <th>created_utc_day</th>\n",
              "      <th>created_utc_hour</th>\n",
              "      <th>created_utc_minute</th>\n",
              "      <th>created_utc_dayofweek</th>\n",
              "      <th>retrieved_on_year</th>\n",
              "      <th>retrieved_on_month</th>\n",
              "      <th>retrieved_on_week</th>\n",
              "      <th>retrieved_on_day</th>\n",
              "      <th>retrieved_on_hour</th>\n",
              "      <th>retrieved_on_minute</th>\n",
              "      <th>retrieved_on_dayofweek</th>\n",
              "      <th>archived_False</th>\n",
              "      <th>score_hidden_True</th>\n",
              "      <th>23</th>\n",
              "      <th>24</th>\n",
              "      <th>25</th>\n",
              "      <th>26</th>\n",
              "      <th>27</th>\n",
              "      <th>28</th>\n",
              "      <th>29</th>\n",
              "      <th>30</th>\n",
              "      <th>31</th>\n",
              "      <th>32</th>\n",
              "      <th>33</th>\n",
              "      <th>34</th>\n",
              "      <th>35</th>\n",
              "      <th>36</th>\n",
              "      <th>37</th>\n",
              "      <th>38</th>\n",
              "      <th>39</th>\n",
              "      <th>...</th>\n",
              "      <th>83</th>\n",
              "      <th>84</th>\n",
              "      <th>85</th>\n",
              "      <th>86</th>\n",
              "      <th>87</th>\n",
              "      <th>88</th>\n",
              "      <th>89</th>\n",
              "      <th>90</th>\n",
              "      <th>91</th>\n",
              "      <th>92</th>\n",
              "      <th>93</th>\n",
              "      <th>94</th>\n",
              "      <th>95</th>\n",
              "      <th>96</th>\n",
              "      <th>97</th>\n",
              "      <th>98</th>\n",
              "      <th>99</th>\n",
              "      <th>100</th>\n",
              "      <th>101</th>\n",
              "      <th>102</th>\n",
              "      <th>103</th>\n",
              "      <th>104</th>\n",
              "      <th>105</th>\n",
              "      <th>106</th>\n",
              "      <th>107</th>\n",
              "      <th>108</th>\n",
              "      <th>109</th>\n",
              "      <th>110</th>\n",
              "      <th>111</th>\n",
              "      <th>112</th>\n",
              "      <th>113</th>\n",
              "      <th>114</th>\n",
              "      <th>115</th>\n",
              "      <th>116</th>\n",
              "      <th>117</th>\n",
              "      <th>118</th>\n",
              "      <th>119</th>\n",
              "      <th>120</th>\n",
              "      <th>121</th>\n",
              "      <th>122</th>\n",
              "    </tr>\n",
              "  </thead>\n",
              "  <tbody>\n",
              "    <tr>\n",
              "      <th>0</th>\n",
              "      <td>Damn near everything belongs to the Lizards.</td>\n",
              "      <td>0</td>\n",
              "      <td>3</td>\n",
              "      <td>skyrim</td>\n",
              "      <td>0</td>\n",
              "      <td>3</td>\n",
              "      <td>0</td>\n",
              "      <td>2015</td>\n",
              "      <td>1</td>\n",
              "      <td>1</td>\n",
              "      <td>1</td>\n",
              "      <td>0</td>\n",
              "      <td>32</td>\n",
              "      <td>3</td>\n",
              "      <td>2015</td>\n",
              "      <td>2</td>\n",
              "      <td>9</td>\n",
              "      <td>28</td>\n",
              "      <td>11</td>\n",
              "      <td>44</td>\n",
              "      <td>5</td>\n",
              "      <td>1</td>\n",
              "      <td>0</td>\n",
              "      <td>0.00857736</td>\n",
              "      <td>-0.00552207</td>\n",
              "      <td>-0.0135102</td>\n",
              "      <td>0.00140602</td>\n",
              "      <td>0.0188077</td>\n",
              "      <td>0.0060634</td>\n",
              "      <td>0.000997408</td>\n",
              "      <td>-0.0129131</td>\n",
              "      <td>-0.00961316</td>\n",
              "      <td>-0.0121843</td>\n",
              "      <td>-0.00264458</td>\n",
              "      <td>-0.00313406</td>\n",
              "      <td>0.00394539</td>\n",
              "      <td>0.0220759</td>\n",
              "      <td>0.00182619</td>\n",
              "      <td>-0.00682927</td>\n",
              "      <td>0.0212922</td>\n",
              "      <td>...</td>\n",
              "      <td>-0.0238421</td>\n",
              "      <td>-0.0101579</td>\n",
              "      <td>0.023073</td>\n",
              "      <td>-0.00170124</td>\n",
              "      <td>0.00179674</td>\n",
              "      <td>0.00878884</td>\n",
              "      <td>0.00456261</td>\n",
              "      <td>0.00614251</td>\n",
              "      <td>-0.00117229</td>\n",
              "      <td>0.0097309</td>\n",
              "      <td>0.00168016</td>\n",
              "      <td>0.0137758</td>\n",
              "      <td>-0.0103018</td>\n",
              "      <td>-0.00468238</td>\n",
              "      <td>-0.0171957</td>\n",
              "      <td>0.00731867</td>\n",
              "      <td>-0.00907582</td>\n",
              "      <td>0.000296474</td>\n",
              "      <td>0.0109068</td>\n",
              "      <td>-0.000236063</td>\n",
              "      <td>0.0154377</td>\n",
              "      <td>0.000620987</td>\n",
              "      <td>0.00559073</td>\n",
              "      <td>0.0205303</td>\n",
              "      <td>0.0109855</td>\n",
              "      <td>0.00996955</td>\n",
              "      <td>-0.00359052</td>\n",
              "      <td>0.000250668</td>\n",
              "      <td>-0.0295619</td>\n",
              "      <td>-0.0165835</td>\n",
              "      <td>0.000429855</td>\n",
              "      <td>0.0147938</td>\n",
              "      <td>0.00406465</td>\n",
              "      <td>-0.000490323</td>\n",
              "      <td>-0.00898508</td>\n",
              "      <td>-0.0179828</td>\n",
              "      <td>-0.00558607</td>\n",
              "      <td>0.00630127</td>\n",
              "      <td>0.0163894</td>\n",
              "      <td>0.0023845</td>\n",
              "    </tr>\n",
              "    <tr>\n",
              "      <th>1</th>\n",
              "      <td>He does, I'd be backing away very slowly...</td>\n",
              "      <td>0</td>\n",
              "      <td>1</td>\n",
              "      <td>pic</td>\n",
              "      <td>0</td>\n",
              "      <td>1</td>\n",
              "      <td>0</td>\n",
              "      <td>2015</td>\n",
              "      <td>1</td>\n",
              "      <td>1</td>\n",
              "      <td>1</td>\n",
              "      <td>1</td>\n",
              "      <td>42</td>\n",
              "      <td>3</td>\n",
              "      <td>2015</td>\n",
              "      <td>2</td>\n",
              "      <td>9</td>\n",
              "      <td>28</td>\n",
              "      <td>11</td>\n",
              "      <td>30</td>\n",
              "      <td>5</td>\n",
              "      <td>1</td>\n",
              "      <td>0</td>\n",
              "      <td>0.0218656</td>\n",
              "      <td>-0.00419581</td>\n",
              "      <td>0.00351368</td>\n",
              "      <td>0.00326876</td>\n",
              "      <td>0.0198837</td>\n",
              "      <td>0.00817681</td>\n",
              "      <td>0.0137135</td>\n",
              "      <td>-0.0101234</td>\n",
              "      <td>-0.00268371</td>\n",
              "      <td>0.000794055</td>\n",
              "      <td>-0.00480321</td>\n",
              "      <td>-0.00154773</td>\n",
              "      <td>0.0074183</td>\n",
              "      <td>0.0122634</td>\n",
              "      <td>0.0109043</td>\n",
              "      <td>-0.00689023</td>\n",
              "      <td>0.0160607</td>\n",
              "      <td>...</td>\n",
              "      <td>0.0107314</td>\n",
              "      <td>0.00129115</td>\n",
              "      <td>-0.0038046</td>\n",
              "      <td>-0.00859764</td>\n",
              "      <td>-0.00546448</td>\n",
              "      <td>0.00208035</td>\n",
              "      <td>-0.0119654</td>\n",
              "      <td>0.000973735</td>\n",
              "      <td>-0.00574891</td>\n",
              "      <td>0.00272188</td>\n",
              "      <td>-0.018995</td>\n",
              "      <td>0.00441382</td>\n",
              "      <td>-0.0373574</td>\n",
              "      <td>0.00870585</td>\n",
              "      <td>0.00184985</td>\n",
              "      <td>0.00396039</td>\n",
              "      <td>-0.00733703</td>\n",
              "      <td>0.00662995</td>\n",
              "      <td>0.00292594</td>\n",
              "      <td>0.0279012</td>\n",
              "      <td>0.00882292</td>\n",
              "      <td>0.0149731</td>\n",
              "      <td>0.00635209</td>\n",
              "      <td>0.00302273</td>\n",
              "      <td>-0.0109516</td>\n",
              "      <td>-0.000785746</td>\n",
              "      <td>-0.00791344</td>\n",
              "      <td>-0.0156716</td>\n",
              "      <td>-0.0171762</td>\n",
              "      <td>-0.00514139</td>\n",
              "      <td>-0.0205856</td>\n",
              "      <td>0.0248743</td>\n",
              "      <td>0.0107181</td>\n",
              "      <td>-0.0297103</td>\n",
              "      <td>0.00867489</td>\n",
              "      <td>-0.00479443</td>\n",
              "      <td>0.00875949</td>\n",
              "      <td>0.00780935</td>\n",
              "      <td>0.0202959</td>\n",
              "      <td>0.0145912</td>\n",
              "    </tr>\n",
              "  </tbody>\n",
              "</table>\n",
              "<p>2 rows × 123 columns</p>\n",
              "</div>"
            ],
            "text/plain": [
              "                                           body downs  ...        121        122\n",
              "0  Damn near everything belongs to the Lizards.     0  ...  0.0163894  0.0023845\n",
              "1   He does, I'd be backing away very slowly...     0  ...  0.0202959  0.0145912\n",
              "\n",
              "[2 rows x 123 columns]"
            ]
          },
          "metadata": {
            "tags": []
          },
          "execution_count": 89
        }
      ]
    },
    {
      "cell_type": "code",
      "metadata": {
        "id": "KegTkVmI28QC"
      },
      "source": [
        "df3.drop(['body','subreddit'],axis=1,inplace=True)"
      ],
      "execution_count": 90,
      "outputs": []
    },
    {
      "cell_type": "code",
      "metadata": {
        "id": "sxxBBFJN6Vzj"
      },
      "source": [
        "df4 = df3"
      ],
      "execution_count": 96,
      "outputs": []
    },
    {
      "cell_type": "markdown",
      "metadata": {
        "id": "ilOFET1G7Afd"
      },
      "source": [
        "### Building Linear Regression"
      ]
    },
    {
      "cell_type": "code",
      "metadata": {
        "id": "YrE2g85g7Fi7"
      },
      "source": [
        "from sklearn.model_selection import train_test_split\r\n",
        "\r\n",
        "from sklearn.linear_model import LinearRegression\r\n",
        "\r\n",
        "from sklearn.neighbors import KNeighborsRegressor\r\n",
        "\r\n",
        "from sklearn.ensemble import RandomForestRegressor"
      ],
      "execution_count": 94,
      "outputs": []
    },
    {
      "cell_type": "code",
      "metadata": {
        "id": "RdBQQgC58cjE"
      },
      "source": [
        "X = df4.drop('ups',axis=1)\r\n",
        "\r\n",
        "y = df4['ups']"
      ],
      "execution_count": 98,
      "outputs": []
    },
    {
      "cell_type": "code",
      "metadata": {
        "id": "BSEK1xrd8YOi"
      },
      "source": [
        "X_train, X_test, y_train, y_test = train_test_split(X,y,random_state=42,test_size=0.3)"
      ],
      "execution_count": 99,
      "outputs": []
    },
    {
      "cell_type": "code",
      "metadata": {
        "colab": {
          "base_uri": "https://localhost:8080/"
        },
        "id": "sduIvImF83oX",
        "outputId": "0b482b11-5e8d-4be8-d856-c91003cd7893"
      },
      "source": [
        "print(f\"Shape of training data is : {X_train.shape} and testing data is : {X_test.shape}\")"
      ],
      "execution_count": 102,
      "outputs": [
        {
          "output_type": "stream",
          "text": [
            "Shape of training data is : (139951, 120) and testing data is : (59980, 120)\n"
          ],
          "name": "stdout"
        }
      ]
    },
    {
      "cell_type": "code",
      "metadata": {
        "id": "t1Ivuj_9874h"
      },
      "source": [
        "lr = LinearRegression().fit(X_train,y_train)"
      ],
      "execution_count": 103,
      "outputs": []
    },
    {
      "cell_type": "code",
      "metadata": {
        "id": "pDkNZYLO9Rd7"
      },
      "source": [
        "lr_pred = lr.predict(X_test)"
      ],
      "execution_count": 105,
      "outputs": []
    },
    {
      "cell_type": "code",
      "metadata": {
        "colab": {
          "base_uri": "https://localhost:8080/"
        },
        "id": "MEWsDUxY9VSD",
        "outputId": "3b561233-fe79-425c-9818-fe9344404c16"
      },
      "source": [
        "lr.score(X_test,y_test)"
      ],
      "execution_count": 106,
      "outputs": [
        {
          "output_type": "execute_result",
          "data": {
            "text/plain": [
              "1.0"
            ]
          },
          "metadata": {
            "tags": []
          },
          "execution_count": 106
        }
      ]
    },
    {
      "cell_type": "code",
      "metadata": {
        "id": "Js4SMggz9a2T"
      },
      "source": [
        "def lr_predict(downs,score,gilded,controversiality):\r\n",
        "  x = np.zeros(len(X.columns))\r\n",
        "  x[0] = downs\r\n",
        "  x[1] = score\r\n",
        "  x[2] = gilded\r\n",
        "  x[3] = controversiality\r\n",
        "\r\n",
        "  return lr.predict([x])[0]\r\n"
      ],
      "execution_count": 127,
      "outputs": []
    },
    {
      "cell_type": "code",
      "metadata": {
        "colab": {
          "base_uri": "https://localhost:8080/"
        },
        "id": "U81mK2zB-rNg",
        "outputId": "74b7ba78-6d79-4d11-c0cf-0605f9e6ca0e"
      },
      "source": [
        "upvotes_predicted = lr_predict(10,150,10,11)\r\n",
        "\r\n",
        "upvotes_predicted.round()"
      ],
      "execution_count": 128,
      "outputs": [
        {
          "output_type": "execute_result",
          "data": {
            "text/plain": [
              "185.0"
            ]
          },
          "metadata": {
            "tags": []
          },
          "execution_count": 128
        }
      ]
    },
    {
      "cell_type": "code",
      "metadata": {
        "colab": {
          "base_uri": "https://localhost:8080/"
        },
        "id": "DE7teu-W-rvK",
        "outputId": "137d7509-4711-439a-d74f-292cee665027"
      },
      "source": [
        "result = lr_predict(100,1,1,1)\r\n",
        "\r\n",
        "print(f\"Upvotes predicted is : {result.round()}\")"
      ],
      "execution_count": 129,
      "outputs": [
        {
          "output_type": "stream",
          "text": [
            "Upvotes predicted is : 36.0\n"
          ],
          "name": "stdout"
        }
      ]
    },
    {
      "cell_type": "code",
      "metadata": {
        "id": "IYEj3PEOAUpY"
      },
      "source": [
        "import pickle"
      ],
      "execution_count": 130,
      "outputs": []
    },
    {
      "cell_type": "code",
      "metadata": {
        "id": "RtRhJvJ0_ydL"
      },
      "source": [
        "with open('linear_model','wb') as f:\r\n",
        "  pickle.dump(lr,f)"
      ],
      "execution_count": 131,
      "outputs": []
    },
    {
      "cell_type": "markdown",
      "metadata": {
        "id": "0isXIL4VAqhy"
      },
      "source": [
        "### Building KNearestNeighbours"
      ]
    },
    {
      "cell_type": "code",
      "metadata": {
        "id": "8v6EYdc_AvlG"
      },
      "source": [
        "knn = KNeighborsRegressor()"
      ],
      "execution_count": 122,
      "outputs": []
    },
    {
      "cell_type": "code",
      "metadata": {
        "colab": {
          "base_uri": "https://localhost:8080/"
        },
        "id": "TEIP1zuYA3e1",
        "outputId": "823133d9-5ccb-44dc-d1ba-2bd9090cbe86"
      },
      "source": [
        "knn.fit(X_train,y_train)"
      ],
      "execution_count": 123,
      "outputs": [
        {
          "output_type": "execute_result",
          "data": {
            "text/plain": [
              "KNeighborsRegressor(algorithm='auto', leaf_size=30, metric='minkowski',\n",
              "                    metric_params=None, n_jobs=None, n_neighbors=5, p=2,\n",
              "                    weights='uniform')"
            ]
          },
          "metadata": {
            "tags": []
          },
          "execution_count": 123
        }
      ]
    },
    {
      "cell_type": "code",
      "metadata": {
        "id": "OqaljFrXA4aN"
      },
      "source": [
        "knn_pred = knn.predict(X_test)"
      ],
      "execution_count": 124,
      "outputs": []
    },
    {
      "cell_type": "code",
      "metadata": {
        "id": "RUbm0coYBE4M"
      },
      "source": [
        "from sklearn.metrics import mean_squared_error"
      ],
      "execution_count": 125,
      "outputs": []
    },
    {
      "cell_type": "code",
      "metadata": {
        "colab": {
          "base_uri": "https://localhost:8080/"
        },
        "id": "Ka9PXrkcBLLV",
        "outputId": "c334307e-fecf-4fa8-e6e7-b2ad5349c5af"
      },
      "source": [
        "mean_squared_error(y_test,knn_pred)"
      ],
      "execution_count": 126,
      "outputs": [
        {
          "output_type": "execute_result",
          "data": {
            "text/plain": [
              "1.4232404134711576"
            ]
          },
          "metadata": {
            "tags": []
          },
          "execution_count": 126
        }
      ]
    },
    {
      "cell_type": "code",
      "metadata": {
        "id": "X9Scuu1DBbUr"
      },
      "source": [
        "def knn_predict(downs,score,gilded,controversiality):\r\n",
        "  x = np.zeros(len(X.columns))\r\n",
        "  x[0] = downs\r\n",
        "  x[1] = score\r\n",
        "  x[2] = gilded\r\n",
        "  x[3] = controversiality\r\n",
        "\r\n",
        "  return knn.predict([x])[0]"
      ],
      "execution_count": 132,
      "outputs": []
    },
    {
      "cell_type": "code",
      "metadata": {
        "colab": {
          "base_uri": "https://localhost:8080/"
        },
        "id": "Dw75JVnuBPWz",
        "outputId": "9a017995-76d7-45f4-ffc4-202fea10f18b"
      },
      "source": [
        "single_pred_knn = knn_predict(10,150,10,11)\r\n",
        "\r\n",
        "single_pred_knn"
      ],
      "execution_count": 135,
      "outputs": [
        {
          "output_type": "execute_result",
          "data": {
            "text/plain": [
              "147.6"
            ]
          },
          "metadata": {
            "tags": []
          },
          "execution_count": 135
        }
      ]
    },
    {
      "cell_type": "code",
      "metadata": {
        "colab": {
          "base_uri": "https://localhost:8080/"
        },
        "id": "9xqTRPgaBrtR",
        "outputId": "e87ba4ab-17e0-4d6f-84c4-4408825eb685"
      },
      "source": [
        "result = knn_predict(100,1,1,1)\r\n",
        "\r\n",
        "print(f\"Upvotes predicted is : {result}\")"
      ],
      "execution_count": 136,
      "outputs": [
        {
          "output_type": "stream",
          "text": [
            "Upvotes predicted is : 1.0\n"
          ],
          "name": "stdout"
        }
      ]
    },
    {
      "cell_type": "code",
      "metadata": {
        "id": "Fkt2ckObB8KN"
      },
      "source": [
        "with open('knn_model','wb') as f:\r\n",
        "  pickle.dump(knn,f)"
      ],
      "execution_count": 137,
      "outputs": []
    },
    {
      "cell_type": "markdown",
      "metadata": {
        "id": "3w6QzeHBCZQc"
      },
      "source": [
        "### Building RandomForest"
      ]
    },
    {
      "cell_type": "code",
      "metadata": {
        "id": "7IML8-WkCjBn"
      },
      "source": [
        "rfr = RandomForestRegressor()"
      ],
      "execution_count": 138,
      "outputs": []
    },
    {
      "cell_type": "code",
      "metadata": {
        "colab": {
          "base_uri": "https://localhost:8080/"
        },
        "id": "X4SEPjSDCvrP",
        "outputId": "5c7dd75d-a88d-4937-d8f5-bc5e8dfa2098"
      },
      "source": [
        "rfr.fit(X_train,y_train)"
      ],
      "execution_count": 139,
      "outputs": [
        {
          "output_type": "execute_result",
          "data": {
            "text/plain": [
              "RandomForestRegressor(bootstrap=True, ccp_alpha=0.0, criterion='mse',\n",
              "                      max_depth=None, max_features='auto', max_leaf_nodes=None,\n",
              "                      max_samples=None, min_impurity_decrease=0.0,\n",
              "                      min_impurity_split=None, min_samples_leaf=1,\n",
              "                      min_samples_split=2, min_weight_fraction_leaf=0.0,\n",
              "                      n_estimators=100, n_jobs=None, oob_score=False,\n",
              "                      random_state=None, verbose=0, warm_start=False)"
            ]
          },
          "metadata": {
            "tags": []
          },
          "execution_count": 139
        }
      ]
    },
    {
      "cell_type": "code",
      "metadata": {
        "id": "ZOcB1EATIMAI"
      },
      "source": [
        "rfr_pred = rfr.predict(X_test)"
      ],
      "execution_count": 148,
      "outputs": []
    },
    {
      "cell_type": "code",
      "metadata": {
        "colab": {
          "base_uri": "https://localhost:8080/"
        },
        "id": "8fcPzyw4C4tU",
        "outputId": "e04af5b3-ca86-4993-8cf6-b8b694cdb484"
      },
      "source": [
        "rfr.score(X_test,y_test)"
      ],
      "execution_count": 141,
      "outputs": [
        {
          "output_type": "execute_result",
          "data": {
            "text/plain": [
              "0.9968516462709167"
            ]
          },
          "metadata": {
            "tags": []
          },
          "execution_count": 141
        }
      ]
    },
    {
      "cell_type": "code",
      "metadata": {
        "id": "FXv61hc-CzV0"
      },
      "source": [
        "def rfr_predict(downs,score,gilded,controversiality):\r\n",
        "  x = np.zeros(len(X.columns))\r\n",
        "  x[0] = downs\r\n",
        "  x[1] = score\r\n",
        "  x[2] = gilded\r\n",
        "  x[3] = controversiality\r\n",
        "\r\n",
        "  return rfr.predict([x])[0]"
      ],
      "execution_count": 143,
      "outputs": []
    },
    {
      "cell_type": "code",
      "metadata": {
        "colab": {
          "base_uri": "https://localhost:8080/"
        },
        "id": "DzJ1cFLZDBGk",
        "outputId": "d388179b-5439-42dc-acab-b9f85cdb2390"
      },
      "source": [
        "single_pred_rfr = rfr_predict(10,150,10,11)\r\n",
        "\r\n",
        "single_pred_rfr"
      ],
      "execution_count": 144,
      "outputs": [
        {
          "output_type": "execute_result",
          "data": {
            "text/plain": [
              "150.1"
            ]
          },
          "metadata": {
            "tags": []
          },
          "execution_count": 144
        }
      ]
    },
    {
      "cell_type": "code",
      "metadata": {
        "colab": {
          "base_uri": "https://localhost:8080/"
        },
        "id": "WVNpZLu-DKmW",
        "outputId": "a8f219aa-8cdf-483c-cf2e-3e62e6a477f4"
      },
      "source": [
        "rfr_result = rfr_predict(100,1,1,1)\r\n",
        "\r\n",
        "print(f\"Upvotes predicted by Random Forest Model is : {rfr_result}\")"
      ],
      "execution_count": 145,
      "outputs": [
        {
          "output_type": "stream",
          "text": [
            "Upvotes predicted by Random Forest Model is : 1.0\n"
          ],
          "name": "stdout"
        }
      ]
    },
    {
      "cell_type": "code",
      "metadata": {
        "id": "rHe4r89gC6OG"
      },
      "source": [
        "from sklearn.metrics import mean_absolute_error"
      ],
      "execution_count": 142,
      "outputs": []
    },
    {
      "cell_type": "code",
      "metadata": {
        "colab": {
          "base_uri": "https://localhost:8080/"
        },
        "id": "nqNiD2HbIBpg",
        "outputId": "7a71aeb0-f91e-4b8b-b21e-7b6fd3128a25"
      },
      "source": [
        "mean_absolute_error(y_test,rfr_pred)"
      ],
      "execution_count": 149,
      "outputs": [
        {
          "output_type": "execute_result",
          "data": {
            "text/plain": [
              "0.022056518839613203"
            ]
          },
          "metadata": {
            "tags": []
          },
          "execution_count": 149
        }
      ]
    },
    {
      "cell_type": "code",
      "metadata": {
        "id": "UtaYBpKyDW8t"
      },
      "source": [
        "with open('rfr_model','wb') as f:\r\n",
        "  pickle.dump(rfr,f)"
      ],
      "execution_count": 146,
      "outputs": []
    }
  ]
}